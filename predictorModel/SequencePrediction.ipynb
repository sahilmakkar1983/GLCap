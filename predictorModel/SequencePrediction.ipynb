{
 "cells": [
  {
   "cell_type": "code",
   "execution_count": null,
   "metadata": {
    "collapsed": false
   },
   "outputs": [],
   "source": [
    "import os\n",
    "import pickle\n",
    "import argparse\n",
    "\n",
    "import gensim\n",
    "from gensim.models import word2vec\n",
    "\n",
    "import numpy as np\n",
    "import pandas as pd\n",
    "from sklearn.model_selection import StratifiedShuffleSplit\n",
    "from sklearn.metrics import accuracy_score\n",
    "from sklearn.metrics import confusion_matrix\n",
    "\n",
    "import nltk\n",
    "from nltk.tokenize import word_tokenize\n",
    "\n",
    "\n",
    "from keras.callbacks import ModelCheckpoint\n",
    "from keras.layers import Dense, Activation\n",
    "from keras.layers import Dropout\n",
    "from keras.layers import Flatten\n",
    "from keras.layers import LSTM, Bidirectional\n",
    "from keras.layers.embeddings import Embedding\n",
    "from keras.models import Sequential\n",
    "from keras.optimizers import Adam\n",
    "from keras.preprocessing import sequence\n",
    "from keras.utils import np_utils\n",
    "from keras.utils import to_categorical\n",
    "#x_train = sequence.pad_sequences(x_train, maxlen=maxlen)\n",
    "from keras import backend as K\n",
    "from keras.callbacks import EarlyStopping\n"
   ]
  },
  {
   "cell_type": "code",
   "execution_count": null,
   "metadata": {
    "collapsed": true
   },
   "outputs": [],
   "source": [
    "a=3\n",
    "a"
   ]
  },
  {
   "cell_type": "code",
   "execution_count": null,
   "metadata": {
    "collapsed": false
   },
   "outputs": [],
   "source": [
    "def sliding_window(df,window_size,window_stride,input_features=None, output_features=None):\n",
    "    #print(df.columns)\n",
    "    #print(df[input_features])\n",
    "    #print(df[input_features].values)\n",
    "    allData = df[input_features].values.tolist()\n",
    "    if output_features:\n",
    "        outputData = [i[0] for i in df[output_features].values.tolist()]\n",
    "    #print(outputData)\n",
    "    myArray = [[]]\n",
    "    outputDataArray = [] \n",
    "    start=0\n",
    "    for i in range(0,len(allData),window_stride):\n",
    "        #print(allData[i:window_size+i])\n",
    "        #print(i)\n",
    "        if i == 0:\n",
    "            myArray = [allData[i:window_size+i]]\n",
    "            if output_features != None:\n",
    "                #outputDataArray.append(outputData[window_size+i][0])\n",
    "                outputDataArray=[outputData[i+window_size-1]]\n",
    "                #print(1,type(outputDataArray))\n",
    "        else:\n",
    "            myArray.append(allData[i:window_size+i])\n",
    "            \n",
    "            if window_size+i >= len(allData):\n",
    "                if output_features != None:\n",
    "                    #print(2,type(outputDataArray))\n",
    "                    outputDataArray.append(outputData[len(allData)-1])\n",
    "                break\n",
    "            if output_features != None:\n",
    "                    #outputDataArray.append(outputData[window_size+i][0])\n",
    "                    #print(3,type(outputDataArray))\n",
    "                    outputDataArray.append(outputData[i+window_size-1])\n",
    "\n",
    "    if output_features == None:\n",
    "            return (np.array(myArray))\n",
    "    #print(outputDataArray)\n",
    "    return (np.array(myArray), outputDataArray)"
   ]
  },
  {
   "cell_type": "code",
   "execution_count": null,
   "metadata": {
    "collapsed": false
   },
   "outputs": [],
   "source": [
    "dateparse = lambda x: pd.datetime.strptime(x, '%d-%m-%Y')\n",
    "df = pd.read_csv(\"/datadrive/Sahil/code/GL/fewTrails/Datasets/GE.csv\", parse_dates=['date'],date_parser=dateparse)\n",
    "\n",
    "\n",
    "df[\"date\"]  = pd.to_datetime(df.date)\n",
    "type(df[\"date\"].iloc[0])\n",
    "df = df.sort_values(by=\"date\")\n",
    "\n",
    "gCount=0\n",
    "def featureTransform(x,len):\n",
    "    global gCount\n",
    "    print(x['close'],gCount)\n",
    "    if gCount == 0:\n",
    "        gCount+=1\n",
    "        return (float(0))\n",
    "    elif gCount < len:\n",
    "        return (0)\n",
    "gCount=0\n",
    "df['close_delta'] = 0\n",
    "df['close_direction'] = 0\n",
    "for index in range(0,df.shape[0]):\n",
    "    #print(index,df.iloc[index]['close'])\n",
    "    if index == 0:\n",
    "        #gCount+=1\n",
    "        df['close_delta'].iloc[index] =  (float(0))\n",
    "        df['close_direction'].iloc[index] =  False\n",
    "    #elif index <= df.shape[0]-1:\n",
    "    else:\n",
    "        df['close_delta'].iloc[index] = ((df['close'].iloc[index] - df['close'].iloc[index-1])/df['close'].iloc[index-1])*100\n",
    "        df['close_direction'].iloc[index] = df['close_delta'].iloc[index] > 1\n",
    "        \n",
    "\n",
    "    \n",
    "gCount=0\n",
    "#df.apply(lambda x: featureTransform(x,df.shape[0]),axis=1)\n",
    "df.shape[0]"
   ]
  },
  {
   "cell_type": "code",
   "execution_count": null,
   "metadata": {
    "collapsed": false
   },
   "outputs": [],
   "source": [
    "df.head(15)"
   ]
  },
  {
   "cell_type": "code",
   "execution_count": null,
   "metadata": {
    "collapsed": false
   },
   "outputs": [],
   "source": [
    "import pandas as pd\n",
    "import numpy as np\n",
    "# Get some time series data\n",
    "#df = pd.read_csv(\"https://raw.githubusercontent.com/plotly/datasets/master/timeseries.csv\")\n",
    "#df['output']=[1,0,1,0,1,0,1,0,1,0,1]"
   ]
  },
  {
   "cell_type": "markdown",
   "metadata": {
    "collapsed": false
   },
   "source": [
    "#df['output']"
   ]
  },
  {
   "cell_type": "code",
   "execution_count": null,
   "metadata": {
    "collapsed": false
   },
   "outputs": [],
   "source": [
    "input_cols = ['curr_ratio','tot_debt_tot_equity', 'oper_profit_margin','asset_turn','ret_equity','sentiment']\n",
    "mydf = df\n",
    "x_train,y_train=sliding_window(mydf,5,1,input_cols,['close_direction'])"
   ]
  },
  {
   "cell_type": "code",
   "execution_count": null,
   "metadata": {
    "collapsed": false
   },
   "outputs": [],
   "source": [
    "x_train"
   ]
  },
  {
   "cell_type": "code",
   "execution_count": null,
   "metadata": {
    "collapsed": false
   },
   "outputs": [],
   "source": [
    "y_train"
   ]
  },
  {
   "cell_type": "code",
   "execution_count": null,
   "metadata": {
    "collapsed": true
   },
   "outputs": [],
   "source": [
    "y_train = np.array(y_train)\n",
    "y_train = np.array(y_train).reshape((-1, 1))\n",
    "y_train = to_categorical(y_train)"
   ]
  },
  {
   "cell_type": "code",
   "execution_count": null,
   "metadata": {
    "collapsed": false
   },
   "outputs": [],
   "source": []
  },
  {
   "cell_type": "code",
   "execution_count": null,
   "metadata": {
    "collapsed": false
   },
   "outputs": [],
   "source": [
    "y_train"
   ]
  },
  {
   "cell_type": "code",
   "execution_count": null,
   "metadata": {
    "collapsed": false
   },
   "outputs": [],
   "source": [
    "model = Sequential()\n",
    "# input_shape = number of time-steps, number-of-features\n",
    "model.add(LSTM(128,input_shape=(5,len(input_shape)),\n",
    "               activation='sigmoid', \n",
    "               inner_activation='hard_sigmoid', \n",
    "               return_sequences=True))\n",
    "model.add(LSTM(128, activation='tanh', recurrent_activation='hard_sigmoid'))\n",
    "#model.add(Activation('sigmoid'))\n",
    "model.add(Dropout(0.2))\n",
    "#model.add(TimeDistributedDense(11))\n",
    "#model.add(Dense(128))\n",
    "model.add(Dense(64, kernel_initializer='uniform', activation='relu'))\n",
    "model.add(Dense(output_dim=2, kernel_initializer='uniform', activation='sigmoid'))\n",
    "#model.add(Activation('sigmoid'))\n",
    "model.compile(loss='categorical_crossentropy', optimizer='rmsprop')"
   ]
  },
  {
   "cell_type": "code",
   "execution_count": null,
   "metadata": {
    "collapsed": false
   },
   "outputs": [],
   "source": [
    "model.summary()"
   ]
  },
  {
   "cell_type": "code",
   "execution_count": null,
   "metadata": {
    "collapsed": false
   },
   "outputs": [],
   "source": [
    "print('Train...')\n",
    "model.fit(x_train, y_train,\n",
    "          batch_size=1,\n",
    "          epochs=5,\n",
    "          validation_data=(x_train, y_train))\n",
    "#score, acc = \n"
   ]
  },
  {
   "cell_type": "code",
   "execution_count": null,
   "metadata": {
    "collapsed": false
   },
   "outputs": [],
   "source": [
    "score = model.evaluate(x_train, y_train,batch_size=1)\n",
    "print()\n",
    "print('Test score:', score)\n",
    "print('Test accuracy:', accuracy_score)"
   ]
  },
  {
   "cell_type": "code",
   "execution_count": null,
   "metadata": {
    "collapsed": false
   },
   "outputs": [],
   "source": [
    "model.predict(x_train)"
   ]
  },
  {
   "cell_type": "code",
   "execution_count": null,
   "metadata": {
    "collapsed": false
   },
   "outputs": [],
   "source": []
  },
  {
   "cell_type": "code",
   "execution_count": null,
   "metadata": {
    "collapsed": false
   },
   "outputs": [],
   "source": []
  },
  {
   "cell_type": "code",
   "execution_count": null,
   "metadata": {
    "collapsed": true
   },
   "outputs": [],
   "source": []
  },
  {
   "cell_type": "code",
   "execution_count": null,
   "metadata": {
    "collapsed": false
   },
   "outputs": [],
   "source": []
  },
  {
   "cell_type": "code",
   "execution_count": null,
   "metadata": {
    "collapsed": false
   },
   "outputs": [],
   "source": []
  },
  {
   "cell_type": "code",
   "execution_count": null,
   "metadata": {
    "collapsed": false
   },
   "outputs": [],
   "source": []
  },
  {
   "cell_type": "code",
   "execution_count": null,
   "metadata": {
    "collapsed": false
   },
   "outputs": [],
   "source": []
  },
  {
   "cell_type": "code",
   "execution_count": null,
   "metadata": {
    "collapsed": false
   },
   "outputs": [],
   "source": []
  },
  {
   "cell_type": "code",
   "execution_count": null,
   "metadata": {
    "collapsed": false
   },
   "outputs": [],
   "source": []
  },
  {
   "cell_type": "code",
   "execution_count": null,
   "metadata": {
    "collapsed": false
   },
   "outputs": [],
   "source": []
  },
  {
   "cell_type": "code",
   "execution_count": null,
   "metadata": {
    "collapsed": false
   },
   "outputs": [],
   "source": []
  },
  {
   "cell_type": "code",
   "execution_count": null,
   "metadata": {
    "collapsed": false
   },
   "outputs": [],
   "source": []
  },
  {
   "cell_type": "code",
   "execution_count": null,
   "metadata": {
    "collapsed": false
   },
   "outputs": [],
   "source": []
  },
  {
   "cell_type": "code",
   "execution_count": null,
   "metadata": {
    "collapsed": false
   },
   "outputs": [],
   "source": [
    "ALL"
   ]
  },
  {
   "cell_type": "code",
   "execution_count": null,
   "metadata": {
    "collapsed": true
   },
   "outputs": [],
   "source": [
    "a=[[[]]]"
   ]
  },
  {
   "cell_type": "code",
   "execution_count": null,
   "metadata": {
    "collapsed": true
   },
   "outputs": [],
   "source": [
    "a[0] = ALL[0:5]"
   ]
  },
  {
   "cell_type": "code",
   "execution_count": null,
   "metadata": {
    "collapsed": true
   },
   "outputs": [],
   "source": [
    "a.append(ALL[1:6])"
   ]
  },
  {
   "cell_type": "code",
   "execution_count": null,
   "metadata": {
    "collapsed": false
   },
   "outputs": [],
   "source": [
    "a"
   ]
  },
  {
   "cell_type": "code",
   "execution_count": null,
   "metadata": {
    "collapsed": false
   },
   "outputs": [],
   "source": [
    "np.array(a)"
   ]
  },
  {
   "cell_type": "code",
   "execution_count": null,
   "metadata": {
    "collapsed": false
   },
   "outputs": [],
   "source": [
    "len(ALL)"
   ]
  },
  {
   "cell_type": "code",
   "execution_count": null,
   "metadata": {
    "collapsed": true
   },
   "outputs": [],
   "source": []
  }
 ],
 "metadata": {
  "anaconda-cloud": {},
  "kernelspec": {
   "display_name": "Python [conda root]",
   "language": "python",
   "name": "conda-root-py"
  },
  "language_info": {
   "codemirror_mode": {
    "name": "ipython",
    "version": 3
   },
   "file_extension": ".py",
   "mimetype": "text/x-python",
   "name": "python",
   "nbconvert_exporter": "python",
   "pygments_lexer": "ipython3",
   "version": "3.5.2"
  }
 },
 "nbformat": 4,
 "nbformat_minor": 1
}
