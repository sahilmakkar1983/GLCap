{
 "cells": [
  {
   "cell_type": "code",
   "execution_count": 474,
   "metadata": {
    "collapsed": false
   },
   "outputs": [],
   "source": [
    "import os\n",
    "import pickle\n",
    "import argparse\n",
    "\n",
    "import gensim\n",
    "from gensim.models import word2vec\n",
    "\n",
    "import numpy as np\n",
    "import pandas as pd\n",
    "from sklearn.model_selection import StratifiedShuffleSplit\n",
    "from sklearn.metrics import accuracy_score\n",
    "from sklearn.metrics import confusion_matrix\n",
    "\n",
    "import nltk\n",
    "from nltk.tokenize import word_tokenize\n",
    "\n",
    "\n",
    "from keras.callbacks import ModelCheckpoint\n",
    "from keras.layers import Dense, Activation\n",
    "from keras.layers import Dropout\n",
    "from keras.layers import Flatten\n",
    "from keras.layers import LSTM, Bidirectional\n",
    "from keras.layers.embeddings import Embedding\n",
    "from keras.models import Sequential\n",
    "from keras.optimizers import Adam\n",
    "from keras.preprocessing import sequence\n",
    "from keras.utils import np_utils\n",
    "from keras.utils import to_categorical\n",
    "#x_train = sequence.pad_sequences(x_train, maxlen=maxlen)\n",
    "from keras import backend as K\n",
    "from keras.callbacks import EarlyStopping\n",
    "\n",
    "from sklearn import preprocessing\n"
   ]
  },
  {
   "cell_type": "code",
   "execution_count": 476,
   "metadata": {
    "collapsed": false
   },
   "outputs": [],
   "source": [
    "def sliding_window(df,window_size,window_stride,input_features=None, output_features=None):\n",
    "    allData = df[input_features].values.tolist()\n",
    "    if output_features:\n",
    "        outputData = [i[0] for i in df[output_features].values.tolist()]\n",
    "    myArray = [[]]\n",
    "    outputDataArray = [] \n",
    "    \n",
    "    start=0\n",
    "    for i in range(0,len(allData),window_stride):\n",
    "        if i == 0:\n",
    "            myArray = [allData[i:window_size+i]]\n",
    "            if output_features != None:\n",
    "                #outputDataArray.append(outputData[window_size+i][0])\n",
    "                outputDataArray=[outputData[i+window_size-1]]\n",
    "                #print(1,type(outputDataArray))\n",
    "        else:\n",
    "            myArray.append(allData[i:window_size+i])\n",
    "            \n",
    "            if window_size+i >= len(allData):\n",
    "                if output_features != None:\n",
    "                    #print(2,type(outputDataArray))\n",
    "                    outputDataArray.append(outputData[len(allData)-1])\n",
    "                break\n",
    "            if output_features != None:\n",
    "                    #outputDataArray.append(outputData[window_size+i][0])\n",
    "                    #print(3,type(outputDataArray))\n",
    "                    outputDataArray.append(outputData[i+window_size-1])\n",
    "\n",
    "    if output_features == None:\n",
    "            return (np.array(myArray))\n",
    "    print(np.shape(np.array(myArray)))\n",
    "    #return (np.array(myArray), outputDataArray)\n",
    "    return (myArray, outputDataArray)\n",
    "\n",
    "def mystratifiedOutputSampler(df, target):\n",
    "    #a = {i:[] for i in df[target].unique()}\n",
    "    xTIndexes = []\n",
    "    minLen = None\n",
    "    #print(a)\n",
    "    for i in df[target].unique():\n",
    "        #a[i] = df.index[df[target] != i].tolist()\n",
    "        a = df.index[df[target] != i].tolist()\n",
    "        print(i,len(a))\n",
    "        if minLen == None or minLen > len(a):\n",
    "            minLen = len(a)\n",
    "    #for i in a.keys():\n",
    "    print(minLen)\n",
    "    for i in df[target].unique():\n",
    "        if not xTIndexes:\n",
    "                print(2)\n",
    "                xTIndexes = list(np.random.choice(df.index[df[target] != i].tolist(), size=minLen, replace=False))\n",
    "        else:\n",
    "            #print(OnlyNeutal)\n",
    "            xTIndexes = xTIndexes + list(np.random.choice(df.index[df[target] != i].tolist(), size=minLen, replace=False))\n",
    "\n",
    "    return (xTIndexes)"
   ]
  },
  {
   "cell_type": "code",
   "execution_count": 625,
   "metadata": {
    "collapsed": false
   },
   "outputs": [],
   "source": [
    "\n",
    "def fileProcessor(csvFile,stockName):\n",
    "    dateparse = lambda x: pd.datetime.strptime(x, '%d-%m-%Y')\n",
    "    df = pd.read_csv(csvFile, parse_dates=['date'],date_parser=dateparse)\n",
    "    #df = pd.read_csv(\"/datadrive/Sahil/code/GL/fewTrails/Datasets/GE.csv\", parse_dates=['date'],date_parser=dateparse)\n",
    "\n",
    "\n",
    "    df[\"date\"]  = pd.to_datetime(df.date)\n",
    "    #type(df[\"date\"].iloc[0])\n",
    "    df = df.sort_values(by=\"date\")\n",
    "\n",
    "    df['close_delta'] = 0\n",
    "    df['close_direction'] = 0\n",
    "    df['Stock_name'] = stockName\n",
    "    for index in range(0,df.shape[0]):\n",
    "        #print(index,df.iloc[index]['close'])\n",
    "        if index == 0:\n",
    "            df['close_delta'].iloc[index] =  (float(0))\n",
    "            df['close_direction'].iloc[index] =  1\n",
    "        #elif index <= df.shape[0]-1:\n",
    "        else:\n",
    "            df['close_delta'].iloc[index] = ((df['close'].iloc[index] - df['close'].iloc[index-1])/df['close'].iloc[index-1])*100\n",
    "            if df['close_delta'].iloc[index] >= 1:\n",
    "                df['close_direction'].iloc[index] = 2\n",
    "            elif df['close_delta'].iloc[index] <= -1:\n",
    "                df['close_direction'].iloc[index] = 0\n",
    "            else:\n",
    "                df['close_direction'].iloc[index] = 1\n",
    "    return (df)\n",
    "'''\n",
    "fileCount = 0\n",
    "import os\n",
    "for root, dirs, files in os.walk(\"/datadrive/Sahil/code/GL/fewTrails/Datasets\"):\n",
    "    for file in files:\n",
    "        if file.endswith(\".csv\"):\n",
    "            print(os.path.join(root, file))\n",
    "            if fileCount == 0:\n",
    "                df = fileProcessor(os.path.join(root, file),file.split('.')[0])\n",
    "            else:\n",
    "                df = df.append(fileProcessor(os.path.join(root, file),file.split('.')[0]))\n",
    "                \n",
    "'''    \n",
    "gCount=0\n",
    "#df.apply(lambda x: featureTransform(x,df.shape[0]),axis=1)\n",
    "#df.shape[0]\n",
    "dateparse = lambda x: pd.datetime.strptime(x, '%Y-%m-%d')\n",
    "csvFile = \"/datadrive/Sahil/code/GL/fewTrails/Datasets/ALL_clean.csv\"\n",
    "df = pd.read_csv(csvFile, parse_dates=['date'],date_parser=dateparse)"
   ]
  },
  {
   "cell_type": "code",
   "execution_count": 628,
   "metadata": {
    "collapsed": false
   },
   "outputs": [
    {
     "name": "stdout",
     "output_type": "stream",
     "text": [
      "1 2693\n",
      "0 7446\n",
      "2 7175\n",
      "2693\n",
      "2\n",
      "(8079, 1, 6)\n",
      "(8079, 1, 6)\n",
      "MCD\n",
      "(1098, 1, 6)\n",
      "GE\n",
      "(1166, 1, 6)\n",
      "<class 'list'> <class 'list'> (1098, 1, 6)\n",
      "BOEING\n",
      "(1243, 1, 6)\n",
      "<class 'list'> <class 'list'> (2264, 1, 6)\n",
      "DISNEY\n",
      "(1166, 1, 6)\n",
      "<class 'list'> <class 'list'> (3507, 1, 6)\n",
      "APPLE\n",
      "(1065, 1, 6)\n",
      "<class 'list'> <class 'list'> (4673, 1, 6)\n",
      "MICROSOFT\n",
      "(1208, 1, 6)\n",
      "<class 'list'> <class 'list'> (5738, 1, 6)\n",
      "IBM\n",
      "(1133, 1, 6)\n",
      "<class 'list'> <class 'list'> (6946, 1, 6)\n"
     ]
    }
   ],
   "source": [
    "window_size = 1\n",
    "input_cols = ['curr_ratio','tot_debt_tot_equity', 'oper_profit_margin','asset_turn','ret_equity','sentiment']\n",
    "\n",
    "input_cols_scale = ['curr_ratio','tot_debt_tot_equity', 'oper_profit_margin','asset_turn','ret_equity',]\n",
    "\n",
    "df = df.dropna().reset_index(drop=True)\n",
    "#df_all.reset_index(drop=True)\n",
    "mydf =  pd.DataFrame(preprocessing.scale(df[input_cols_scale]),columns=input_cols_scale)\n",
    "mydf['sentiment'] = df['sentiment']\n",
    "mydf['close_direction'] = df['close_direction']\n",
    "mydf['Stock_name'] = df['Stock_name']\n",
    "train_indexes = mystratifiedOutputSampler(mydf,'close_direction')\n",
    "mydf = mydf.iloc[train_indexes]\n",
    "\n",
    "x_train,y_train=sliding_window(mydf,window_size,1,input_cols,['close_direction'])\n",
    "x_train = np.array(x_train)\n",
    "print(np.shape(x_train))\n",
    "for index,stock in enumerate(mydf['Stock_name'].unique()):\n",
    "    print(stock)\n",
    "    if index == 0:\n",
    "        x_train,y_train=sliding_window(mydf[mydf['Stock_name'] == stock],window_size,1,input_cols,['close_direction'])\n",
    "    else:\n",
    "        x_,y_=sliding_window(mydf[mydf['Stock_name'] == stock],window_size,1,input_cols,['close_direction'])\n",
    "        print(type(x_train),type(x_),np.shape(x_train))\n",
    "        x_train = x_train + x_\n",
    "        y_train = y_train + y_\n",
    "x_train = np.array(x_train)\n",
    "#y_train = np.array(y_train)"
   ]
  },
  {
   "cell_type": "code",
   "execution_count": 631,
   "metadata": {
    "collapsed": false
   },
   "outputs": [],
   "source": [
    "y_train1 = np.array(y_train)\n",
    "y_train1 = np.array(y_train1).reshape((-1, 1))\n",
    "#y_train = to_categorical(y_train)\n",
    "\n",
    "from sklearn.preprocessing import OneHotEncoder\n",
    "onehot_encoder = OneHotEncoder(sparse=False)\n",
    "#integer_encoded = integer_encoded.reshape(len(integer_encoded), 1)\n",
    "y_train = onehot_encoder.fit_transform(y_train1)"
   ]
  },
  {
   "cell_type": "code",
   "execution_count": 632,
   "metadata": {
    "collapsed": false
   },
   "outputs": [
    {
     "data": {
      "text/plain": [
       "3"
      ]
     },
     "execution_count": 632,
     "metadata": {},
     "output_type": "execute_result"
    }
   ],
   "source": [
    "np.shape(y_train)[1]\n",
    "#onehot_encoder.transform(y_train1[0]).tolist()[0]\n",
    "#for i in onehot_encoder.transform(y_train1):\n",
    "#    print(i)"
   ]
  },
  {
   "cell_type": "code",
   "execution_count": 633,
   "metadata": {
    "collapsed": false
   },
   "outputs": [],
   "source": [
    "from sklearn.model_selection import train_test_split\n",
    "\n",
    "def getBalancedSamples(x_train,proportionBYNonNeutal=.7,neutalProportionToOther=.7):\n",
    "    #proportionBYNonNeutal = .7\n",
    "    #neutalProportionToOther = .7\n",
    "    AllWithAnyOtherThanNeutal = []\n",
    "    OnlyNeutal=[]\n",
    "    #for index,i in enumerate(x_train[1:500,:,:]):\n",
    "    for index,i in enumerate(x_train[:,:,:]):\n",
    "        #print()\n",
    "        #print(i)\n",
    "        #print(i[:,5])\n",
    "        if 1 in i[:,5] or 2 in i[:,5] or 4 in i[:,5] or 5 in i[:,5]  :\n",
    "            #print(\"TRUE\")\n",
    "            if not AllWithAnyOtherThanNeutal:\n",
    "                AllWithAnyOtherThanNeutal = [index]\n",
    "            else:\n",
    "                AllWithAnyOtherThanNeutal.append(index)\n",
    "        else:\n",
    "            if not OnlyNeutal:\n",
    "                print(2)\n",
    "                OnlyNeutal = [index]\n",
    "            else:\n",
    "                #print(OnlyNeutal)\n",
    "                OnlyNeutal.append(index)\n",
    "    print (len(AllWithAnyOtherThanNeutal))\n",
    "    print (len(OnlyNeutal))\n",
    "    #AllWithAnyOtherThanNeutal[np.random.randint(0,100,size=20)]\n",
    "    proportion = .7\n",
    "    size = int(round(proportion*len(AllWithAnyOtherThanNeutal),0))\n",
    "    print(size)\n",
    "    #xTIndexesPart1 = [AllWithAnyOtherThanNeutal[i] for i in list(np.random.randint(0,100,size=size))]\n",
    "    #xTIndexesPart2 = [OnlyNeutal[i] for i in list(np.random.randint(0,100,size=int(round(size*.7)))) ]\n",
    "    #print(len(xTIndexesPart1),len(xTIndexesPart2))\n",
    "    #xTIndexes = AllWithAnyOtherThanNeutal + OnlyNeutal\n",
    "    \n",
    "    #X_train, X_test, y_train, y_test = train_test_split(x_train[xTIndexes,:,:], y[xTIndexes], test_size=0.2)\n",
    "    xTIndexesPart1 = list(np.random.choice(AllWithAnyOtherThanNeutal, size=size, replace=False))\n",
    "    xTIndexesPart2 = list(np.random.choice(OnlyNeutal, size=int(round(size*.7)), replace=False))\n",
    "    xTIndexes = xTIndexesPart1 + xTIndexesPart2\n",
    "    print(len(xTIndexes))\n",
    "    xTIndexesPart1 = list(np.random.choice(xTIndexes, size=len(xTIndexes), replace=False))\n",
    "    #xTIndexes = np.sort(xTIndexes)\n",
    "    return(xTIndexes)\n"
   ]
  },
  {
   "cell_type": "code",
   "execution_count": 634,
   "metadata": {
    "collapsed": false
   },
   "outputs": [
    {
     "data": {
      "text/plain": [
       "array([1, 0, 2])"
      ]
     },
     "execution_count": 634,
     "metadata": {},
     "output_type": "execute_result"
    }
   ],
   "source": [
    "df['close_direction'].unique()"
   ]
  },
  {
   "cell_type": "code",
   "execution_count": 635,
   "metadata": {
    "collapsed": false
   },
   "outputs": [],
   "source": [
    "#train_indexes = mystratifiedOutputSampler(df,'close_direction')"
   ]
  },
  {
   "cell_type": "code",
   "execution_count": 636,
   "metadata": {
    "collapsed": false
   },
   "outputs": [
    {
     "name": "stdout",
     "output_type": "stream",
     "text": [
      "2782\n",
      "1772 7044\n"
     ]
    }
   ],
   "source": [
    "#onehot_encoded[0:30]\n",
    "print(len(a))\n",
    "print(len(AllWithAnyOtherThanNeutal), len(OnlyNeutal))"
   ]
  },
  {
   "cell_type": "code",
   "execution_count": 637,
   "metadata": {
    "collapsed": false
   },
   "outputs": [],
   "source": [
    "#train_indexes = getBalancedSamples(x_train)"
   ]
  },
  {
   "cell_type": "code",
   "execution_count": 638,
   "metadata": {
    "collapsed": false
   },
   "outputs": [
    {
     "name": "stdout",
     "output_type": "stream",
     "text": [
      "2\n",
      "481\n",
      "7598\n",
      "337\n",
      "573\n"
     ]
    },
    {
     "data": {
      "text/plain": [
       "array([[ 0.,  0.,  1.],\n",
       "       [ 0.,  1.,  0.],\n",
       "       [ 0.,  0.,  1.],\n",
       "       ..., \n",
       "       [ 0.,  0.,  1.],\n",
       "       [ 1.,  0.,  0.],\n",
       "       [ 1.,  0.,  0.]])"
      ]
     },
     "execution_count": 638,
     "metadata": {},
     "output_type": "execute_result"
    }
   ],
   "source": [
    "#y_train\n",
    "train_indexes = getBalancedSamples(x_train)\n",
    "X_train = x_train[train_indexes]\n",
    "Y_train = y_train[train_indexes]\n",
    "\n",
    "#X_train = x_train\n",
    "#Y_train = y_train\n",
    "Y_train"
   ]
  },
  {
   "cell_type": "code",
   "execution_count": 640,
   "metadata": {
    "collapsed": false
   },
   "outputs": [
    {
     "name": "stderr",
     "output_type": "stream",
     "text": [
      "/home/mygpu/anaconda3/lib/python3.5/site-packages/ipykernel/__main__.py:6: UserWarning: Update your `LSTM` call to the Keras 2 API: `LSTM(128, activation=\"softsign\", return_sequences=True, input_shape=(1, 6), recurrent_activation=\"hard_sigmoid\")`\n",
      "/home/mygpu/anaconda3/lib/python3.5/site-packages/ipykernel/__main__.py:18: UserWarning: Update your `Dense` call to the Keras 2 API: `Dense(activation=\"softmax\", units=3)`\n"
     ]
    }
   ],
   "source": [
    "model = Sequential()\n",
    "# input_shape = number of time-steps, number-of-features\n",
    "model.add(LSTM(128,input_shape=(window_size,len(input_cols)),\n",
    "               activation='softsign', \n",
    "               inner_activation='hard_sigmoid', \n",
    "               return_sequences=True))\n",
    "model.add(LSTM(128, activation='softsign', recurrent_activation='hard_sigmoid'))\n",
    "#model.add(Activation('sigmoid'))\n",
    "model.add(Dropout(0.5))\n",
    "#model.add(TimeDistributedDense(11))\n",
    "#model.add(Dense(128))\n",
    "model.add(Dense(128,activation='tanh'))\n",
    "#model.add(Dropout(0.5))\n",
    "model.add(Dense(64, activation='tanh'))\n",
    "#model.add(Dropout(0.2))\n",
    "model.add(Dense(32, activation='tanh'))\n",
    "#model.add(Dropout(0.2))\n",
    "model.add(Dense(output_dim=np.shape(y_train)[1], activation='softmax'))\n",
    "#model.add(Activation('sigmoid'))\n",
    "model.compile(loss='categorical_crossentropy', optimizer='rmsprop')"
   ]
  },
  {
   "cell_type": "code",
   "execution_count": 641,
   "metadata": {
    "collapsed": false
   },
   "outputs": [
    {
     "name": "stdout",
     "output_type": "stream",
     "text": [
      "_________________________________________________________________\n",
      "Layer (type)                 Output Shape              Param #   \n",
      "=================================================================\n",
      "lstm_59 (LSTM)               (None, 1, 128)            69120     \n",
      "_________________________________________________________________\n",
      "lstm_60 (LSTM)               (None, 128)               131584    \n",
      "_________________________________________________________________\n",
      "dropout_50 (Dropout)         (None, 128)               0         \n",
      "_________________________________________________________________\n",
      "dense_104 (Dense)            (None, 128)               16512     \n",
      "_________________________________________________________________\n",
      "dense_105 (Dense)            (None, 64)                8256      \n",
      "_________________________________________________________________\n",
      "dense_106 (Dense)            (None, 32)                2080      \n",
      "_________________________________________________________________\n",
      "dense_107 (Dense)            (None, 3)                 99        \n",
      "=================================================================\n",
      "Total params: 227,651\n",
      "Trainable params: 227,651\n",
      "Non-trainable params: 0\n",
      "_________________________________________________________________\n"
     ]
    }
   ],
   "source": [
    "model.summary()"
   ]
  },
  {
   "cell_type": "code",
   "execution_count": 642,
   "metadata": {
    "collapsed": false
   },
   "outputs": [
    {
     "name": "stdout",
     "output_type": "stream",
     "text": [
      "Train...\n",
      "Train on 573 samples, validate on 573 samples\n",
      "Epoch 1/5\n",
      "573/573 [==============================] - 8s - loss: 1.0983 - val_loss: 1.0899\n",
      "Epoch 2/5\n",
      "573/573 [==============================] - 6s - loss: 1.0828 - val_loss: 1.0556\n",
      "Epoch 3/5\n",
      "573/573 [==============================] - 6s - loss: 1.0686 - val_loss: 1.0404\n",
      "Epoch 4/5\n",
      "573/573 [==============================] - 6s - loss: 1.0491 - val_loss: 0.9974\n",
      "Epoch 5/5\n",
      "573/573 [==============================] - 6s - loss: 1.0275 - val_loss: 0.9685\n"
     ]
    },
    {
     "data": {
      "text/plain": [
       "<keras.callbacks.History at 0x7fd77a49c978>"
      ]
     },
     "execution_count": 642,
     "metadata": {},
     "output_type": "execute_result"
    }
   ],
   "source": [
    "print('Train...')\n",
    "model.fit(X_train, Y_train,\n",
    "          batch_size=1,\n",
    "          epochs=5,\n",
    "          validation_data=(X_train, Y_train))\n",
    "#score, acc = \n"
   ]
  },
  {
   "cell_type": "code",
   "execution_count": 643,
   "metadata": {
    "collapsed": false
   },
   "outputs": [
    {
     "name": "stdout",
     "output_type": "stream",
     "text": [
      "558/573 [============================>.] - ETA: 0s\n",
      "Test score: 0.968456945546\n",
      "[[ 0.2302704   0.52216446  0.24756512]\n",
      " [ 0.21386819  0.62846506  0.15766674]\n",
      " [ 0.11151202  0.19101492  0.69747311]\n",
      " ..., \n",
      " [ 0.20812508  0.60959494  0.18227994]\n",
      " [ 0.17636201  0.35002598  0.47361198]\n",
      " [ 0.21279116  0.44756529  0.33964354]]\n"
     ]
    }
   ],
   "source": [
    "score = model.evaluate(X_train, Y_train,batch_size=1)\n",
    "print()\n",
    "print('Test score:', score)\n",
    "print(model.predict(X_train))\n",
    "#print('Test accuracy:', confusion_matrix(Y_train,model.predict_classes(X_train)))"
   ]
  },
  {
   "cell_type": "code",
   "execution_count": 644,
   "metadata": {
    "collapsed": false
   },
   "outputs": [
    {
     "name": "stdout",
     "output_type": "stream",
     "text": [
      "573/573 [==============================] - 0s     \n"
     ]
    }
   ],
   "source": [
    "#model.predict(x_train)\n",
    "a = model.predict_classes(X_train)"
   ]
  },
  {
   "cell_type": "code",
   "execution_count": 645,
   "metadata": {
    "collapsed": false
   },
   "outputs": [
    {
     "data": {
      "text/plain": [
       "array([1, 1, 2, 1, 1, 1, 1, 0, 0, 2, 0, 1, 1, 2, 0, 0, 2, 0, 1, 0, 1, 1, 1,\n",
       "       2, 1, 1, 1, 0, 1, 2, 2, 1, 0, 0, 0, 1, 2, 0, 1, 1, 1, 2, 1, 2, 1, 0,\n",
       "       2, 2, 2, 1, 0, 0, 1, 1, 0, 2, 2, 1, 0, 1, 1, 1, 2, 0, 0, 1, 1, 1, 1,\n",
       "       2, 2, 1, 1, 2, 1, 2, 1, 1, 0, 1, 1, 2, 1, 1, 1, 1, 1, 1, 2, 1, 0, 2,\n",
       "       1, 1, 1, 0, 1, 1, 1, 0, 1, 2, 1, 0, 1, 1, 1, 1, 1, 1, 0, 0, 1, 1, 0,\n",
       "       1, 2, 1, 1, 0, 0, 2, 2, 0, 1, 1, 1, 1, 2, 1, 0, 1, 2, 1, 2, 1, 1, 1,\n",
       "       1, 0, 2, 1, 2, 0, 1, 1, 1, 0, 2, 1, 2, 1, 1, 1, 1, 1, 0, 2, 1, 2, 2,\n",
       "       1, 2, 1, 1, 1, 0, 1, 2, 0, 1, 1, 1, 1, 1, 1, 1, 1, 1, 1, 0, 2, 0, 1,\n",
       "       1, 1, 2, 1, 1, 1, 0, 1, 1, 0, 1, 1, 1, 1, 1, 1, 2, 2, 2, 1, 1, 1, 1,\n",
       "       1, 2, 1, 1, 1, 1, 1, 0, 1, 1, 0, 2, 1, 1, 1, 1, 2, 1, 1, 0, 0, 0, 1,\n",
       "       2, 2, 2, 1, 1, 1, 1, 1, 1, 1, 1, 1, 1, 1, 2, 2, 1, 2, 1, 0, 1, 2, 0,\n",
       "       1, 1, 1, 1, 1, 1, 1, 1, 0, 0, 1, 0, 0, 2, 1, 0, 1, 1, 2, 1, 1, 1, 0,\n",
       "       1, 1, 1, 1, 1, 1, 0, 1, 0, 1, 1, 1, 1, 1, 1, 0, 1, 1, 1, 2, 1, 1, 0,\n",
       "       2, 2, 1, 0, 1, 1, 1, 2, 1, 0, 0, 1, 1, 0, 0, 2, 1, 1, 2, 2, 2, 2, 0,\n",
       "       0, 1, 2, 1, 2, 0, 2, 1, 1, 1, 1, 1, 1, 2, 1, 1, 1, 2, 1, 1, 1, 1, 1,\n",
       "       2, 1, 1, 2, 1, 1, 1, 1, 2, 1, 1, 2, 2, 1, 1, 1, 2, 2, 1, 1, 1, 1, 2,\n",
       "       1, 1, 1, 1, 1, 2, 2, 1, 1, 1, 1, 1, 1, 1, 2, 1, 1, 2, 1, 1, 2, 1, 1,\n",
       "       1, 2, 1, 1, 1, 1, 1, 1, 1, 1, 1, 1, 2, 1, 1, 1, 1, 2, 2, 1, 2, 1, 2,\n",
       "       2, 1, 2, 1, 2, 1, 1, 1, 1, 1, 2, 1, 1, 1, 1, 1, 1, 1, 1, 2, 1, 1, 1,\n",
       "       2, 1, 1, 2, 1, 2, 1, 1, 1, 1, 1, 1, 1, 1, 1, 1, 1, 1, 2, 1, 1, 1, 1,\n",
       "       1, 1, 1, 2, 1, 1, 2, 1, 1, 1, 2, 1, 1, 1, 1, 1, 1, 1, 2, 1, 1, 1, 1,\n",
       "       1, 2, 2, 1, 1, 1, 2, 1, 1, 1, 2, 2, 2, 1, 1, 1, 1, 1, 1, 2, 1, 1, 1,\n",
       "       1, 2, 1, 2, 1, 1, 1, 1, 1, 1, 1, 1, 1, 1, 1, 1, 1, 2, 1, 1, 2, 1, 1,\n",
       "       1, 1, 1, 1, 2, 2, 1, 2, 1, 1, 1, 1, 1, 1, 1, 1, 1, 2, 1, 2, 1, 1, 1,\n",
       "       2, 1, 1, 1, 2, 1, 1, 1, 2, 1, 1, 2, 1, 1, 1, 1, 1, 1, 1, 2, 1])"
      ]
     },
     "execution_count": 645,
     "metadata": {},
     "output_type": "execute_result"
    }
   ],
   "source": [
    "b = set(a)\n",
    "a"
   ]
  },
  {
   "cell_type": "code",
   "execution_count": 646,
   "metadata": {
    "collapsed": false
   },
   "outputs": [],
   "source": [
    "y_train\n",
    "#list(y_train1)\n",
    "#onehot_encoder = OneHotEncoder(sparse=False)\n",
    "onehot_encoder.active_features_\n",
    "labels = Y_train.dot(onehot_encoder.active_features_).astype(int)"
   ]
  },
  {
   "cell_type": "code",
   "execution_count": 648,
   "metadata": {
    "collapsed": false
   },
   "outputs": [
    {
     "data": {
      "text/plain": [
       "array([2, 1, 2, 1, 2, 1, 1, 2, 0, 1, 0, 0, 2, 2, 0, 0, 2, 0, 2, 0, 1, 1, 1,\n",
       "       2, 1, 0, 1, 0, 1, 2, 2, 2, 0, 1, 0, 0, 1, 2, 2, 1, 1, 2, 1, 2, 1, 1,\n",
       "       2, 2, 2, 1, 0, 0, 2, 2, 0, 2, 2, 0, 0, 1, 1, 1, 0, 1, 0, 0, 0, 1, 1,\n",
       "       2, 2, 2, 2, 2, 1, 1, 0, 2, 1, 1, 1, 1, 1, 1, 1, 2, 1, 0, 2, 1, 1, 1,\n",
       "       2, 1, 1, 0, 0, 1, 2, 2, 1, 2, 1, 0, 2, 1, 0, 1, 1, 2, 0, 1, 1, 1, 0,\n",
       "       0, 2, 1, 0, 0, 0, 2, 2, 0, 0, 2, 1, 0, 2, 2, 0, 1, 1, 2, 1, 1, 2, 1,\n",
       "       1, 0, 2, 1, 2, 0, 1, 2, 1, 0, 2, 0, 2, 0, 1, 1, 1, 2, 0, 2, 1, 2, 1,\n",
       "       1, 2, 2, 1, 2, 0, 1, 0, 0, 1, 0, 0, 2, 1, 2, 0, 2, 1, 1, 0, 2, 0, 1,\n",
       "       1, 1, 2, 2, 1, 2, 0, 0, 1, 0, 1, 0, 2, 1, 1, 1, 0, 2, 0, 2, 1, 1, 2,\n",
       "       0, 2, 1, 1, 0, 0, 2, 1, 0, 1, 0, 1, 0, 0, 1, 1, 0, 0, 2, 0, 0, 1, 1,\n",
       "       0, 2, 2, 1, 0, 0, 2, 1, 1, 2, 0, 2, 2, 1, 1, 2, 0, 0, 1, 0, 0, 2, 0,\n",
       "       1, 1, 1, 0, 1, 2, 1, 2, 0, 0, 1, 2, 0, 2, 2, 2, 1, 1, 2, 2, 1, 0, 1,\n",
       "       1, 1, 0, 2, 0, 1, 1, 1, 0, 0, 0, 1, 1, 1, 2, 0, 1, 1, 2, 2, 1, 1, 0,\n",
       "       2, 2, 1, 0, 0, 0, 1, 2, 2, 0, 0, 2, 0, 0, 0, 2, 0, 0, 2, 0, 0, 1, 0,\n",
       "       0, 1, 2, 1, 1, 0, 1, 0, 1, 1, 1, 0, 2, 0, 1, 1, 2, 0, 0, 1, 2, 2, 1,\n",
       "       1, 2, 1, 2, 1, 2, 0, 1, 2, 2, 1, 2, 2, 0, 2, 0, 0, 1, 1, 1, 0, 1, 2,\n",
       "       2, 1, 1, 1, 1, 2, 1, 1, 0, 1, 0, 1, 1, 1, 2, 0, 2, 1, 2, 2, 1, 1, 1,\n",
       "       1, 1, 1, 1, 1, 1, 0, 1, 0, 2, 0, 0, 0, 2, 1, 2, 0, 1, 2, 2, 1, 1, 1,\n",
       "       2, 1, 1, 1, 0, 0, 2, 1, 2, 0, 2, 1, 1, 1, 1, 1, 1, 1, 2, 1, 1, 2, 0,\n",
       "       0, 1, 1, 1, 2, 2, 1, 0, 1, 1, 1, 1, 2, 1, 2, 2, 1, 0, 2, 0, 2, 2, 2,\n",
       "       0, 1, 1, 2, 0, 1, 2, 0, 2, 0, 1, 1, 2, 1, 0, 1, 1, 1, 2, 1, 2, 2, 1,\n",
       "       1, 0, 1, 1, 1, 1, 0, 1, 1, 1, 1, 1, 1, 1, 2, 0, 2, 1, 1, 1, 1, 1, 1,\n",
       "       1, 1, 2, 1, 0, 2, 0, 1, 1, 0, 2, 1, 2, 1, 2, 1, 2, 0, 2, 2, 2, 1, 1,\n",
       "       0, 1, 0, 1, 2, 2, 1, 0, 0, 1, 2, 2, 1, 0, 1, 2, 0, 2, 2, 1, 2, 0, 1,\n",
       "       1, 0, 1, 2, 0, 2, 0, 1, 1, 2, 0, 2, 2, 2, 1, 1, 2, 1, 2, 0, 0])"
      ]
     },
     "execution_count": 648,
     "metadata": {},
     "output_type": "execute_result"
    }
   ],
   "source": [
    "labels"
   ]
  },
  {
   "cell_type": "code",
   "execution_count": 665,
   "metadata": {
    "collapsed": false
   },
   "outputs": [],
   "source": [
    "output = pd.DataFrame(columns=['predicted','actual'])\n",
    "output['predicted'] = a.tolist()\n",
    "output['actual'] = labels.tolist()\n",
    "output['Stock'] = list(mydf['Stock_name'].iloc[train_indexes])\n",
    "output['Sentiment'] = list(mydf['sentiment'].iloc[train_indexes])"
   ]
  },
  {
   "cell_type": "code",
   "execution_count": 666,
   "metadata": {
    "collapsed": false
   },
   "outputs": [
    {
     "data": {
      "text/html": [
       "<div>\n",
       "<table border=\"1\" class=\"dataframe\">\n",
       "  <thead>\n",
       "    <tr style=\"text-align: right;\">\n",
       "      <th></th>\n",
       "      <th>predicted</th>\n",
       "      <th>actual</th>\n",
       "      <th>Stock</th>\n",
       "      <th>Sentiment</th>\n",
       "    </tr>\n",
       "  </thead>\n",
       "  <tbody>\n",
       "    <tr>\n",
       "      <th>0</th>\n",
       "      <td>1</td>\n",
       "      <td>2</td>\n",
       "      <td>APPLE</td>\n",
       "      <td>3</td>\n",
       "    </tr>\n",
       "    <tr>\n",
       "      <th>1</th>\n",
       "      <td>1</td>\n",
       "      <td>1</td>\n",
       "      <td>IBM</td>\n",
       "      <td>3</td>\n",
       "    </tr>\n",
       "    <tr>\n",
       "      <th>2</th>\n",
       "      <td>2</td>\n",
       "      <td>2</td>\n",
       "      <td>GE</td>\n",
       "      <td>4</td>\n",
       "    </tr>\n",
       "    <tr>\n",
       "      <th>3</th>\n",
       "      <td>1</td>\n",
       "      <td>1</td>\n",
       "      <td>IBM</td>\n",
       "      <td>3</td>\n",
       "    </tr>\n",
       "    <tr>\n",
       "      <th>4</th>\n",
       "      <td>1</td>\n",
       "      <td>2</td>\n",
       "      <td>BOEING</td>\n",
       "      <td>3</td>\n",
       "    </tr>\n",
       "    <tr>\n",
       "      <th>5</th>\n",
       "      <td>1</td>\n",
       "      <td>1</td>\n",
       "      <td>MCD</td>\n",
       "      <td>3</td>\n",
       "    </tr>\n",
       "    <tr>\n",
       "      <th>6</th>\n",
       "      <td>1</td>\n",
       "      <td>1</td>\n",
       "      <td>APPLE</td>\n",
       "      <td>4</td>\n",
       "    </tr>\n",
       "    <tr>\n",
       "      <th>7</th>\n",
       "      <td>0</td>\n",
       "      <td>2</td>\n",
       "      <td>MCD</td>\n",
       "      <td>3</td>\n",
       "    </tr>\n",
       "    <tr>\n",
       "      <th>8</th>\n",
       "      <td>0</td>\n",
       "      <td>0</td>\n",
       "      <td>APPLE</td>\n",
       "      <td>3</td>\n",
       "    </tr>\n",
       "    <tr>\n",
       "      <th>9</th>\n",
       "      <td>2</td>\n",
       "      <td>1</td>\n",
       "      <td>MICROSOFT</td>\n",
       "      <td>3</td>\n",
       "    </tr>\n",
       "    <tr>\n",
       "      <th>10</th>\n",
       "      <td>0</td>\n",
       "      <td>0</td>\n",
       "      <td>BOEING</td>\n",
       "      <td>3</td>\n",
       "    </tr>\n",
       "    <tr>\n",
       "      <th>11</th>\n",
       "      <td>1</td>\n",
       "      <td>0</td>\n",
       "      <td>MCD</td>\n",
       "      <td>3</td>\n",
       "    </tr>\n",
       "    <tr>\n",
       "      <th>12</th>\n",
       "      <td>1</td>\n",
       "      <td>2</td>\n",
       "      <td>DISNEY</td>\n",
       "      <td>3</td>\n",
       "    </tr>\n",
       "    <tr>\n",
       "      <th>13</th>\n",
       "      <td>2</td>\n",
       "      <td>2</td>\n",
       "      <td>DISNEY</td>\n",
       "      <td>3</td>\n",
       "    </tr>\n",
       "    <tr>\n",
       "      <th>14</th>\n",
       "      <td>0</td>\n",
       "      <td>0</td>\n",
       "      <td>GE</td>\n",
       "      <td>3</td>\n",
       "    </tr>\n",
       "    <tr>\n",
       "      <th>15</th>\n",
       "      <td>0</td>\n",
       "      <td>0</td>\n",
       "      <td>BOEING</td>\n",
       "      <td>3</td>\n",
       "    </tr>\n",
       "    <tr>\n",
       "      <th>16</th>\n",
       "      <td>2</td>\n",
       "      <td>2</td>\n",
       "      <td>GE</td>\n",
       "      <td>2</td>\n",
       "    </tr>\n",
       "    <tr>\n",
       "      <th>17</th>\n",
       "      <td>0</td>\n",
       "      <td>0</td>\n",
       "      <td>MICROSOFT</td>\n",
       "      <td>3</td>\n",
       "    </tr>\n",
       "    <tr>\n",
       "      <th>18</th>\n",
       "      <td>1</td>\n",
       "      <td>2</td>\n",
       "      <td>BOEING</td>\n",
       "      <td>3</td>\n",
       "    </tr>\n",
       "    <tr>\n",
       "      <th>19</th>\n",
       "      <td>0</td>\n",
       "      <td>0</td>\n",
       "      <td>IBM</td>\n",
       "      <td>3</td>\n",
       "    </tr>\n",
       "    <tr>\n",
       "      <th>20</th>\n",
       "      <td>1</td>\n",
       "      <td>1</td>\n",
       "      <td>IBM</td>\n",
       "      <td>3</td>\n",
       "    </tr>\n",
       "    <tr>\n",
       "      <th>21</th>\n",
       "      <td>1</td>\n",
       "      <td>1</td>\n",
       "      <td>MICROSOFT</td>\n",
       "      <td>3</td>\n",
       "    </tr>\n",
       "    <tr>\n",
       "      <th>22</th>\n",
       "      <td>1</td>\n",
       "      <td>1</td>\n",
       "      <td>IBM</td>\n",
       "      <td>3</td>\n",
       "    </tr>\n",
       "    <tr>\n",
       "      <th>23</th>\n",
       "      <td>2</td>\n",
       "      <td>2</td>\n",
       "      <td>IBM</td>\n",
       "      <td>3</td>\n",
       "    </tr>\n",
       "    <tr>\n",
       "      <th>24</th>\n",
       "      <td>1</td>\n",
       "      <td>1</td>\n",
       "      <td>APPLE</td>\n",
       "      <td>3</td>\n",
       "    </tr>\n",
       "    <tr>\n",
       "      <th>25</th>\n",
       "      <td>1</td>\n",
       "      <td>0</td>\n",
       "      <td>MCD</td>\n",
       "      <td>3</td>\n",
       "    </tr>\n",
       "    <tr>\n",
       "      <th>26</th>\n",
       "      <td>1</td>\n",
       "      <td>1</td>\n",
       "      <td>BOEING</td>\n",
       "      <td>3</td>\n",
       "    </tr>\n",
       "    <tr>\n",
       "      <th>27</th>\n",
       "      <td>0</td>\n",
       "      <td>0</td>\n",
       "      <td>GE</td>\n",
       "      <td>3</td>\n",
       "    </tr>\n",
       "    <tr>\n",
       "      <th>28</th>\n",
       "      <td>1</td>\n",
       "      <td>1</td>\n",
       "      <td>DISNEY</td>\n",
       "      <td>3</td>\n",
       "    </tr>\n",
       "    <tr>\n",
       "      <th>29</th>\n",
       "      <td>2</td>\n",
       "      <td>2</td>\n",
       "      <td>APPLE</td>\n",
       "      <td>3</td>\n",
       "    </tr>\n",
       "    <tr>\n",
       "      <th>...</th>\n",
       "      <td>...</td>\n",
       "      <td>...</td>\n",
       "      <td>...</td>\n",
       "      <td>...</td>\n",
       "    </tr>\n",
       "    <tr>\n",
       "      <th>543</th>\n",
       "      <td>1</td>\n",
       "      <td>1</td>\n",
       "      <td>MICROSOFT</td>\n",
       "      <td>3</td>\n",
       "    </tr>\n",
       "    <tr>\n",
       "      <th>544</th>\n",
       "      <td>1</td>\n",
       "      <td>2</td>\n",
       "      <td>MICROSOFT</td>\n",
       "      <td>3</td>\n",
       "    </tr>\n",
       "    <tr>\n",
       "      <th>545</th>\n",
       "      <td>1</td>\n",
       "      <td>0</td>\n",
       "      <td>BOEING</td>\n",
       "      <td>3</td>\n",
       "    </tr>\n",
       "    <tr>\n",
       "      <th>546</th>\n",
       "      <td>2</td>\n",
       "      <td>2</td>\n",
       "      <td>BOEING</td>\n",
       "      <td>3</td>\n",
       "    </tr>\n",
       "    <tr>\n",
       "      <th>547</th>\n",
       "      <td>1</td>\n",
       "      <td>2</td>\n",
       "      <td>BOEING</td>\n",
       "      <td>3</td>\n",
       "    </tr>\n",
       "    <tr>\n",
       "      <th>548</th>\n",
       "      <td>2</td>\n",
       "      <td>1</td>\n",
       "      <td>IBM</td>\n",
       "      <td>3</td>\n",
       "    </tr>\n",
       "    <tr>\n",
       "      <th>549</th>\n",
       "      <td>1</td>\n",
       "      <td>2</td>\n",
       "      <td>BOEING</td>\n",
       "      <td>3</td>\n",
       "    </tr>\n",
       "    <tr>\n",
       "      <th>550</th>\n",
       "      <td>1</td>\n",
       "      <td>0</td>\n",
       "      <td>APPLE</td>\n",
       "      <td>3</td>\n",
       "    </tr>\n",
       "    <tr>\n",
       "      <th>551</th>\n",
       "      <td>1</td>\n",
       "      <td>1</td>\n",
       "      <td>IBM</td>\n",
       "      <td>3</td>\n",
       "    </tr>\n",
       "    <tr>\n",
       "      <th>552</th>\n",
       "      <td>2</td>\n",
       "      <td>1</td>\n",
       "      <td>MICROSOFT</td>\n",
       "      <td>3</td>\n",
       "    </tr>\n",
       "    <tr>\n",
       "      <th>553</th>\n",
       "      <td>1</td>\n",
       "      <td>0</td>\n",
       "      <td>GE</td>\n",
       "      <td>3</td>\n",
       "    </tr>\n",
       "    <tr>\n",
       "      <th>554</th>\n",
       "      <td>1</td>\n",
       "      <td>1</td>\n",
       "      <td>MICROSOFT</td>\n",
       "      <td>3</td>\n",
       "    </tr>\n",
       "    <tr>\n",
       "      <th>555</th>\n",
       "      <td>1</td>\n",
       "      <td>2</td>\n",
       "      <td>DISNEY</td>\n",
       "      <td>3</td>\n",
       "    </tr>\n",
       "    <tr>\n",
       "      <th>556</th>\n",
       "      <td>2</td>\n",
       "      <td>0</td>\n",
       "      <td>BOEING</td>\n",
       "      <td>3</td>\n",
       "    </tr>\n",
       "    <tr>\n",
       "      <th>557</th>\n",
       "      <td>1</td>\n",
       "      <td>2</td>\n",
       "      <td>IBM</td>\n",
       "      <td>3</td>\n",
       "    </tr>\n",
       "    <tr>\n",
       "      <th>558</th>\n",
       "      <td>1</td>\n",
       "      <td>0</td>\n",
       "      <td>MICROSOFT</td>\n",
       "      <td>3</td>\n",
       "    </tr>\n",
       "    <tr>\n",
       "      <th>559</th>\n",
       "      <td>1</td>\n",
       "      <td>1</td>\n",
       "      <td>DISNEY</td>\n",
       "      <td>3</td>\n",
       "    </tr>\n",
       "    <tr>\n",
       "      <th>560</th>\n",
       "      <td>2</td>\n",
       "      <td>1</td>\n",
       "      <td>IBM</td>\n",
       "      <td>3</td>\n",
       "    </tr>\n",
       "    <tr>\n",
       "      <th>561</th>\n",
       "      <td>1</td>\n",
       "      <td>2</td>\n",
       "      <td>DISNEY</td>\n",
       "      <td>3</td>\n",
       "    </tr>\n",
       "    <tr>\n",
       "      <th>562</th>\n",
       "      <td>1</td>\n",
       "      <td>0</td>\n",
       "      <td>BOEING</td>\n",
       "      <td>3</td>\n",
       "    </tr>\n",
       "    <tr>\n",
       "      <th>563</th>\n",
       "      <td>2</td>\n",
       "      <td>2</td>\n",
       "      <td>MICROSOFT</td>\n",
       "      <td>3</td>\n",
       "    </tr>\n",
       "    <tr>\n",
       "      <th>564</th>\n",
       "      <td>1</td>\n",
       "      <td>2</td>\n",
       "      <td>MICROSOFT</td>\n",
       "      <td>3</td>\n",
       "    </tr>\n",
       "    <tr>\n",
       "      <th>565</th>\n",
       "      <td>1</td>\n",
       "      <td>2</td>\n",
       "      <td>BOEING</td>\n",
       "      <td>3</td>\n",
       "    </tr>\n",
       "    <tr>\n",
       "      <th>566</th>\n",
       "      <td>1</td>\n",
       "      <td>1</td>\n",
       "      <td>MCD</td>\n",
       "      <td>3</td>\n",
       "    </tr>\n",
       "    <tr>\n",
       "      <th>567</th>\n",
       "      <td>1</td>\n",
       "      <td>1</td>\n",
       "      <td>MICROSOFT</td>\n",
       "      <td>3</td>\n",
       "    </tr>\n",
       "    <tr>\n",
       "      <th>568</th>\n",
       "      <td>1</td>\n",
       "      <td>2</td>\n",
       "      <td>BOEING</td>\n",
       "      <td>3</td>\n",
       "    </tr>\n",
       "    <tr>\n",
       "      <th>569</th>\n",
       "      <td>1</td>\n",
       "      <td>1</td>\n",
       "      <td>DISNEY</td>\n",
       "      <td>3</td>\n",
       "    </tr>\n",
       "    <tr>\n",
       "      <th>570</th>\n",
       "      <td>1</td>\n",
       "      <td>2</td>\n",
       "      <td>MICROSOFT</td>\n",
       "      <td>3</td>\n",
       "    </tr>\n",
       "    <tr>\n",
       "      <th>571</th>\n",
       "      <td>2</td>\n",
       "      <td>0</td>\n",
       "      <td>DISNEY</td>\n",
       "      <td>3</td>\n",
       "    </tr>\n",
       "    <tr>\n",
       "      <th>572</th>\n",
       "      <td>1</td>\n",
       "      <td>0</td>\n",
       "      <td>MICROSOFT</td>\n",
       "      <td>3</td>\n",
       "    </tr>\n",
       "  </tbody>\n",
       "</table>\n",
       "<p>573 rows × 4 columns</p>\n",
       "</div>"
      ],
      "text/plain": [
       "     predicted  actual      Stock  Sentiment\n",
       "0            1       2      APPLE          3\n",
       "1            1       1        IBM          3\n",
       "2            2       2         GE          4\n",
       "3            1       1        IBM          3\n",
       "4            1       2     BOEING          3\n",
       "5            1       1        MCD          3\n",
       "6            1       1      APPLE          4\n",
       "7            0       2        MCD          3\n",
       "8            0       0      APPLE          3\n",
       "9            2       1  MICROSOFT          3\n",
       "10           0       0     BOEING          3\n",
       "11           1       0        MCD          3\n",
       "12           1       2     DISNEY          3\n",
       "13           2       2     DISNEY          3\n",
       "14           0       0         GE          3\n",
       "15           0       0     BOEING          3\n",
       "16           2       2         GE          2\n",
       "17           0       0  MICROSOFT          3\n",
       "18           1       2     BOEING          3\n",
       "19           0       0        IBM          3\n",
       "20           1       1        IBM          3\n",
       "21           1       1  MICROSOFT          3\n",
       "22           1       1        IBM          3\n",
       "23           2       2        IBM          3\n",
       "24           1       1      APPLE          3\n",
       "25           1       0        MCD          3\n",
       "26           1       1     BOEING          3\n",
       "27           0       0         GE          3\n",
       "28           1       1     DISNEY          3\n",
       "29           2       2      APPLE          3\n",
       "..         ...     ...        ...        ...\n",
       "543          1       1  MICROSOFT          3\n",
       "544          1       2  MICROSOFT          3\n",
       "545          1       0     BOEING          3\n",
       "546          2       2     BOEING          3\n",
       "547          1       2     BOEING          3\n",
       "548          2       1        IBM          3\n",
       "549          1       2     BOEING          3\n",
       "550          1       0      APPLE          3\n",
       "551          1       1        IBM          3\n",
       "552          2       1  MICROSOFT          3\n",
       "553          1       0         GE          3\n",
       "554          1       1  MICROSOFT          3\n",
       "555          1       2     DISNEY          3\n",
       "556          2       0     BOEING          3\n",
       "557          1       2        IBM          3\n",
       "558          1       0  MICROSOFT          3\n",
       "559          1       1     DISNEY          3\n",
       "560          2       1        IBM          3\n",
       "561          1       2     DISNEY          3\n",
       "562          1       0     BOEING          3\n",
       "563          2       2  MICROSOFT          3\n",
       "564          1       2  MICROSOFT          3\n",
       "565          1       2     BOEING          3\n",
       "566          1       1        MCD          3\n",
       "567          1       1  MICROSOFT          3\n",
       "568          1       2     BOEING          3\n",
       "569          1       1     DISNEY          3\n",
       "570          1       2  MICROSOFT          3\n",
       "571          2       0     DISNEY          3\n",
       "572          1       0  MICROSOFT          3\n",
       "\n",
       "[573 rows x 4 columns]"
      ]
     },
     "execution_count": 666,
     "metadata": {},
     "output_type": "execute_result"
    }
   ],
   "source": [
    "output"
   ]
  },
  {
   "cell_type": "code",
   "execution_count": 664,
   "metadata": {
    "collapsed": false
   },
   "outputs": [],
   "source": [
    "#mydf.iloc[train_indexes]"
   ]
  },
  {
   "cell_type": "code",
   "execution_count": null,
   "metadata": {
    "collapsed": false
   },
   "outputs": [],
   "source": []
  },
  {
   "cell_type": "code",
   "execution_count": null,
   "metadata": {
    "collapsed": false
   },
   "outputs": [],
   "source": []
  },
  {
   "cell_type": "code",
   "execution_count": null,
   "metadata": {
    "collapsed": false
   },
   "outputs": [],
   "source": []
  },
  {
   "cell_type": "code",
   "execution_count": null,
   "metadata": {
    "collapsed": false
   },
   "outputs": [],
   "source": []
  },
  {
   "cell_type": "code",
   "execution_count": null,
   "metadata": {
    "collapsed": false
   },
   "outputs": [],
   "source": []
  },
  {
   "cell_type": "code",
   "execution_count": null,
   "metadata": {
    "collapsed": false
   },
   "outputs": [],
   "source": []
  },
  {
   "cell_type": "code",
   "execution_count": null,
   "metadata": {
    "collapsed": false
   },
   "outputs": [],
   "source": []
  },
  {
   "cell_type": "code",
   "execution_count": null,
   "metadata": {
    "collapsed": false
   },
   "outputs": [],
   "source": []
  },
  {
   "cell_type": "code",
   "execution_count": null,
   "metadata": {
    "collapsed": false
   },
   "outputs": [],
   "source": []
  },
  {
   "cell_type": "code",
   "execution_count": null,
   "metadata": {
    "collapsed": false
   },
   "outputs": [],
   "source": [
    "ALL"
   ]
  },
  {
   "cell_type": "code",
   "execution_count": null,
   "metadata": {
    "collapsed": true
   },
   "outputs": [],
   "source": [
    "a=[[[]]]"
   ]
  },
  {
   "cell_type": "code",
   "execution_count": null,
   "metadata": {
    "collapsed": true
   },
   "outputs": [],
   "source": [
    "a[0] = ALL[0:5]"
   ]
  },
  {
   "cell_type": "code",
   "execution_count": null,
   "metadata": {
    "collapsed": true
   },
   "outputs": [],
   "source": [
    "a.append(ALL[1:6])"
   ]
  },
  {
   "cell_type": "code",
   "execution_count": null,
   "metadata": {
    "collapsed": false
   },
   "outputs": [],
   "source": [
    "a"
   ]
  },
  {
   "cell_type": "code",
   "execution_count": null,
   "metadata": {
    "collapsed": false
   },
   "outputs": [],
   "source": [
    "np.array(a)"
   ]
  },
  {
   "cell_type": "code",
   "execution_count": null,
   "metadata": {
    "collapsed": false
   },
   "outputs": [],
   "source": [
    "len(ALL)"
   ]
  },
  {
   "cell_type": "code",
   "execution_count": null,
   "metadata": {
    "collapsed": true
   },
   "outputs": [],
   "source": []
  }
 ],
 "metadata": {
  "anaconda-cloud": {},
  "kernelspec": {
   "display_name": "Python [conda root]",
   "language": "python",
   "name": "conda-root-py"
  },
  "language_info": {
   "codemirror_mode": {
    "name": "ipython",
    "version": 3
   },
   "file_extension": ".py",
   "mimetype": "text/x-python",
   "name": "python",
   "nbconvert_exporter": "python",
   "pygments_lexer": "ipython3",
   "version": "3.5.2"
  }
 },
 "nbformat": 4,
 "nbformat_minor": 1
}
