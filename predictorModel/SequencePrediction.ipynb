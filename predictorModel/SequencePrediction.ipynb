{
 "cells": [
  {
   "cell_type": "code",
   "execution_count": 1,
   "metadata": {
    "collapsed": false
   },
   "outputs": [
    {
     "name": "stderr",
     "output_type": "stream",
     "text": [
      "Using TensorFlow backend.\n"
     ]
    }
   ],
   "source": [
    "import os\n",
    "import pickle\n",
    "import argparse\n",
    "\n",
    "import gensim\n",
    "from gensim.models import word2vec\n",
    "\n",
    "import numpy as np\n",
    "import pandas as pd\n",
    "from sklearn.model_selection import StratifiedShuffleSplit\n",
    "from sklearn.metrics import accuracy_score\n",
    "from sklearn.metrics import confusion_matrix\n",
    "\n",
    "import nltk\n",
    "from nltk.tokenize import word_tokenize\n",
    "\n",
    "\n",
    "from keras.callbacks import ModelCheckpoint\n",
    "from keras.layers import Dense, Activation\n",
    "from keras.layers import Dropout\n",
    "from keras.layers import Flatten\n",
    "from keras.layers import LSTM, Bidirectional\n",
    "from keras.layers.embeddings import Embedding\n",
    "from keras.models import Sequential\n",
    "from keras.optimizers import Adam\n",
    "from keras.preprocessing import sequence\n",
    "from keras.utils import np_utils\n",
    "from keras.utils import to_categorical\n",
    "#x_train = sequence.pad_sequences(x_train, maxlen=maxlen)\n",
    "from keras import backend as K\n",
    "from keras.callbacks import EarlyStopping\n"
   ]
  },
  {
   "cell_type": "code",
   "execution_count": 2,
   "metadata": {
    "collapsed": false
   },
   "outputs": [
    {
     "name": "stderr",
     "output_type": "stream",
     "text": [
      "/home/mygpu/anaconda3/lib/python3.5/site-packages/ipykernel/__main__.py:2: UserWarning: Update your `LSTM` call to the Keras 2 API: `LSTM(128, recurrent_activation=\"hard_sigmoid\", activation=\"sigmoid\", input_shape=(398, 40), return_sequences=True)`\n",
      "  from ipykernel import kernelapp as app\n"
     ]
    }
   ],
   "source": [
    "model = Sequential()\n",
    "model.add(LSTM(128,input_shape=(398,40),activation='sigmoid', inner_activation='hard_sigmoid', return_sequences=True))\n",
    "model.add(Activation('sigmoid'))\n",
    "model.add(Dropout(0.2))\n",
    "#model.add(TimeDistributedDense(11))\n",
    "model.add(Activation('softmax'))\n",
    "model.compile(loss='categorical_crossentropy', optimizer='rmsprop')"
   ]
  },
  {
   "cell_type": "code",
   "execution_count": 3,
   "metadata": {
    "collapsed": true
   },
   "outputs": [],
   "source": [
    "def pad_sequences(sequences, maxlen=None, dim=1, dtype='int32',\n",
    "    padding='pre', truncating='pre', value=0.):\n",
    "    '''\n",
    "        Override keras method to allow multiple feature dimensions.\n",
    "\n",
    "        @dim: input feature dimension (number of features per timestep)\n",
    "    '''\n",
    "    lengths = [len(s) for s in sequences]\n",
    "\n",
    "    nb_samples = len(sequences)\n",
    "    if maxlen is None:\n",
    "        maxlen = np.max(lengths)\n",
    "\n",
    "    x = (np.ones((nb_samples, maxlen, dim)) * value).astype(dtype)\n",
    "    for idx, s in enumerate(sequences):\n",
    "        if truncating == 'pre':\n",
    "            trunc = s[-maxlen:]\n",
    "        elif truncating == 'post':\n",
    "            trunc = s[:maxlen]\n",
    "        else:\n",
    "            raise ValueError(\"Truncating type '%s' not understood\" % padding)\n",
    "\n",
    "        if padding == 'post':\n",
    "            x[idx, :len(trunc)] = trunc\n",
    "        elif padding == 'pre':\n",
    "            x[idx, -len(trunc):] = trunc\n",
    "        else:\n",
    "            raise ValueError(\"Padding type '%s' not understood\" % padding)\n",
    "    return (x)"
   ]
  },
  {
   "cell_type": "code",
   "execution_count": 4,
   "metadata": {
    "collapsed": false
   },
   "outputs": [
    {
     "name": "stderr",
     "output_type": "stream",
     "text": [
      "/home/mygpu/anaconda3/lib/python3.5/site-packages/keras/preprocessing/text.py:145: UserWarning: The `nb_words` argument in `Tokenizer` has been renamed `num_words`.\n",
      "  warnings.warn('The `nb_words` argument in `Tokenizer` '\n"
     ]
    }
   ],
   "source": [
    "from keras.preprocessing.text import Tokenizer#,base_filter\n",
    "from keras.preprocessing.sequence import pad_sequences\n",
    "\n",
    "def shift(seq, n):\n",
    "    n = n % len(seq)\n",
    "    return (seq[n:] + seq[:n])\n",
    "\n",
    "txt=\"abcdefghijklmn\"*100\n",
    "\n",
    "tk = Tokenizer(nb_words=2000, lower=True, split=\" \")\n",
    "tk.fit_on_texts(txt)\n",
    "x = tk.texts_to_sequences(txt)\n",
    "#shifing to left\n",
    "y = shift(x,1)\n",
    "\n",
    "#padding sequence\n",
    "max_len = 100\n",
    "max_features=len(tk.word_counts)\n",
    "X = pad_sequences(x, maxlen=max_len)\n",
    "Y = pad_sequences(y, maxlen=max_len)"
   ]
  },
  {
   "cell_type": "code",
   "execution_count": 4,
   "metadata": {
    "collapsed": false
   },
   "outputs": [
    {
     "ename": "NameError",
     "evalue": "name 'X' is not defined",
     "output_type": "error",
     "traceback": [
      "\u001b[0;31m---------------------------------------------------------------------------\u001b[0m",
      "\u001b[0;31mNameError\u001b[0m                                 Traceback (most recent call last)",
      "\u001b[0;32m<ipython-input-4-253bcac7dd80>\u001b[0m in \u001b[0;36m<module>\u001b[0;34m()\u001b[0m\n\u001b[0;32m----> 1\u001b[0;31m \u001b[0mX\u001b[0m\u001b[0;34m\u001b[0m\u001b[0m\n\u001b[0m",
      "\u001b[0;31mNameError\u001b[0m: name 'X' is not defined"
     ]
    }
   ],
   "source": [
    "X"
   ]
  },
  {
   "cell_type": "code",
   "execution_count": 6,
   "metadata": {
    "collapsed": false
   },
   "outputs": [
    {
     "name": "stdout",
     "output_type": "stream",
     "text": [
      "Loading data...\n",
      "25000 train sequences\n",
      "25000 test sequences\n",
      "Pad sequences (samples x time)\n",
      "x_train shape: (25000, 80)\n",
      "x_test shape: (25000, 80)\n",
      "Build model...\n",
      "Train...\n",
      "Train on 25000 samples, validate on 25000 samples\n",
      "Epoch 1/3\n",
      "25000/25000 [==============================] - 113s - loss: 0.4621 - acc: 0.7769 - val_loss: 0.3976 - val_acc: 0.8348\n",
      "Epoch 2/3\n",
      "25000/25000 [==============================] - 106s - loss: 0.2933 - acc: 0.8797 - val_loss: 0.3862 - val_acc: 0.8398\n",
      "Epoch 3/3\n",
      "25000/25000 [==============================] - 105s - loss: 0.2085 - acc: 0.9198 - val_loss: 0.4187 - val_acc: 0.8275\n",
      "25000/25000 [==============================] - 19s    \n",
      "Test score: 0.418655139561\n",
      "Test accuracy: 0.82752\n"
     ]
    }
   ],
   "source": [
    "'''Trains an LSTM model on the IMDB sentiment classification task.\n",
    "The dataset is actually too small for LSTM to be of any advantage\n",
    "compared to simpler, much faster methods such as TF-IDF + LogReg.\n",
    "Notes:\n",
    "- RNNs are tricky. Choice of batch size is important,\n",
    "choice of loss and optimizer is critical, etc.\n",
    "Some configurations won't converge.\n",
    "- LSTM loss decrease patterns during training can be quite different\n",
    "from what you see with CNNs/MLPs/etc.\n",
    "'''\n",
    "from __future__ import print_function\n",
    "\n",
    "from keras.preprocessing import sequence\n",
    "from keras.models import Sequential\n",
    "from keras.layers import Dense, Embedding\n",
    "from keras.layers import LSTM\n",
    "from keras.datasets import imdb\n",
    "\n",
    "max_features = 20000\n",
    "maxlen = 80  # cut texts after this number of words (among top max_features most common words)\n",
    "batch_size = 32\n",
    "\n",
    "print('Loading data...')\n",
    "(x_train, y_train), (x_test, y_test) = imdb.load_data(num_words=max_features)\n",
    "print(len(x_train), 'train sequences')\n",
    "print(len(x_test), 'test sequences')\n",
    "\n",
    "print('Pad sequences (samples x time)')\n",
    "x_train = sequence.pad_sequences(x_train, maxlen=maxlen)\n",
    "x_test = sequence.pad_sequences(x_test, maxlen=maxlen)\n",
    "print('x_train shape:', x_train.shape)\n",
    "print('x_test shape:', x_test.shape)\n",
    "\n",
    "print('Build model...')\n",
    "model = Sequential()\n",
    "model.add(Embedding(max_features, 128))\n",
    "model.add(LSTM(128, dropout=0.2, recurrent_dropout=0.2))\n",
    "model.add(Dense(1, activation='sigmoid'))\n",
    "\n",
    "# try using different optimizers and different optimizer configs\n",
    "model.compile(loss='binary_crossentropy',\n",
    "              optimizer='adam',\n",
    "              metrics=['accuracy'])\n",
    "\n",
    "print('Train...')\n",
    "model.fit(x_train, y_train,\n",
    "          batch_size=batch_size,\n",
    "          epochs=3,\n",
    "          validation_data=(x_test, y_test))\n",
    "score, acc = model.evaluate(x_test, y_test,\n",
    "                            batch_size=batch_size)\n",
    "print('Test score:', score)\n",
    "print('Test accuracy:', acc)"
   ]
  },
  {
   "cell_type": "code",
   "execution_count": null,
   "metadata": {
    "collapsed": false
   },
   "outputs": [],
   "source": [
    "X_data = [[1,2,3,4,5,6,7,8,9,10],\n",
    "         [343,43,3,4,5,6,7,8,9,10]]"
   ]
  },
  {
   "cell_type": "code",
   "execution_count": null,
   "metadata": {
    "collapsed": false
   },
   "outputs": [],
   "source": [
    "X_data"
   ]
  },
  {
   "cell_type": "code",
   "execution_count": null,
   "metadata": {
    "collapsed": false
   },
   "outputs": [],
   "source": [
    "x_train = sequence.pad_sequences(X_data, maxlen=10)\n",
    "x_test = sequence.pad_sequences([[2,4,6,8,9],\n",
    "         [343,43,8,9,10]],maxlen=10)"
   ]
  },
  {
   "cell_type": "code",
   "execution_count": null,
   "metadata": {
    "collapsed": false
   },
   "outputs": [],
   "source": [
    "x_test"
   ]
  },
  {
   "cell_type": "code",
   "execution_count": null,
   "metadata": {
    "collapsed": true
   },
   "outputs": [],
   "source": [
    "# -*- coding: utf-8 -*-\n",
    "from __future__ import absolute_import\n",
    "\n",
    "import numpy as np\n",
    "import random\n",
    "from six.moves import range\n",
    "\n",
    "\n",
    "def pad_sequences(sequences, maxlen=None, dtype='int32',\n",
    "                  padding='pre', truncating='pre', value=0.):\n",
    "    \"\"\"Pads each sequence to the same length (length of the longest sequence).\n",
    "    If maxlen is provided, any sequence longer\n",
    "    than maxlen is truncated to maxlen.\n",
    "    Truncation happens off either the beginning (default) or\n",
    "    the end of the sequence.\n",
    "    Supports post-padding and pre-padding (default).\n",
    "    # Arguments\n",
    "        sequences: list of lists where each element is a sequence\n",
    "        maxlen: int, maximum length\n",
    "        dtype: type to cast the resulting sequence.\n",
    "        padding: 'pre' or 'post', pad either before or after each sequence.\n",
    "        truncating: 'pre' or 'post', remove values from sequences larger than\n",
    "            maxlen either in the beginning or in the end of the sequence\n",
    "        value: float, value to pad the sequences to the desired value.\n",
    "    # Returns\n",
    "        x: numpy array with dimensions (number_of_sequences, maxlen)\n",
    "    # Raises\n",
    "        ValueError: in case of invalid values for `truncating` or `padding`,\n",
    "            or in case of invalid shape for a `sequences` entry.\n",
    "    \"\"\"\n",
    "    if not hasattr(sequences, '__len__'):\n",
    "        raise ValueError('`sequences` must be iterable.')\n",
    "    lengths = []\n",
    "    for x in sequences:\n",
    "        if not hasattr(x, '__len__'):\n",
    "            raise ValueError('`sequences` must be a list of iterables. '\n",
    "                             'Found non-iterable: ' + str(x))\n",
    "        lengths.append(len(x))\n",
    "\n",
    "    num_samples = len(sequences)\n",
    "    if maxlen is None:\n",
    "        maxlen = np.max(lengths)\n",
    "\n",
    "    # take the sample shape from the first non empty sequence\n",
    "    # checking for consistency in the main loop below.\n",
    "    sample_shape = tuple()\n",
    "    for s in sequences:\n",
    "        if len(s) > 0:\n",
    "            sample_shape = np.asarray(s).shape[1:]\n",
    "            break\n",
    "\n",
    "    x = (np.ones((num_samples, maxlen) + sample_shape) * value).astype(dtype)\n",
    "    for idx, s in enumerate(sequences):\n",
    "        if not len(s):\n",
    "            continue  # empty list/array was found\n",
    "        if truncating == 'pre':\n",
    "            trunc = s[-maxlen:]\n",
    "        elif truncating == 'post':\n",
    "            trunc = s[:maxlen]\n",
    "        else:\n",
    "            raise ValueError('Truncating type \"%s\" not understood' % truncating)\n",
    "\n",
    "        # check `trunc` has expected shape\n",
    "        trunc = np.asarray(trunc, dtype=dtype)\n",
    "        if trunc.shape[1:] != sample_shape:\n",
    "            raise ValueError('Shape of sample %s of sequence at position %s is different from expected shape %s' %\n",
    "                             (trunc.shape[1:], idx, sample_shape))\n",
    "\n",
    "        if padding == 'post':\n",
    "            x[idx, :len(trunc)] = trunc\n",
    "        elif padding == 'pre':\n",
    "            x[idx, -len(trunc):] = trunc\n",
    "        else:\n",
    "            raise ValueError('Padding type \"%s\" not understood' % padding)\n",
    "    return x\n",
    "\n",
    "\n",
    "def make_sampling_table(size, sampling_factor=1e-5):\n",
    "    \"\"\"Generates a word rank-based probabilistic sampling table.\n",
    "    This generates an array where the ith element\n",
    "    is the probability that a word of rank i would be sampled,\n",
    "    according to the sampling distribution used in word2vec.\n",
    "    The word2vec formula is:\n",
    "        p(word) = min(1, sqrt(word.frequency/sampling_factor) / (word.frequency/sampling_factor))\n",
    "    We assume that the word frequencies follow Zipf's law (s=1) to derive\n",
    "    a numerical approximation of frequency(rank):\n",
    "       frequency(rank) ~ 1/(rank * (log(rank) + gamma) + 1/2 - 1/(12*rank))\n",
    "        where gamma is the Euler-Mascheroni constant.\n",
    "    # Arguments\n",
    "        size: int, number of possible words to sample.\n",
    "        sampling_factor: the sampling factor in the word2vec formula.\n",
    "    # Returns\n",
    "        A 1D Numpy array of length `size` where the ith entry\n",
    "        is the probability that a word of rank i should be sampled.\n",
    "    \"\"\"\n",
    "    gamma = 0.577\n",
    "    rank = np.arange(size)\n",
    "    rank[0] = 1\n",
    "    inv_fq = rank * (np.log(rank) + gamma) + 0.5 - 1. / (12. * rank)\n",
    "    f = sampling_factor * inv_fq\n",
    "\n",
    "    return np.minimum(1., f / np.sqrt(f))\n",
    "\n",
    "\n",
    "def skipgrams(sequence, vocabulary_size,\n",
    "              window_size=4, negative_samples=1., shuffle=True,\n",
    "              categorical=False, sampling_table=None, seed=None):\n",
    "    \"\"\"Generates skipgram word pairs.\n",
    "    Takes a sequence (list of indexes of words),\n",
    "    returns couples of [word_index, other_word index] and labels (1s or 0s),\n",
    "    where label = 1 if 'other_word' belongs to the context of 'word',\n",
    "    and label=0 if 'other_word' is randomly sampled\n",
    "    # Arguments\n",
    "        sequence: a word sequence (sentence), encoded as a list\n",
    "            of word indices (integers). If using a `sampling_table`,\n",
    "            word indices are expected to match the rank\n",
    "            of the words in a reference dataset (e.g. 10 would encode\n",
    "            the 10-th most frequently occurring token).\n",
    "            Note that index 0 is expected to be a non-word and will be skipped.\n",
    "        vocabulary_size: int. maximum possible word index + 1\n",
    "        window_size: int. actually half-window.\n",
    "            The window of a word wi will be [i-window_size, i+window_size+1]\n",
    "        negative_samples: float >= 0. 0 for no negative (=random) samples.\n",
    "            1 for same number as positive samples. etc.\n",
    "        shuffle: whether to shuffle the word couples before returning them.\n",
    "        categorical: bool. if False, labels will be\n",
    "            integers (eg. [0, 1, 1 .. ]),\n",
    "            if True labels will be categorical eg. [[1,0],[0,1],[0,1] .. ]\n",
    "        sampling_table: 1D array of size `vocabulary_size` where the entry i\n",
    "            encodes the probability to sample a word of rank i.\n",
    "        seed: random seed.\n",
    "    # Returns\n",
    "        couples, labels: where `couples` are int pairs and\n",
    "            `labels` are either 0 or 1.\n",
    "    # Note\n",
    "        By convention, index 0 in the vocabulary is\n",
    "        a non-word and will be skipped.\n",
    "    \"\"\"\n",
    "    couples = []\n",
    "    labels = []\n",
    "    for i, wi in enumerate(sequence):\n",
    "        if not wi:\n",
    "            continue\n",
    "        if sampling_table is not None:\n",
    "            if sampling_table[wi] < random.random():\n",
    "                continue\n",
    "\n",
    "        window_start = max(0, i - window_size)\n",
    "        window_end = min(len(sequence), i + window_size + 1)\n",
    "        for j in range(window_start, window_end):\n",
    "            if j != i:\n",
    "                wj = sequence[j]\n",
    "                if not wj:\n",
    "                    continue\n",
    "                couples.append([wi, wj])\n",
    "                if categorical:\n",
    "                    labels.append([0, 1])\n",
    "                else:\n",
    "                    labels.append(1)\n",
    "\n",
    "    if negative_samples > 0:\n",
    "        num_negative_samples = int(len(labels) * negative_samples)\n",
    "        words = [c[0] for c in couples]\n",
    "        random.shuffle(words)\n",
    "\n",
    "        couples += [[words[i % len(words)],\n",
    "                    random.randint(1, vocabulary_size - 1)] for i in range(num_negative_samples)]\n",
    "        if categorical:\n",
    "            labels += [[1, 0]] * num_negative_samples\n",
    "        else:\n",
    "            labels += [0] * num_negative_samples\n",
    "\n",
    "    if shuffle:\n",
    "        if seed is None:\n",
    "            seed = random.randint(0, 10e6)\n",
    "        random.seed(seed)\n",
    "        random.shuffle(couples)\n",
    "        random.seed(seed)\n",
    "        random.shuffle(labels)\n",
    "\n",
    "    return couples, labels\n",
    "\n",
    "\n",
    "def _remove_long_seq(maxlen, seq, label):\n",
    "    \"\"\"Removes sequences that exceed the maximum length.\n",
    "    # Arguments\n",
    "        maxlen: int, maximum length\n",
    "        seq: list of lists where each sublist is a sequence\n",
    "        label: list where each element is an integer\n",
    "    # Returns\n",
    "        new_seq, new_label: shortened lists for `seq` and `label`.\n",
    "    \"\"\"\n",
    "    new_seq, new_label = [], []\n",
    "    for x, y in zip(seq, label):\n",
    "        if len(x) < maxlen:\n",
    "            new_seq.append(x)\n",
    "            new_label.append(y)\n",
    "    return new_seq, new_label"
   ]
  },
  {
   "cell_type": "code",
   "execution_count": null,
   "metadata": {
    "collapsed": false
   },
   "outputs": [],
   "source": [
    "def sliding_window(df,window_size,window_stride,input_features=None, output_features=None):\n",
    "    print(df.columns)\n",
    "    print(df[input_features])\n",
    "    print(df[input_features].values)\n",
    "    allData = df[input_features].values.tolist()\n",
    "    if output_features:\n",
    "        outputData = df[output_features].values.tolist()\n",
    "    print(outputData)\n",
    "    myArray = [[]]\n",
    "    outputDataArray = [] \n",
    "    start=0\n",
    "    for i in range(0,len(allData),window_stride):\n",
    "        #print(allData[i:window_size+i])\n",
    "        print(i)\n",
    "        if i == 0:\n",
    "            myArray = [allData[i:window_size+i]]\n",
    "            if output_features != None:\n",
    "                #outputDataArray.append(outputData[window_size+i][0])\n",
    "                outputDataArray.append(outputData[window_size][0])\n",
    "        else:\n",
    "            myArray.append(allData[i:window_size+i])\n",
    "            \n",
    "            if window_size+i >= len(allData):\n",
    "                if output_features != None:\n",
    "                    outputDataArray.append(outputData[len(allData)-1][0])\n",
    "                break\n",
    "            if output_features != None:\n",
    "                    #outputDataArray.append(outputData[window_size+i][0])\n",
    "                    outputDataArray.append(outputData[window_size][0])\n",
    "\n",
    "    if output_features == None:\n",
    "            return (np.array(myArray))\n",
    "    print(outputDataArray)   \n",
    "    return (np.array(myArray), outputDataArray)"
   ]
  },
  {
   "cell_type": "code",
   "execution_count": 60,
   "metadata": {
    "collapsed": false
   },
   "outputs": [
    {
     "name": "stderr",
     "output_type": "stream",
     "text": [
      "/home/mygpu/anaconda3/lib/python3.5/site-packages/pandas/core/indexing.py:132: SettingWithCopyWarning: \n",
      "A value is trying to be set on a copy of a slice from a DataFrame\n",
      "\n",
      "See the caveats in the documentation: http://pandas.pydata.org/pandas-docs/stable/indexing.html#indexing-view-versus-copy\n",
      "  self._setitem_with_indexer(indexer, value)\n"
     ]
    },
    {
     "data": {
      "text/plain": [
       "1260"
      ]
     },
     "execution_count": 60,
     "metadata": {},
     "output_type": "execute_result"
    }
   ],
   "source": [
    "dateparse = lambda x: pd.datetime.strptime(x, '%d-%m-%Y')\n",
    "df = pd.read_csv(\"/datadrive/Sahil/code/GL/fewTrails/Datasets/GE.csv\", parse_dates=['date'],date_parser=dateparse)\n",
    "\n",
    "\n",
    "df[\"date\"]  = pd.to_datetime(df.date)\n",
    "type(df[\"date\"].iloc[0])\n",
    "df = df.sort_values(by=\"date\")\n",
    "\n",
    "gCount=0\n",
    "def featureTransform(x,len):\n",
    "    global gCount\n",
    "    print(x['close'],gCount)\n",
    "    if gCount == 0:\n",
    "        gCount+=1\n",
    "        return (float(0))\n",
    "    elif gCount < len:\n",
    "        return (0)\n",
    "gCount=0\n",
    "df['close_delta'] = 0\n",
    "for index in range(0,df.shape[0]):\n",
    "    #print(index,df.iloc[index]['close'])\n",
    "    if index == 0:\n",
    "        #gCount+=1\n",
    "        df['close_delta'].iloc[index] =  (float(0))\n",
    "    #elif index <= df.shape[0]-1:\n",
    "    else:\n",
    "        df['close_delta'].iloc[index] = df['close'].iloc[index] - df['close'].iloc[index-1]  \n",
    "\n",
    "    \n",
    "gCount=0\n",
    "#df.apply(lambda x: featureTransform(x,df.shape[0]),axis=1)\n",
    "df.shape[0]"
   ]
  },
  {
   "cell_type": "code",
   "execution_count": 61,
   "metadata": {
    "collapsed": false
   },
   "outputs": [
    {
     "data": {
      "text/html": [
       "<div>\n",
       "<table border=\"1\" class=\"dataframe\">\n",
       "  <thead>\n",
       "    <tr style=\"text-align: right;\">\n",
       "      <th></th>\n",
       "      <th>date</th>\n",
       "      <th>close</th>\n",
       "      <th>curr_ratio</th>\n",
       "      <th>tot_debt_tot_equity</th>\n",
       "      <th>oper_profit_margin</th>\n",
       "      <th>asset_turn</th>\n",
       "      <th>ret_equity</th>\n",
       "      <th>sentiment</th>\n",
       "      <th>close_delta</th>\n",
       "    </tr>\n",
       "  </thead>\n",
       "  <tbody>\n",
       "    <tr>\n",
       "      <th>1259</th>\n",
       "      <td>2012-11-05</td>\n",
       "      <td>21.41</td>\n",
       "      <td>2.7025</td>\n",
       "      <td>2.7739</td>\n",
       "      <td>24.4773</td>\n",
       "      <td>0.0519</td>\n",
       "      <td>2.7083</td>\n",
       "      <td>3</td>\n",
       "      <td>0.00</td>\n",
       "    </tr>\n",
       "    <tr>\n",
       "      <th>1258</th>\n",
       "      <td>2012-11-06</td>\n",
       "      <td>21.59</td>\n",
       "      <td>2.7025</td>\n",
       "      <td>2.7739</td>\n",
       "      <td>24.4773</td>\n",
       "      <td>0.0519</td>\n",
       "      <td>2.7083</td>\n",
       "      <td>3</td>\n",
       "      <td>0.18</td>\n",
       "    </tr>\n",
       "    <tr>\n",
       "      <th>1257</th>\n",
       "      <td>2012-11-07</td>\n",
       "      <td>21.13</td>\n",
       "      <td>2.7025</td>\n",
       "      <td>2.7739</td>\n",
       "      <td>24.4773</td>\n",
       "      <td>0.0519</td>\n",
       "      <td>2.7083</td>\n",
       "      <td>3</td>\n",
       "      <td>-0.46</td>\n",
       "    </tr>\n",
       "    <tr>\n",
       "      <th>1256</th>\n",
       "      <td>2012-11-08</td>\n",
       "      <td>20.89</td>\n",
       "      <td>2.7025</td>\n",
       "      <td>2.7739</td>\n",
       "      <td>24.4773</td>\n",
       "      <td>0.0519</td>\n",
       "      <td>2.7083</td>\n",
       "      <td>3</td>\n",
       "      <td>-0.24</td>\n",
       "    </tr>\n",
       "    <tr>\n",
       "      <th>1255</th>\n",
       "      <td>2012-11-09</td>\n",
       "      <td>21.00</td>\n",
       "      <td>2.7025</td>\n",
       "      <td>2.7739</td>\n",
       "      <td>24.4773</td>\n",
       "      <td>0.0519</td>\n",
       "      <td>2.7083</td>\n",
       "      <td>3</td>\n",
       "      <td>0.11</td>\n",
       "    </tr>\n",
       "    <tr>\n",
       "      <th>1254</th>\n",
       "      <td>2012-11-12</td>\n",
       "      <td>20.89</td>\n",
       "      <td>2.7025</td>\n",
       "      <td>2.7739</td>\n",
       "      <td>24.4773</td>\n",
       "      <td>0.0519</td>\n",
       "      <td>2.7083</td>\n",
       "      <td>3</td>\n",
       "      <td>-0.11</td>\n",
       "    </tr>\n",
       "    <tr>\n",
       "      <th>1253</th>\n",
       "      <td>2012-11-13</td>\n",
       "      <td>20.68</td>\n",
       "      <td>2.7025</td>\n",
       "      <td>2.7739</td>\n",
       "      <td>24.4773</td>\n",
       "      <td>0.0519</td>\n",
       "      <td>2.7083</td>\n",
       "      <td>2</td>\n",
       "      <td>-0.21</td>\n",
       "    </tr>\n",
       "    <tr>\n",
       "      <th>1252</th>\n",
       "      <td>2012-11-14</td>\n",
       "      <td>20.01</td>\n",
       "      <td>2.7025</td>\n",
       "      <td>2.7739</td>\n",
       "      <td>24.4773</td>\n",
       "      <td>0.0519</td>\n",
       "      <td>2.7083</td>\n",
       "      <td>3</td>\n",
       "      <td>-0.67</td>\n",
       "    </tr>\n",
       "    <tr>\n",
       "      <th>1251</th>\n",
       "      <td>2012-11-15</td>\n",
       "      <td>20.06</td>\n",
       "      <td>2.7025</td>\n",
       "      <td>2.7739</td>\n",
       "      <td>24.4773</td>\n",
       "      <td>0.0519</td>\n",
       "      <td>2.7083</td>\n",
       "      <td>3</td>\n",
       "      <td>0.05</td>\n",
       "    </tr>\n",
       "    <tr>\n",
       "      <th>1250</th>\n",
       "      <td>2012-11-16</td>\n",
       "      <td>20.15</td>\n",
       "      <td>2.7025</td>\n",
       "      <td>2.7739</td>\n",
       "      <td>24.4773</td>\n",
       "      <td>0.0519</td>\n",
       "      <td>2.7083</td>\n",
       "      <td>3</td>\n",
       "      <td>0.09</td>\n",
       "    </tr>\n",
       "    <tr>\n",
       "      <th>1249</th>\n",
       "      <td>2012-11-19</td>\n",
       "      <td>20.66</td>\n",
       "      <td>2.7025</td>\n",
       "      <td>2.7739</td>\n",
       "      <td>24.4773</td>\n",
       "      <td>0.0519</td>\n",
       "      <td>2.7083</td>\n",
       "      <td>3</td>\n",
       "      <td>0.51</td>\n",
       "    </tr>\n",
       "    <tr>\n",
       "      <th>1248</th>\n",
       "      <td>2012-11-20</td>\n",
       "      <td>20.62</td>\n",
       "      <td>2.7025</td>\n",
       "      <td>2.7739</td>\n",
       "      <td>24.4773</td>\n",
       "      <td>0.0519</td>\n",
       "      <td>2.7083</td>\n",
       "      <td>3</td>\n",
       "      <td>-0.04</td>\n",
       "    </tr>\n",
       "    <tr>\n",
       "      <th>1247</th>\n",
       "      <td>2012-11-21</td>\n",
       "      <td>20.68</td>\n",
       "      <td>2.7025</td>\n",
       "      <td>2.7739</td>\n",
       "      <td>24.4773</td>\n",
       "      <td>0.0519</td>\n",
       "      <td>2.7083</td>\n",
       "      <td>3</td>\n",
       "      <td>0.06</td>\n",
       "    </tr>\n",
       "    <tr>\n",
       "      <th>1246</th>\n",
       "      <td>2012-11-23</td>\n",
       "      <td>21.04</td>\n",
       "      <td>2.7025</td>\n",
       "      <td>2.7739</td>\n",
       "      <td>24.4773</td>\n",
       "      <td>0.0519</td>\n",
       "      <td>2.7083</td>\n",
       "      <td>4</td>\n",
       "      <td>0.36</td>\n",
       "    </tr>\n",
       "    <tr>\n",
       "      <th>1245</th>\n",
       "      <td>2012-11-26</td>\n",
       "      <td>21.06</td>\n",
       "      <td>2.7025</td>\n",
       "      <td>2.7739</td>\n",
       "      <td>24.4773</td>\n",
       "      <td>0.0519</td>\n",
       "      <td>2.7083</td>\n",
       "      <td>3</td>\n",
       "      <td>0.02</td>\n",
       "    </tr>\n",
       "    <tr>\n",
       "      <th>1244</th>\n",
       "      <td>2012-11-27</td>\n",
       "      <td>20.87</td>\n",
       "      <td>2.7025</td>\n",
       "      <td>2.7739</td>\n",
       "      <td>24.4773</td>\n",
       "      <td>0.0519</td>\n",
       "      <td>2.7083</td>\n",
       "      <td>3</td>\n",
       "      <td>-0.19</td>\n",
       "    </tr>\n",
       "    <tr>\n",
       "      <th>1243</th>\n",
       "      <td>2012-11-28</td>\n",
       "      <td>21.14</td>\n",
       "      <td>2.7025</td>\n",
       "      <td>2.7739</td>\n",
       "      <td>24.4773</td>\n",
       "      <td>0.0519</td>\n",
       "      <td>2.7083</td>\n",
       "      <td>3</td>\n",
       "      <td>0.27</td>\n",
       "    </tr>\n",
       "    <tr>\n",
       "      <th>1242</th>\n",
       "      <td>2012-11-29</td>\n",
       "      <td>21.13</td>\n",
       "      <td>2.7025</td>\n",
       "      <td>2.7739</td>\n",
       "      <td>24.4773</td>\n",
       "      <td>0.0519</td>\n",
       "      <td>2.7083</td>\n",
       "      <td>3</td>\n",
       "      <td>-0.01</td>\n",
       "    </tr>\n",
       "    <tr>\n",
       "      <th>1241</th>\n",
       "      <td>2012-11-30</td>\n",
       "      <td>21.13</td>\n",
       "      <td>2.7025</td>\n",
       "      <td>2.7739</td>\n",
       "      <td>24.4773</td>\n",
       "      <td>0.0519</td>\n",
       "      <td>2.7083</td>\n",
       "      <td>3</td>\n",
       "      <td>0.00</td>\n",
       "    </tr>\n",
       "    <tr>\n",
       "      <th>1240</th>\n",
       "      <td>2012-12-03</td>\n",
       "      <td>20.82</td>\n",
       "      <td>2.7025</td>\n",
       "      <td>2.7739</td>\n",
       "      <td>24.4773</td>\n",
       "      <td>0.0519</td>\n",
       "      <td>2.7083</td>\n",
       "      <td>3</td>\n",
       "      <td>-0.31</td>\n",
       "    </tr>\n",
       "    <tr>\n",
       "      <th>1239</th>\n",
       "      <td>2012-12-04</td>\n",
       "      <td>20.86</td>\n",
       "      <td>2.7025</td>\n",
       "      <td>2.7739</td>\n",
       "      <td>24.4773</td>\n",
       "      <td>0.0519</td>\n",
       "      <td>2.7083</td>\n",
       "      <td>3</td>\n",
       "      <td>0.04</td>\n",
       "    </tr>\n",
       "    <tr>\n",
       "      <th>1238</th>\n",
       "      <td>2012-12-05</td>\n",
       "      <td>21.23</td>\n",
       "      <td>2.7025</td>\n",
       "      <td>2.7739</td>\n",
       "      <td>24.4773</td>\n",
       "      <td>0.0519</td>\n",
       "      <td>2.7083</td>\n",
       "      <td>3</td>\n",
       "      <td>0.37</td>\n",
       "    </tr>\n",
       "    <tr>\n",
       "      <th>1237</th>\n",
       "      <td>2012-12-06</td>\n",
       "      <td>21.37</td>\n",
       "      <td>2.7025</td>\n",
       "      <td>2.7739</td>\n",
       "      <td>24.4773</td>\n",
       "      <td>0.0519</td>\n",
       "      <td>2.7083</td>\n",
       "      <td>3</td>\n",
       "      <td>0.14</td>\n",
       "    </tr>\n",
       "    <tr>\n",
       "      <th>1236</th>\n",
       "      <td>2012-12-07</td>\n",
       "      <td>21.46</td>\n",
       "      <td>2.7025</td>\n",
       "      <td>2.7739</td>\n",
       "      <td>24.4773</td>\n",
       "      <td>0.0519</td>\n",
       "      <td>2.7083</td>\n",
       "      <td>3</td>\n",
       "      <td>0.09</td>\n",
       "    </tr>\n",
       "    <tr>\n",
       "      <th>1235</th>\n",
       "      <td>2012-12-10</td>\n",
       "      <td>21.39</td>\n",
       "      <td>2.7025</td>\n",
       "      <td>2.7739</td>\n",
       "      <td>24.4773</td>\n",
       "      <td>0.0519</td>\n",
       "      <td>2.7083</td>\n",
       "      <td>3</td>\n",
       "      <td>-0.07</td>\n",
       "    </tr>\n",
       "  </tbody>\n",
       "</table>\n",
       "</div>"
      ],
      "text/plain": [
       "           date  close  curr_ratio  tot_debt_tot_equity  oper_profit_margin  \\\n",
       "1259 2012-11-05  21.41      2.7025               2.7739             24.4773   \n",
       "1258 2012-11-06  21.59      2.7025               2.7739             24.4773   \n",
       "1257 2012-11-07  21.13      2.7025               2.7739             24.4773   \n",
       "1256 2012-11-08  20.89      2.7025               2.7739             24.4773   \n",
       "1255 2012-11-09  21.00      2.7025               2.7739             24.4773   \n",
       "1254 2012-11-12  20.89      2.7025               2.7739             24.4773   \n",
       "1253 2012-11-13  20.68      2.7025               2.7739             24.4773   \n",
       "1252 2012-11-14  20.01      2.7025               2.7739             24.4773   \n",
       "1251 2012-11-15  20.06      2.7025               2.7739             24.4773   \n",
       "1250 2012-11-16  20.15      2.7025               2.7739             24.4773   \n",
       "1249 2012-11-19  20.66      2.7025               2.7739             24.4773   \n",
       "1248 2012-11-20  20.62      2.7025               2.7739             24.4773   \n",
       "1247 2012-11-21  20.68      2.7025               2.7739             24.4773   \n",
       "1246 2012-11-23  21.04      2.7025               2.7739             24.4773   \n",
       "1245 2012-11-26  21.06      2.7025               2.7739             24.4773   \n",
       "1244 2012-11-27  20.87      2.7025               2.7739             24.4773   \n",
       "1243 2012-11-28  21.14      2.7025               2.7739             24.4773   \n",
       "1242 2012-11-29  21.13      2.7025               2.7739             24.4773   \n",
       "1241 2012-11-30  21.13      2.7025               2.7739             24.4773   \n",
       "1240 2012-12-03  20.82      2.7025               2.7739             24.4773   \n",
       "1239 2012-12-04  20.86      2.7025               2.7739             24.4773   \n",
       "1238 2012-12-05  21.23      2.7025               2.7739             24.4773   \n",
       "1237 2012-12-06  21.37      2.7025               2.7739             24.4773   \n",
       "1236 2012-12-07  21.46      2.7025               2.7739             24.4773   \n",
       "1235 2012-12-10  21.39      2.7025               2.7739             24.4773   \n",
       "\n",
       "      asset_turn  ret_equity  sentiment  close_delta  \n",
       "1259      0.0519      2.7083          3         0.00  \n",
       "1258      0.0519      2.7083          3         0.18  \n",
       "1257      0.0519      2.7083          3        -0.46  \n",
       "1256      0.0519      2.7083          3        -0.24  \n",
       "1255      0.0519      2.7083          3         0.11  \n",
       "1254      0.0519      2.7083          3        -0.11  \n",
       "1253      0.0519      2.7083          2        -0.21  \n",
       "1252      0.0519      2.7083          3        -0.67  \n",
       "1251      0.0519      2.7083          3         0.05  \n",
       "1250      0.0519      2.7083          3         0.09  \n",
       "1249      0.0519      2.7083          3         0.51  \n",
       "1248      0.0519      2.7083          3        -0.04  \n",
       "1247      0.0519      2.7083          3         0.06  \n",
       "1246      0.0519      2.7083          4         0.36  \n",
       "1245      0.0519      2.7083          3         0.02  \n",
       "1244      0.0519      2.7083          3        -0.19  \n",
       "1243      0.0519      2.7083          3         0.27  \n",
       "1242      0.0519      2.7083          3        -0.01  \n",
       "1241      0.0519      2.7083          3         0.00  \n",
       "1240      0.0519      2.7083          3        -0.31  \n",
       "1239      0.0519      2.7083          3         0.04  \n",
       "1238      0.0519      2.7083          3         0.37  \n",
       "1237      0.0519      2.7083          3         0.14  \n",
       "1236      0.0519      2.7083          3         0.09  \n",
       "1235      0.0519      2.7083          3        -0.07  "
      ]
     },
     "execution_count": 61,
     "metadata": {},
     "output_type": "execute_result"
    }
   ],
   "source": [
    "df.head(25)"
   ]
  },
  {
   "cell_type": "code",
   "execution_count": 5,
   "metadata": {
    "collapsed": false
   },
   "outputs": [],
   "source": [
    "import pandas as pd\n",
    "import numpy as np\n",
    "# Get some time series data\n",
    "df = pd.read_csv(\"https://raw.githubusercontent.com/plotly/datasets/master/timeseries.csv\")\n",
    "df['output']=[1,0,1,0,1,0,1,0,1,0,1]"
   ]
  },
  {
   "cell_type": "code",
   "execution_count": 6,
   "metadata": {
    "collapsed": false
   },
   "outputs": [
    {
     "data": {
      "text/plain": [
       "0     1\n",
       "1     0\n",
       "2     1\n",
       "3     0\n",
       "4     1\n",
       "5     0\n",
       "6     1\n",
       "7     0\n",
       "8     1\n",
       "9     0\n",
       "10    1\n",
       "Name: output, dtype: int64"
      ]
     },
     "execution_count": 6,
     "metadata": {},
     "output_type": "execute_result"
    }
   ],
   "source": [
    "df['output']"
   ]
  },
  {
   "cell_type": "code",
   "execution_count": 7,
   "metadata": {
    "collapsed": false
   },
   "outputs": [
    {
     "ename": "NameError",
     "evalue": "name 'sliding_window' is not defined",
     "output_type": "error",
     "traceback": [
      "\u001b[0;31m---------------------------------------------------------------------------\u001b[0m",
      "\u001b[0;31mNameError\u001b[0m                                 Traceback (most recent call last)",
      "\u001b[0;32m<ipython-input-7-c87464fef760>\u001b[0m in \u001b[0;36m<module>\u001b[0;34m()\u001b[0m\n\u001b[1;32m      1\u001b[0m \u001b[0minput_cols\u001b[0m \u001b[0;34m=\u001b[0m \u001b[0;34m[\u001b[0m\u001b[0;34m'curr_ratio'\u001b[0m\u001b[0;34m,\u001b[0m\u001b[0;34m'tot_debt_tot_equity'\u001b[0m\u001b[0;34m,\u001b[0m \u001b[0;34m'oper_profit_margin'\u001b[0m\u001b[0;34m,\u001b[0m\u001b[0;34m'asset_turn'\u001b[0m\u001b[0;34m,\u001b[0m\u001b[0;34m'ret_equity'\u001b[0m\u001b[0;34m,\u001b[0m\u001b[0;34m'sentiment'\u001b[0m\u001b[0;34m]\u001b[0m\u001b[0;34m\u001b[0m\u001b[0m\n\u001b[1;32m      2\u001b[0m \u001b[0mmydf\u001b[0m \u001b[0;34m=\u001b[0m \u001b[0mdf\u001b[0m\u001b[0;34m.\u001b[0m\u001b[0miloc\u001b[0m\u001b[0;34m[\u001b[0m\u001b[0;36m0\u001b[0m\u001b[0;34m:\u001b[0m\u001b[0;36m25\u001b[0m\u001b[0;34m]\u001b[0m\u001b[0;34m\u001b[0m\u001b[0m\n\u001b[0;32m----> 3\u001b[0;31m \u001b[0mx_train\u001b[0m\u001b[0;34m,\u001b[0m\u001b[0my_train\u001b[0m\u001b[0;34m=\u001b[0m\u001b[0msliding_window\u001b[0m\u001b[0;34m(\u001b[0m\u001b[0mmydf\u001b[0m\u001b[0;34m,\u001b[0m\u001b[0;36m5\u001b[0m\u001b[0;34m,\u001b[0m\u001b[0;36m1\u001b[0m\u001b[0;34m,\u001b[0m\u001b[0minput_cols\u001b[0m\u001b[0;34m,\u001b[0m\u001b[0;34m[\u001b[0m\u001b[0;34m'close_delta'\u001b[0m\u001b[0;34m]\u001b[0m\u001b[0;34m)\u001b[0m\u001b[0;34m\u001b[0m\u001b[0m\n\u001b[0m",
      "\u001b[0;31mNameError\u001b[0m: name 'sliding_window' is not defined"
     ]
    }
   ],
   "source": [
    "input_cols = ['curr_ratio','tot_debt_tot_equity', 'oper_profit_margin','asset_turn','ret_equity','sentiment']\n",
    "mydf = df.iloc[0:25]\n",
    "x_train,y_train=sliding_window(mydf,5,1,input_cols,['close_delta'])"
   ]
  },
  {
   "cell_type": "code",
   "execution_count": null,
   "metadata": {
    "collapsed": false
   },
   "outputs": [],
   "source": [
    "x_train"
   ]
  },
  {
   "cell_type": "code",
   "execution_count": null,
   "metadata": {
    "collapsed": false
   },
   "outputs": [],
   "source": [
    "y_train"
   ]
  },
  {
   "cell_type": "code",
   "execution_count": 14,
   "metadata": {
    "collapsed": true
   },
   "outputs": [],
   "source": [
    "#y_train = np.array(y_train)\n",
    "y_train = np.array(y_train).reshape((-1, 1))\n",
    "y_train = to_categorical(y_train)"
   ]
  },
  {
   "cell_type": "code",
   "execution_count": null,
   "metadata": {
    "collapsed": false
   },
   "outputs": [],
   "source": []
  },
  {
   "cell_type": "code",
   "execution_count": 15,
   "metadata": {
    "collapsed": false
   },
   "outputs": [
    {
     "data": {
      "text/plain": [
       "array([[ 1.,  0.],\n",
       "       [ 1.,  0.],\n",
       "       [ 1.,  0.],\n",
       "       [ 0.,  1.]])"
      ]
     },
     "execution_count": 15,
     "metadata": {},
     "output_type": "execute_result"
    }
   ],
   "source": [
    "y_train"
   ]
  },
  {
   "cell_type": "code",
   "execution_count": 16,
   "metadata": {
    "collapsed": false
   },
   "outputs": [
    {
     "name": "stderr",
     "output_type": "stream",
     "text": [
      "/home/mygpu/anaconda3/lib/python3.5/site-packages/ipykernel/__main__.py:6: UserWarning: Update your `LSTM` call to the Keras 2 API: `LSTM(128, activation=\"sigmoid\", return_sequences=True, recurrent_activation=\"hard_sigmoid\", input_shape=(5, 3))`\n",
      "/home/mygpu/anaconda3/lib/python3.5/site-packages/ipykernel/__main__.py:13: UserWarning: Update your `Dense` call to the Keras 2 API: `Dense(activation=\"sigmoid\", kernel_initializer=\"uniform\", units=2)`\n"
     ]
    }
   ],
   "source": [
    "model = Sequential()\n",
    "# input_shape = number of time-steps, number-of-features\n",
    "model.add(LSTM(128,input_shape=(5,3),\n",
    "               activation='sigmoid', \n",
    "               inner_activation='hard_sigmoid', \n",
    "               return_sequences=True))\n",
    "model.add(LSTM(128, activation='tanh', recurrent_activation='hard_sigmoid'))\n",
    "#model.add(Activation('sigmoid'))\n",
    "model.add(Dropout(0.2))\n",
    "#model.add(TimeDistributedDense(11))\n",
    "#model.add(Dense(128))\n",
    "model.add(Dense(64, kernel_initializer='uniform', activation='relu'))\n",
    "model.add(Dense(output_dim=2, kernel_initializer='uniform', activation='sigmoid'))\n",
    "#model.add(Activation('sigmoid'))\n",
    "model.compile(loss='categorical_crossentropy', optimizer='rmsprop')"
   ]
  },
  {
   "cell_type": "code",
   "execution_count": 17,
   "metadata": {
    "collapsed": false
   },
   "outputs": [
    {
     "name": "stdout",
     "output_type": "stream",
     "text": [
      "_________________________________________________________________\n",
      "Layer (type)                 Output Shape              Param #   \n",
      "=================================================================\n",
      "lstm_2 (LSTM)                (None, 5, 128)            67584     \n",
      "_________________________________________________________________\n",
      "lstm_3 (LSTM)                (None, 128)               131584    \n",
      "_________________________________________________________________\n",
      "dropout_2 (Dropout)          (None, 128)               0         \n",
      "_________________________________________________________________\n",
      "dense_1 (Dense)              (None, 64)                8256      \n",
      "_________________________________________________________________\n",
      "dense_2 (Dense)              (None, 2)                 130       \n",
      "=================================================================\n",
      "Total params: 207,554\n",
      "Trainable params: 207,554\n",
      "Non-trainable params: 0\n",
      "_________________________________________________________________\n"
     ]
    }
   ],
   "source": [
    "model.summary()"
   ]
  },
  {
   "cell_type": "code",
   "execution_count": 18,
   "metadata": {
    "collapsed": false
   },
   "outputs": [
    {
     "name": "stdout",
     "output_type": "stream",
     "text": [
      "Train...\n",
      "Train on 4 samples, validate on 4 samples\n",
      "Epoch 1/5\n",
      "4/4 [==============================] - 7s - loss: 0.6999 - val_loss: 0.6743\n",
      "Epoch 2/5\n",
      "4/4 [==============================] - 0s - loss: 0.6756 - val_loss: 0.6590\n",
      "Epoch 3/5\n",
      "4/4 [==============================] - 0s - loss: 0.6682 - val_loss: 0.6439\n",
      "Epoch 4/5\n",
      "4/4 [==============================] - 0s - loss: 0.6460 - val_loss: 0.6250\n",
      "Epoch 5/5\n",
      "4/4 [==============================] - 0s - loss: 0.6576 - val_loss: 0.6079\n"
     ]
    },
    {
     "data": {
      "text/plain": [
       "<keras.callbacks.History at 0x7f93d2ffa898>"
      ]
     },
     "execution_count": 18,
     "metadata": {},
     "output_type": "execute_result"
    }
   ],
   "source": [
    "print('Train...')\n",
    "model.fit(x_train, y_train,\n",
    "          batch_size=1,\n",
    "          epochs=5,\n",
    "          validation_data=(x_train, y_train))\n",
    "#score, acc = \n"
   ]
  },
  {
   "cell_type": "code",
   "execution_count": 20,
   "metadata": {
    "collapsed": false
   },
   "outputs": [
    {
     "name": "stdout",
     "output_type": "stream",
     "text": [
      "1/4 [======>.......................] - ETA: 0s\n",
      "Test score: 0.607855692506\n",
      "Test accuracy: <function accuracy_score at 0x7f93e070e7b8>\n"
     ]
    }
   ],
   "source": [
    "score = model.evaluate(x_train, y_train,batch_size=1)\n",
    "print()\n",
    "print('Test score:', score)\n",
    "print('Test accuracy:', accuracy_score)"
   ]
  },
  {
   "cell_type": "code",
   "execution_count": null,
   "metadata": {
    "collapsed": false
   },
   "outputs": [],
   "source": [
    "model.predict(x_train)"
   ]
  },
  {
   "cell_type": "code",
   "execution_count": 45,
   "metadata": {
    "collapsed": false
   },
   "outputs": [
    {
     "data": {
      "text/plain": [
       "1.0"
      ]
     },
     "execution_count": 45,
     "metadata": {},
     "output_type": "execute_result"
    }
   ],
   "source": []
  },
  {
   "cell_type": "code",
   "execution_count": 47,
   "metadata": {
    "collapsed": false
   },
   "outputs": [
    {
     "data": {
      "text/plain": [
       "array([[  24.68,  164.93,  114.73],\n",
       "       [  24.18,  164.89,  114.75],\n",
       "       [  23.99,  164.63,  115.04],\n",
       "       [  24.14,  163.92,  114.85],\n",
       "       [  24.44,  163.45,  114.84]])"
      ]
     },
     "execution_count": 47,
     "metadata": {},
     "output_type": "execute_result"
    }
   ],
   "source": []
  },
  {
   "cell_type": "code",
   "execution_count": 48,
   "metadata": {
    "collapsed": true
   },
   "outputs": [],
   "source": []
  },
  {
   "cell_type": "code",
   "execution_count": 53,
   "metadata": {
    "collapsed": false
   },
   "outputs": [],
   "source": []
  },
  {
   "cell_type": "code",
   "execution_count": 55,
   "metadata": {
    "collapsed": false
   },
   "outputs": [],
   "source": []
  },
  {
   "cell_type": "code",
   "execution_count": 71,
   "metadata": {
    "collapsed": false
   },
   "outputs": [
    {
     "data": {
      "text/plain": [
       "array([[  24.18,  164.89,  114.75],\n",
       "       [  23.99,  164.63,  115.04],\n",
       "       [  24.14,  163.92,  114.85],\n",
       "       [  24.44,  163.45,  114.84],\n",
       "       [  24.38,  163.46,  115.4 ]])"
      ]
     },
     "execution_count": 71,
     "metadata": {},
     "output_type": "execute_result"
    }
   ],
   "source": []
  },
  {
   "cell_type": "code",
   "execution_count": 67,
   "metadata": {
    "collapsed": false
   },
   "outputs": [
    {
     "data": {
      "text/plain": [
       "array([[[  24.18,  164.89,  114.75],\n",
       "        [  23.99,  164.63,  115.04],\n",
       "        [  24.14,  163.92,  114.85],\n",
       "        [  24.44,  163.45,  114.84],\n",
       "        [  24.38,  163.46,  115.4 ]]])"
      ]
     },
     "execution_count": 67,
     "metadata": {},
     "output_type": "execute_result"
    }
   ],
   "source": []
  },
  {
   "cell_type": "code",
   "execution_count": 81,
   "metadata": {
    "collapsed": false
   },
   "outputs": [],
   "source": []
  },
  {
   "cell_type": "code",
   "execution_count": 82,
   "metadata": {
    "collapsed": false
   },
   "outputs": [],
   "source": []
  },
  {
   "cell_type": "code",
   "execution_count": 83,
   "metadata": {
    "collapsed": false
   },
   "outputs": [
    {
     "data": {
      "text/plain": [
       "[array([[  24.18,  164.89,  114.75],\n",
       "        [  23.99,  164.63,  115.04],\n",
       "        [  24.14,  163.92,  114.85],\n",
       "        [  24.44,  163.45,  114.84],\n",
       "        [  24.38,  163.46,  115.4 ]])]"
      ]
     },
     "execution_count": 83,
     "metadata": {},
     "output_type": "execute_result"
    }
   ],
   "source": []
  },
  {
   "cell_type": "code",
   "execution_count": 79,
   "metadata": {
    "collapsed": false
   },
   "outputs": [],
   "source": []
  },
  {
   "cell_type": "code",
   "execution_count": 80,
   "metadata": {
    "collapsed": false
   },
   "outputs": [
    {
     "data": {
      "text/plain": [
       "[[[]], array([[  24.18,  164.89,  114.75],\n",
       "        [  23.99,  164.63,  115.04],\n",
       "        [  24.14,  163.92,  114.85],\n",
       "        [  24.44,  163.45,  114.84],\n",
       "        [  24.38,  163.46,  115.4 ]]), [[24.68, 164.93, 114.73],\n",
       "  [24.18, 164.89, 114.75],\n",
       "  [23.99, 164.63, 115.04],\n",
       "  [24.14, 163.92, 114.85],\n",
       "  [24.44, 163.45, 114.84],\n",
       "  [24.38, 163.46, 115.4],\n",
       "  [24.32, 163.22, 115.56],\n",
       "  [24.19, 164.02, 115.54],\n",
       "  [23.81, 163.59, 115.72],\n",
       "  [24.03, 163.32, 115.11],\n",
       "  [24.34, 163.34, 115.17]]]"
      ]
     },
     "execution_count": 80,
     "metadata": {},
     "output_type": "execute_result"
    }
   ],
   "source": []
  },
  {
   "cell_type": "code",
   "execution_count": 86,
   "metadata": {
    "collapsed": false
   },
   "outputs": [],
   "source": []
  },
  {
   "cell_type": "code",
   "execution_count": 87,
   "metadata": {
    "collapsed": false
   },
   "outputs": [
    {
     "data": {
      "text/plain": [
       "[[24.68, 164.93, 114.73],\n",
       " [24.18, 164.89, 114.75],\n",
       " [23.99, 164.63, 115.04],\n",
       " [24.14, 163.92, 114.85],\n",
       " [24.44, 163.45, 114.84],\n",
       " [24.38, 163.46, 115.4],\n",
       " [24.32, 163.22, 115.56],\n",
       " [24.19, 164.02, 115.54],\n",
       " [23.81, 163.59, 115.72],\n",
       " [24.03, 163.32, 115.11],\n",
       " [24.34, 163.34, 115.17]]"
      ]
     },
     "execution_count": 87,
     "metadata": {},
     "output_type": "execute_result"
    }
   ],
   "source": [
    "ALL"
   ]
  },
  {
   "cell_type": "code",
   "execution_count": 88,
   "metadata": {
    "collapsed": true
   },
   "outputs": [],
   "source": [
    "a=[[[]]]"
   ]
  },
  {
   "cell_type": "code",
   "execution_count": 89,
   "metadata": {
    "collapsed": true
   },
   "outputs": [],
   "source": [
    "a[0] = ALL[0:5]"
   ]
  },
  {
   "cell_type": "code",
   "execution_count": 90,
   "metadata": {
    "collapsed": true
   },
   "outputs": [],
   "source": [
    "a.append(ALL[1:6])"
   ]
  },
  {
   "cell_type": "code",
   "execution_count": 91,
   "metadata": {
    "collapsed": false
   },
   "outputs": [
    {
     "data": {
      "text/plain": [
       "[[[24.68, 164.93, 114.73],\n",
       "  [24.18, 164.89, 114.75],\n",
       "  [23.99, 164.63, 115.04],\n",
       "  [24.14, 163.92, 114.85],\n",
       "  [24.44, 163.45, 114.84]],\n",
       " [[24.18, 164.89, 114.75],\n",
       "  [23.99, 164.63, 115.04],\n",
       "  [24.14, 163.92, 114.85],\n",
       "  [24.44, 163.45, 114.84],\n",
       "  [24.38, 163.46, 115.4]]]"
      ]
     },
     "execution_count": 91,
     "metadata": {},
     "output_type": "execute_result"
    }
   ],
   "source": [
    "a"
   ]
  },
  {
   "cell_type": "code",
   "execution_count": 92,
   "metadata": {
    "collapsed": false
   },
   "outputs": [
    {
     "data": {
      "text/plain": [
       "array([[[  24.68,  164.93,  114.73],\n",
       "        [  24.18,  164.89,  114.75],\n",
       "        [  23.99,  164.63,  115.04],\n",
       "        [  24.14,  163.92,  114.85],\n",
       "        [  24.44,  163.45,  114.84]],\n",
       "\n",
       "       [[  24.18,  164.89,  114.75],\n",
       "        [  23.99,  164.63,  115.04],\n",
       "        [  24.14,  163.92,  114.85],\n",
       "        [  24.44,  163.45,  114.84],\n",
       "        [  24.38,  163.46,  115.4 ]]])"
      ]
     },
     "execution_count": 92,
     "metadata": {},
     "output_type": "execute_result"
    }
   ],
   "source": [
    "np.array(a)"
   ]
  },
  {
   "cell_type": "code",
   "execution_count": 97,
   "metadata": {
    "collapsed": false
   },
   "outputs": [
    {
     "data": {
      "text/plain": [
       "11"
      ]
     },
     "execution_count": 97,
     "metadata": {},
     "output_type": "execute_result"
    }
   ],
   "source": [
    "len(ALL)"
   ]
  },
  {
   "cell_type": "code",
   "execution_count": null,
   "metadata": {
    "collapsed": true
   },
   "outputs": [],
   "source": []
  }
 ],
 "metadata": {
  "anaconda-cloud": {},
  "kernelspec": {
   "display_name": "Python [conda root]",
   "language": "python",
   "name": "conda-root-py"
  },
  "language_info": {
   "codemirror_mode": {
    "name": "ipython",
    "version": 3
   },
   "file_extension": ".py",
   "mimetype": "text/x-python",
   "name": "python",
   "nbconvert_exporter": "python",
   "pygments_lexer": "ipython3",
   "version": "3.5.2"
  }
 },
 "nbformat": 4,
 "nbformat_minor": 1
}
