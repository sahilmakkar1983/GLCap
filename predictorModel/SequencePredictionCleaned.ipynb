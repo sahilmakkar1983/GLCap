{
 "cells": [
  {
   "cell_type": "code",
   "execution_count": 668,
   "metadata": {
    "collapsed": false
   },
   "outputs": [],
   "source": [
    "import os\n",
    "import pickle\n",
    "import argparse\n",
    "\n",
    "import gensim\n",
    "from gensim.models import word2vec\n",
    "\n",
    "import numpy as np\n",
    "import pandas as pd\n",
    "from sklearn.model_selection import StratifiedShuffleSplit\n",
    "from sklearn.metrics import accuracy_score\n",
    "from sklearn.metrics import confusion_matrix\n",
    "\n",
    "import nltk\n",
    "from nltk.tokenize import word_tokenize\n",
    "\n",
    "\n",
    "from keras.callbacks import ModelCheckpoint\n",
    "from keras.layers import Dense, Activation\n",
    "from keras.layers import Dropout\n",
    "from keras.layers import Flatten\n",
    "from keras.layers import LSTM, Bidirectional\n",
    "from keras.layers.embeddings import Embedding\n",
    "from keras.models import Sequential\n",
    "from keras.optimizers import Adam\n",
    "from keras.preprocessing import sequence\n",
    "from keras.utils import np_utils\n",
    "from keras.utils import to_categorical\n",
    "#x_train = sequence.pad_sequences(x_train, maxlen=maxlen)\n",
    "from keras import backend as K\n",
    "from keras.callbacks import EarlyStopping\n",
    "\n",
    "from sklearn import preprocessing\n"
   ]
  },
  {
   "cell_type": "code",
   "execution_count": 669,
   "metadata": {
    "collapsed": false
   },
   "outputs": [],
   "source": [
    "def sliding_window(df,window_size,window_stride,input_features=None, output_features=None):\n",
    "    allData = df[input_features].values.tolist()\n",
    "    if output_features:\n",
    "        outputData = [i[0] for i in df[output_features].values.tolist()]\n",
    "    myArray = [[]]\n",
    "    outputDataArray = [] \n",
    "    \n",
    "    start=0\n",
    "    for i in range(0,len(allData),window_stride):\n",
    "        if i == 0:\n",
    "            myArray = [allData[i:window_size+i]]\n",
    "            if output_features != None:\n",
    "                #outputDataArray.append(outputData[window_size+i][0])\n",
    "                outputDataArray=[outputData[i+window_size-1]]\n",
    "                #print(1,type(outputDataArray))\n",
    "        else:\n",
    "            myArray.append(allData[i:window_size+i])\n",
    "            \n",
    "            if window_size+i >= len(allData):\n",
    "                if output_features != None:\n",
    "                    #print(2,type(outputDataArray))\n",
    "                    outputDataArray.append(outputData[len(allData)-1])\n",
    "                break\n",
    "            if output_features != None:\n",
    "                    #outputDataArray.append(outputData[window_size+i][0])\n",
    "                    #print(3,type(outputDataArray))\n",
    "                    outputDataArray.append(outputData[i+window_size-1])\n",
    "\n",
    "    if output_features == None:\n",
    "            return (np.array(myArray))\n",
    "    print(np.shape(np.array(myArray)))\n",
    "    #return (np.array(myArray), outputDataArray)\n",
    "    return (myArray, outputDataArray)\n",
    "\n",
    "def mystratifiedOutputSampler(df, target):\n",
    "    #a = {i:[] for i in df[target].unique()}\n",
    "    xTIndexes = []\n",
    "    minLen = None\n",
    "    #print(a)\n",
    "    for i in df[target].unique():\n",
    "        #a[i] = df.index[df[target] != i].tolist()\n",
    "        a = df.index[df[target] != i].tolist()\n",
    "        print(i,len(a))\n",
    "        if minLen == None or minLen > len(a):\n",
    "            minLen = len(a)\n",
    "    #for i in a.keys():\n",
    "    print(minLen)\n",
    "    for i in df[target].unique():\n",
    "        if not xTIndexes:\n",
    "                print(2)\n",
    "                xTIndexes = list(np.random.choice(df.index[df[target] != i].tolist(), size=minLen, replace=False))\n",
    "        else:\n",
    "            #print(OnlyNeutal)\n",
    "            xTIndexes = xTIndexes + list(np.random.choice(df.index[df[target] != i].tolist(), size=minLen, replace=False))\n",
    "\n",
    "    return (xTIndexes)"
   ]
  },
  {
   "cell_type": "code",
   "execution_count": 670,
   "metadata": {
    "collapsed": false
   },
   "outputs": [],
   "source": [
    "\n",
    "def fileProcessor(csvFile,stockName):\n",
    "    dateparse = lambda x: pd.datetime.strptime(x, '%d-%m-%Y')\n",
    "    df = pd.read_csv(csvFile, parse_dates=['date'],date_parser=dateparse)\n",
    "    #df = pd.read_csv(\"/datadrive/Sahil/code/GL/fewTrails/Datasets/GE.csv\", parse_dates=['date'],date_parser=dateparse)\n",
    "\n",
    "\n",
    "    df[\"date\"]  = pd.to_datetime(df.date)\n",
    "    #type(df[\"date\"].iloc[0])\n",
    "    df = df.sort_values(by=\"date\")\n",
    "\n",
    "    df['close_delta'] = 0\n",
    "    df['close_direction'] = 0\n",
    "    df['Stock_name'] = stockName\n",
    "    for index in range(0,df.shape[0]):\n",
    "        #print(index,df.iloc[index]['close'])\n",
    "        if index == 0:\n",
    "            df['close_delta'].iloc[index] =  (float(0))\n",
    "            df['close_direction'].iloc[index] =  1\n",
    "        #elif index <= df.shape[0]-1:\n",
    "        else:\n",
    "            df['close_delta'].iloc[index] = ((df['close'].iloc[index] - df['close'].iloc[index-1])/df['close'].iloc[index-1])*100\n",
    "            if df['close_delta'].iloc[index] >= 1:\n",
    "                df['close_direction'].iloc[index] = 2\n",
    "            elif df['close_delta'].iloc[index] <= -1:\n",
    "                df['close_direction'].iloc[index] = 0\n",
    "            else:\n",
    "                df['close_direction'].iloc[index] = 1\n",
    "    return (df)\n",
    "'''\n",
    "fileCount = 0\n",
    "import os\n",
    "for root, dirs, files in os.walk(\"/datadrive/Sahil/code/GL/fewTrails/Datasets\"):\n",
    "    for file in files:\n",
    "        if file.endswith(\".csv\"):\n",
    "            print(os.path.join(root, file))\n",
    "            if fileCount == 0:\n",
    "                df = fileProcessor(os.path.join(root, file),file.split('.')[0])\n",
    "            else:\n",
    "                df = df.append(fileProcessor(os.path.join(root, file),file.split('.')[0]))\n",
    "                \n",
    "'''    \n",
    "gCount=0\n",
    "#df.apply(lambda x: featureTransform(x,df.shape[0]),axis=1)\n",
    "#df.shape[0]\n",
    "dateparse = lambda x: pd.datetime.strptime(x, '%Y-%m-%d')\n",
    "csvFile = \"/datadrive/Sahil/code/GL/fewTrails/Datasets/ALL_clean.csv\"\n",
    "df = pd.read_csv(csvFile, parse_dates=['date'],date_parser=dateparse)"
   ]
  },
  {
   "cell_type": "code",
   "execution_count": 671,
   "metadata": {
    "collapsed": false
   },
   "outputs": [
    {
     "name": "stdout",
     "output_type": "stream",
     "text": [
      "1 2693\n",
      "0 7446\n",
      "2 7175\n",
      "2693\n",
      "2\n",
      "(8079, 1, 6)\n",
      "(8079, 1, 6)\n",
      "MICROSOFT\n",
      "(1181, 1, 6)\n",
      "APPLE\n",
      "(1064, 1, 6)\n",
      "<class 'list'> <class 'list'> (1181, 1, 6)\n",
      "DISNEY\n",
      "(1159, 1, 6)\n",
      "<class 'list'> <class 'list'> (2245, 1, 6)\n",
      "BOEING\n",
      "(1264, 1, 6)\n",
      "<class 'list'> <class 'list'> (3404, 1, 6)\n",
      "GE\n",
      "(1152, 1, 6)\n",
      "<class 'list'> <class 'list'> (4668, 1, 6)\n",
      "IBM\n",
      "(1164, 1, 6)\n",
      "<class 'list'> <class 'list'> (5820, 1, 6)\n",
      "MCD\n",
      "(1095, 1, 6)\n",
      "<class 'list'> <class 'list'> (6984, 1, 6)\n"
     ]
    }
   ],
   "source": [
    "window_size = 1\n",
    "input_cols = ['curr_ratio','tot_debt_tot_equity', 'oper_profit_margin','asset_turn','ret_equity','sentiment']\n",
    "\n",
    "input_cols_scale = ['curr_ratio','tot_debt_tot_equity', 'oper_profit_margin','asset_turn','ret_equity',]\n",
    "\n",
    "df = df.dropna().reset_index(drop=True)\n",
    "#df_all.reset_index(drop=True)\n",
    "mydf =  pd.DataFrame(preprocessing.scale(df[input_cols_scale]),columns=input_cols_scale)\n",
    "mydf['sentiment'] = df['sentiment']\n",
    "mydf['close_direction'] = df['close_direction']\n",
    "mydf['Stock_name'] = df['Stock_name']\n",
    "train_indexes = mystratifiedOutputSampler(mydf,'close_direction')\n",
    "mydf = mydf.iloc[train_indexes]\n",
    "\n",
    "x_train,y_train=sliding_window(mydf,window_size,1,input_cols,['close_direction'])\n",
    "x_train = np.array(x_train)\n",
    "print(np.shape(x_train))\n",
    "for index,stock in enumerate(mydf['Stock_name'].unique()):\n",
    "    print(stock)\n",
    "    if index == 0:\n",
    "        x_train,y_train=sliding_window(mydf[mydf['Stock_name'] == stock],window_size,1,input_cols,['close_direction'])\n",
    "    else:\n",
    "        x_,y_=sliding_window(mydf[mydf['Stock_name'] == stock],window_size,1,input_cols,['close_direction'])\n",
    "        print(type(x_train),type(x_),np.shape(x_train))\n",
    "        x_train = x_train + x_\n",
    "        y_train = y_train + y_\n",
    "x_train = np.array(x_train)\n",
    "#y_train = np.array(y_train)"
   ]
  },
  {
   "cell_type": "code",
   "execution_count": 672,
   "metadata": {
    "collapsed": false
   },
   "outputs": [],
   "source": [
    "y_train1 = np.array(y_train)\n",
    "y_train1 = np.array(y_train1).reshape((-1, 1))\n",
    "#y_train = to_categorical(y_train)\n",
    "\n",
    "from sklearn.preprocessing import OneHotEncoder\n",
    "onehot_encoder = OneHotEncoder(sparse=False)\n",
    "#integer_encoded = integer_encoded.reshape(len(integer_encoded), 1)\n",
    "y_train = onehot_encoder.fit_transform(y_train1)"
   ]
  },
  {
   "cell_type": "code",
   "execution_count": 673,
   "metadata": {
    "collapsed": false
   },
   "outputs": [
    {
     "data": {
      "text/plain": [
       "3"
      ]
     },
     "execution_count": 673,
     "metadata": {},
     "output_type": "execute_result"
    }
   ],
   "source": [
    "np.shape(y_train)[1]\n",
    "#onehot_encoder.transform(y_train1[0]).tolist()[0]\n",
    "#for i in onehot_encoder.transform(y_train1):\n",
    "#    print(i)"
   ]
  },
  {
   "cell_type": "code",
   "execution_count": 674,
   "metadata": {
    "collapsed": false
   },
   "outputs": [],
   "source": [
    "from sklearn.model_selection import train_test_split\n",
    "\n",
    "def getBalancedSamples(x_train,proportionBYNonNeutal=.7,neutalProportionToOther=.7):\n",
    "    #proportionBYNonNeutal = .7\n",
    "    #neutalProportionToOther = .7\n",
    "    AllWithAnyOtherThanNeutal = []\n",
    "    OnlyNeutal=[]\n",
    "    #for index,i in enumerate(x_train[1:500,:,:]):\n",
    "    for index,i in enumerate(x_train[:,:,:]):\n",
    "        #print()\n",
    "        #print(i)\n",
    "        #print(i[:,5])\n",
    "        if 1 in i[:,5] or 2 in i[:,5] or 4 in i[:,5] or 5 in i[:,5]  :\n",
    "            #print(\"TRUE\")\n",
    "            if not AllWithAnyOtherThanNeutal:\n",
    "                AllWithAnyOtherThanNeutal = [index]\n",
    "            else:\n",
    "                AllWithAnyOtherThanNeutal.append(index)\n",
    "        else:\n",
    "            if not OnlyNeutal:\n",
    "                print(2)\n",
    "                OnlyNeutal = [index]\n",
    "            else:\n",
    "                #print(OnlyNeutal)\n",
    "                OnlyNeutal.append(index)\n",
    "    print (len(AllWithAnyOtherThanNeutal))\n",
    "    print (len(OnlyNeutal))\n",
    "    #AllWithAnyOtherThanNeutal[np.random.randint(0,100,size=20)]\n",
    "    proportion = .7\n",
    "    size = int(round(proportion*len(AllWithAnyOtherThanNeutal),0))\n",
    "    print(size)\n",
    "    #xTIndexesPart1 = [AllWithAnyOtherThanNeutal[i] for i in list(np.random.randint(0,100,size=size))]\n",
    "    #xTIndexesPart2 = [OnlyNeutal[i] for i in list(np.random.randint(0,100,size=int(round(size*.7)))) ]\n",
    "    #print(len(xTIndexesPart1),len(xTIndexesPart2))\n",
    "    #xTIndexes = AllWithAnyOtherThanNeutal + OnlyNeutal\n",
    "    \n",
    "    #X_train, X_test, y_train, y_test = train_test_split(x_train[xTIndexes,:,:], y[xTIndexes], test_size=0.2)\n",
    "    xTIndexesPart1 = list(np.random.choice(AllWithAnyOtherThanNeutal, size=size, replace=False))\n",
    "    xTIndexesPart2 = list(np.random.choice(OnlyNeutal, size=int(round(size*.7)), replace=False))\n",
    "    xTIndexes = xTIndexesPart1 + xTIndexesPart2\n",
    "    print(len(xTIndexes))\n",
    "    xTIndexesPart1 = list(np.random.choice(xTIndexes, size=len(xTIndexes), replace=False))\n",
    "    #xTIndexes = np.sort(xTIndexes)\n",
    "    return(xTIndexes)\n"
   ]
  },
  {
   "cell_type": "code",
   "execution_count": 675,
   "metadata": {
    "collapsed": false
   },
   "outputs": [
    {
     "data": {
      "text/plain": [
       "array([1, 0, 2])"
      ]
     },
     "execution_count": 675,
     "metadata": {},
     "output_type": "execute_result"
    }
   ],
   "source": [
    "df['close_direction'].unique()"
   ]
  },
  {
   "cell_type": "code",
   "execution_count": 676,
   "metadata": {
    "collapsed": false
   },
   "outputs": [],
   "source": [
    "#train_indexes = mystratifiedOutputSampler(df,'close_direction')"
   ]
  },
  {
   "cell_type": "code",
   "execution_count": 677,
   "metadata": {
    "collapsed": false
   },
   "outputs": [
    {
     "name": "stdout",
     "output_type": "stream",
     "text": [
      "573\n",
      "1772 7044\n"
     ]
    }
   ],
   "source": [
    "#onehot_encoded[0:30]\n",
    "print(len(a))\n",
    "print(len(AllWithAnyOtherThanNeutal), len(OnlyNeutal))"
   ]
  },
  {
   "cell_type": "code",
   "execution_count": 678,
   "metadata": {
    "collapsed": false
   },
   "outputs": [],
   "source": [
    "#train_indexes = getBalancedSamples(x_train)"
   ]
  },
  {
   "cell_type": "code",
   "execution_count": 679,
   "metadata": {
    "collapsed": false
   },
   "outputs": [
    {
     "name": "stdout",
     "output_type": "stream",
     "text": [
      "2\n",
      "465\n",
      "7614\n",
      "326\n",
      "554\n"
     ]
    },
    {
     "data": {
      "text/plain": [
       "array([[ 1.,  0.,  0.],\n",
       "       [ 0.,  0.,  1.],\n",
       "       [ 1.,  0.,  0.],\n",
       "       ..., \n",
       "       [ 1.,  0.,  0.],\n",
       "       [ 0.,  1.,  0.],\n",
       "       [ 0.,  0.,  1.]])"
      ]
     },
     "execution_count": 679,
     "metadata": {},
     "output_type": "execute_result"
    }
   ],
   "source": [
    "#y_train\n",
    "train_indexes = getBalancedSamples(x_train)\n",
    "X_train = x_train[train_indexes]\n",
    "Y_train = y_train[train_indexes]\n",
    "\n",
    "#X_train = x_train\n",
    "#Y_train = y_train\n",
    "Y_train"
   ]
  },
  {
   "cell_type": "code",
   "execution_count": 705,
   "metadata": {
    "collapsed": false
   },
   "outputs": [
    {
     "name": "stderr",
     "output_type": "stream",
     "text": [
      "/home/mygpu/anaconda3/lib/python3.5/site-packages/ipykernel/__main__.py:8: UserWarning: Update your `LSTM` call to the Keras 2 API: `LSTM(128, activation=\"softsign\", return_sequences=True, input_shape=(1, 6), recurrent_activation=\"hard_sigmoid\")`\n",
      "/home/mygpu/anaconda3/lib/python3.5/site-packages/ipykernel/__main__.py:20: UserWarning: Update your `Dense` call to the Keras 2 API: `Dense(activation=\"softmax\", units=3)`\n"
     ]
    }
   ],
   "source": [
    "from numpy.random import seed\n",
    "seed(1)\n",
    "model = Sequential()\n",
    "# input_shape = number of time-steps, number-of-features\n",
    "model.add(LSTM(128,input_shape=(window_size,len(input_cols)),\n",
    "               activation='softsign', \n",
    "               inner_activation='hard_sigmoid', \n",
    "               return_sequences=True))\n",
    "model.add(LSTM(128, activation='softsign', recurrent_activation='hard_sigmoid'))\n",
    "#model.add(Activation('sigmoid'))\n",
    "model.add(Dropout(0.5))\n",
    "#model.add(TimeDistributedDense(11))\n",
    "#model.add(Dense(128))\n",
    "model.add(Dense(128,activation='tanh'))\n",
    "#model.add(Dropout(0.5))\n",
    "model.add(Dense(64, activation='tanh'))\n",
    "#model.add(Dropout(0.2))\n",
    "model.add(Dense(32, activation='tanh'))\n",
    "#model.add(Dropout(0.2))\n",
    "model.add(Dense(output_dim=np.shape(y_train)[1], activation='softmax'))\n",
    "#model.add(Activation('sigmoid'))\n",
    "model.compile(loss='categorical_crossentropy', optimizer='rmsprop')"
   ]
  },
  {
   "cell_type": "code",
   "execution_count": 706,
   "metadata": {
    "collapsed": false
   },
   "outputs": [
    {
     "name": "stdout",
     "output_type": "stream",
     "text": [
      "_________________________________________________________________\n",
      "Layer (type)                 Output Shape              Param #   \n",
      "=================================================================\n",
      "lstm_63 (LSTM)               (None, 1, 128)            69120     \n",
      "_________________________________________________________________\n",
      "lstm_64 (LSTM)               (None, 128)               131584    \n",
      "_________________________________________________________________\n",
      "dropout_52 (Dropout)         (None, 128)               0         \n",
      "_________________________________________________________________\n",
      "dense_112 (Dense)            (None, 128)               16512     \n",
      "_________________________________________________________________\n",
      "dense_113 (Dense)            (None, 64)                8256      \n",
      "_________________________________________________________________\n",
      "dense_114 (Dense)            (None, 32)                2080      \n",
      "_________________________________________________________________\n",
      "dense_115 (Dense)            (None, 3)                 99        \n",
      "=================================================================\n",
      "Total params: 227,651\n",
      "Trainable params: 227,651\n",
      "Non-trainable params: 0\n",
      "_________________________________________________________________\n"
     ]
    }
   ],
   "source": [
    "model.summary()"
   ]
  },
  {
   "cell_type": "code",
   "execution_count": 707,
   "metadata": {
    "collapsed": false
   },
   "outputs": [
    {
     "name": "stdout",
     "output_type": "stream",
     "text": [
      "Train...\n",
      "Train on 554 samples, validate on 554 samples\n",
      "Epoch 1/5\n",
      "554/554 [==============================] - 8s - loss: 1.1033 - val_loss: 1.0842\n",
      "Epoch 2/5\n",
      "554/554 [==============================] - 6s - loss: 1.0952 - val_loss: 1.0733\n",
      "Epoch 3/5\n",
      "554/554 [==============================] - 6s - loss: 1.0888 - val_loss: 1.0614\n",
      "Epoch 4/5\n",
      "554/554 [==============================] - 6s - loss: 1.0817 - val_loss: 1.0878\n",
      "Epoch 5/5\n",
      "554/554 [==============================] - 6s - loss: 1.0518 - val_loss: 1.0030\n"
     ]
    },
    {
     "data": {
      "text/plain": [
       "<keras.callbacks.History at 0x7fd777cbf5f8>"
      ]
     },
     "execution_count": 707,
     "metadata": {},
     "output_type": "execute_result"
    }
   ],
   "source": [
    "print('Train...')\n",
    "model.fit(X_train, Y_train,\n",
    "          batch_size=1,\n",
    "          epochs=5,\n",
    "          validation_data=(X_train, Y_train))\n",
    "#score, acc = \n"
   ]
  },
  {
   "cell_type": "code",
   "execution_count": 708,
   "metadata": {
    "collapsed": false
   },
   "outputs": [
    {
     "name": "stdout",
     "output_type": "stream",
     "text": [
      "553/554 [============================>.] - ETA: 0s\n",
      "Test score: 1.00296197407\n",
      "[[ 0.27092928  0.54562217  0.18344855]\n",
      " [ 0.2456191   0.51525331  0.23912758]\n",
      " [ 0.65115207  0.16211382  0.18673415]\n",
      " ..., \n",
      " [ 0.1423914   0.22440773  0.63320082]\n",
      " [ 0.31912741  0.33378804  0.34708461]\n",
      " [ 0.29017892  0.52044731  0.18937375]]\n"
     ]
    }
   ],
   "source": [
    "score = model.evaluate(X_train, Y_train,batch_size=1)\n",
    "print()\n",
    "print('Test score:', score)\n",
    "print(model.predict(X_train))\n",
    "#print('Test accuracy:', confusion_matrix(Y_train,model.predict_classes(X_train)))"
   ]
  },
  {
   "cell_type": "code",
   "execution_count": 709,
   "metadata": {
    "collapsed": false
   },
   "outputs": [
    {
     "name": "stdout",
     "output_type": "stream",
     "text": [
      "544/554 [============================>.] - ETA: 0s"
     ]
    }
   ],
   "source": [
    "#model.predict(x_train)\n",
    "a = model.predict_classes(X_train)"
   ]
  },
  {
   "cell_type": "code",
   "execution_count": 710,
   "metadata": {
    "collapsed": false
   },
   "outputs": [
    {
     "data": {
      "text/plain": [
       "array([1, 1, 0, 1, 2, 1, 2, 2, 1, 2, 1, 0, 1, 2, 2, 1, 1, 2, 1, 0, 1, 1, 1,\n",
       "       1, 2, 1, 2, 1, 2, 2, 1, 2, 2, 1, 2, 2, 0, 1, 1, 0, 2, 1, 1, 2, 2, 0,\n",
       "       0, 1, 0, 1, 1, 0, 1, 1, 1, 1, 1, 2, 0, 2, 1, 1, 1, 1, 0, 2, 1, 1, 0,\n",
       "       1, 2, 1, 1, 2, 1, 1, 1, 1, 2, 1, 2, 2, 1, 1, 2, 1, 2, 1, 1, 1, 0, 0,\n",
       "       0, 0, 2, 2, 1, 2, 0, 1, 1, 2, 2, 2, 2, 1, 1, 0, 1, 2, 1, 1, 2, 1, 1,\n",
       "       1, 1, 2, 1, 0, 1, 1, 2, 1, 2, 1, 0, 1, 1, 1, 1, 0, 1, 1, 0, 1, 1, 0,\n",
       "       0, 1, 1, 1, 1, 1, 1, 1, 1, 2, 0, 0, 1, 2, 0, 1, 1, 2, 0, 1, 1, 1, 1,\n",
       "       2, 0, 2, 0, 0, 1, 0, 0, 1, 1, 1, 1, 0, 2, 1, 0, 2, 2, 2, 0, 2, 0, 0,\n",
       "       2, 0, 1, 1, 1, 1, 1, 1, 0, 1, 1, 1, 2, 0, 2, 0, 0, 1, 2, 0, 0, 0, 1,\n",
       "       1, 0, 1, 1, 0, 1, 2, 0, 2, 1, 0, 2, 0, 1, 1, 1, 0, 0, 0, 1, 1, 2, 0,\n",
       "       2, 0, 0, 1, 1, 0, 2, 1, 2, 0, 2, 1, 1, 1, 0, 0, 1, 1, 2, 1, 1, 1, 0,\n",
       "       2, 1, 2, 1, 1, 1, 1, 0, 1, 2, 1, 1, 2, 1, 1, 1, 2, 1, 1, 1, 0, 1, 1,\n",
       "       1, 1, 1, 1, 0, 1, 2, 0, 1, 0, 2, 1, 1, 2, 0, 0, 0, 1, 0, 0, 0, 2, 2,\n",
       "       1, 2, 0, 0, 1, 1, 0, 1, 0, 2, 2, 1, 0, 0, 0, 2, 0, 1, 1, 0, 1, 2, 2,\n",
       "       1, 1, 2, 0, 1, 2, 1, 1, 1, 1, 1, 1, 1, 2, 1, 2, 1, 1, 2, 1, 1, 1, 2,\n",
       "       1, 1, 1, 1, 1, 2, 1, 2, 1, 2, 1, 1, 1, 1, 2, 1, 2, 1, 1, 1, 1, 1, 1,\n",
       "       1, 1, 1, 1, 1, 2, 2, 2, 2, 0, 1, 1, 1, 1, 1, 1, 1, 1, 1, 1, 1, 1, 1,\n",
       "       2, 1, 2, 1, 1, 1, 1, 1, 2, 1, 2, 1, 1, 2, 1, 1, 1, 2, 2, 1, 1, 1, 1,\n",
       "       1, 1, 1, 0, 1, 1, 1, 1, 0, 1, 1, 1, 2, 1, 2, 1, 2, 2, 1, 1, 1, 2, 1,\n",
       "       1, 1, 1, 1, 1, 1, 1, 2, 1, 1, 1, 1, 2, 1, 1, 2, 2, 2, 1, 1, 2, 2, 1,\n",
       "       2, 1, 1, 2, 1, 1, 1, 1, 1, 1, 1, 2, 2, 2, 1, 1, 1, 2, 2, 1, 2, 1, 1,\n",
       "       1, 1, 1, 1, 1, 1, 1, 1, 1, 0, 1, 1, 2, 1, 1, 1, 1, 1, 1, 1, 1, 1, 2,\n",
       "       1, 1, 2, 1, 1, 2, 1, 1, 2, 1, 2, 2, 2, 2, 1, 1, 1, 2, 1, 1, 1, 1, 1,\n",
       "       1, 1, 1, 2, 1, 1, 1, 1, 1, 2, 2, 2, 1, 1, 1, 1, 2, 1, 1, 2, 1, 2, 2,\n",
       "       2, 1])"
      ]
     },
     "execution_count": 710,
     "metadata": {},
     "output_type": "execute_result"
    }
   ],
   "source": [
    "b = set(a)\n",
    "a"
   ]
  },
  {
   "cell_type": "code",
   "execution_count": 711,
   "metadata": {
    "collapsed": false
   },
   "outputs": [],
   "source": [
    "y_train\n",
    "#list(y_train1)\n",
    "#onehot_encoder = OneHotEncoder(sparse=False)\n",
    "onehot_encoder.active_features_\n",
    "labels = Y_train.dot(onehot_encoder.active_features_).astype(int)"
   ]
  },
  {
   "cell_type": "code",
   "execution_count": 712,
   "metadata": {
    "collapsed": false
   },
   "outputs": [
    {
     "name": "stdout",
     "output_type": "stream",
     "text": [
      "0.5180505415162455\n"
     ]
    }
   ],
   "source": [
    "accuracy = len(np.where(a == labels)[0].tolist())/len(labels)\n",
    "print (accuracy)"
   ]
  },
  {
   "cell_type": "code",
   "execution_count": 713,
   "metadata": {
    "collapsed": false
   },
   "outputs": [
    {
     "data": {
      "text/plain": [
       "array([[ 56,  21,  10],\n",
       "       [ 83, 160,  84],\n",
       "       [ 21,  48,  71]])"
      ]
     },
     "execution_count": 713,
     "metadata": {},
     "output_type": "execute_result"
    }
   ],
   "source": [
    "confusion_matrix(a.tolist(),labels.tolist())"
   ]
  },
  {
   "cell_type": "code",
   "execution_count": 714,
   "metadata": {
    "collapsed": false
   },
   "outputs": [],
   "source": [
    "output = pd.DataFrame(columns=['predicted','actual'])\n",
    "output['predicted'] = a.tolist()\n",
    "output['actual'] = labels.tolist()\n",
    "output['Stock'] = list(mydf['Stock_name'].iloc[train_indexes])\n",
    "output['Sentiment'] = list(mydf['sentiment'].iloc[train_indexes])"
   ]
  },
  {
   "cell_type": "code",
   "execution_count": 715,
   "metadata": {
    "collapsed": false
   },
   "outputs": [
    {
     "data": {
      "text/html": [
       "<div>\n",
       "<table border=\"1\" class=\"dataframe\">\n",
       "  <thead>\n",
       "    <tr style=\"text-align: right;\">\n",
       "      <th></th>\n",
       "      <th>predicted</th>\n",
       "      <th>actual</th>\n",
       "      <th>Stock</th>\n",
       "      <th>Sentiment</th>\n",
       "    </tr>\n",
       "  </thead>\n",
       "  <tbody>\n",
       "    <tr>\n",
       "      <th>0</th>\n",
       "      <td>1</td>\n",
       "      <td>0</td>\n",
       "      <td>IBM</td>\n",
       "      <td>3</td>\n",
       "    </tr>\n",
       "    <tr>\n",
       "      <th>1</th>\n",
       "      <td>1</td>\n",
       "      <td>2</td>\n",
       "      <td>DISNEY</td>\n",
       "      <td>3</td>\n",
       "    </tr>\n",
       "    <tr>\n",
       "      <th>2</th>\n",
       "      <td>0</td>\n",
       "      <td>0</td>\n",
       "      <td>DISNEY</td>\n",
       "      <td>3</td>\n",
       "    </tr>\n",
       "    <tr>\n",
       "      <th>3</th>\n",
       "      <td>1</td>\n",
       "      <td>1</td>\n",
       "      <td>GE</td>\n",
       "      <td>3</td>\n",
       "    </tr>\n",
       "    <tr>\n",
       "      <th>4</th>\n",
       "      <td>2</td>\n",
       "      <td>2</td>\n",
       "      <td>MCD</td>\n",
       "      <td>3</td>\n",
       "    </tr>\n",
       "    <tr>\n",
       "      <th>5</th>\n",
       "      <td>1</td>\n",
       "      <td>1</td>\n",
       "      <td>MICROSOFT</td>\n",
       "      <td>3</td>\n",
       "    </tr>\n",
       "    <tr>\n",
       "      <th>6</th>\n",
       "      <td>2</td>\n",
       "      <td>2</td>\n",
       "      <td>APPLE</td>\n",
       "      <td>3</td>\n",
       "    </tr>\n",
       "    <tr>\n",
       "      <th>7</th>\n",
       "      <td>2</td>\n",
       "      <td>2</td>\n",
       "      <td>IBM</td>\n",
       "      <td>3</td>\n",
       "    </tr>\n",
       "    <tr>\n",
       "      <th>8</th>\n",
       "      <td>1</td>\n",
       "      <td>0</td>\n",
       "      <td>MCD</td>\n",
       "      <td>3</td>\n",
       "    </tr>\n",
       "    <tr>\n",
       "      <th>9</th>\n",
       "      <td>2</td>\n",
       "      <td>2</td>\n",
       "      <td>BOEING</td>\n",
       "      <td>3</td>\n",
       "    </tr>\n",
       "    <tr>\n",
       "      <th>10</th>\n",
       "      <td>1</td>\n",
       "      <td>2</td>\n",
       "      <td>GE</td>\n",
       "      <td>3</td>\n",
       "    </tr>\n",
       "    <tr>\n",
       "      <th>11</th>\n",
       "      <td>0</td>\n",
       "      <td>1</td>\n",
       "      <td>BOEING</td>\n",
       "      <td>3</td>\n",
       "    </tr>\n",
       "    <tr>\n",
       "      <th>12</th>\n",
       "      <td>1</td>\n",
       "      <td>1</td>\n",
       "      <td>IBM</td>\n",
       "      <td>3</td>\n",
       "    </tr>\n",
       "    <tr>\n",
       "      <th>13</th>\n",
       "      <td>2</td>\n",
       "      <td>2</td>\n",
       "      <td>IBM</td>\n",
       "      <td>3</td>\n",
       "    </tr>\n",
       "    <tr>\n",
       "      <th>14</th>\n",
       "      <td>2</td>\n",
       "      <td>2</td>\n",
       "      <td>IBM</td>\n",
       "      <td>3</td>\n",
       "    </tr>\n",
       "    <tr>\n",
       "      <th>15</th>\n",
       "      <td>1</td>\n",
       "      <td>0</td>\n",
       "      <td>GE</td>\n",
       "      <td>3</td>\n",
       "    </tr>\n",
       "    <tr>\n",
       "      <th>16</th>\n",
       "      <td>1</td>\n",
       "      <td>0</td>\n",
       "      <td>DISNEY</td>\n",
       "      <td>3</td>\n",
       "    </tr>\n",
       "    <tr>\n",
       "      <th>17</th>\n",
       "      <td>2</td>\n",
       "      <td>1</td>\n",
       "      <td>MICROSOFT</td>\n",
       "      <td>3</td>\n",
       "    </tr>\n",
       "    <tr>\n",
       "      <th>18</th>\n",
       "      <td>1</td>\n",
       "      <td>1</td>\n",
       "      <td>BOEING</td>\n",
       "      <td>4</td>\n",
       "    </tr>\n",
       "    <tr>\n",
       "      <th>19</th>\n",
       "      <td>0</td>\n",
       "      <td>0</td>\n",
       "      <td>BOEING</td>\n",
       "      <td>3</td>\n",
       "    </tr>\n",
       "    <tr>\n",
       "      <th>20</th>\n",
       "      <td>1</td>\n",
       "      <td>1</td>\n",
       "      <td>BOEING</td>\n",
       "      <td>3</td>\n",
       "    </tr>\n",
       "    <tr>\n",
       "      <th>21</th>\n",
       "      <td>1</td>\n",
       "      <td>1</td>\n",
       "      <td>MICROSOFT</td>\n",
       "      <td>2</td>\n",
       "    </tr>\n",
       "    <tr>\n",
       "      <th>22</th>\n",
       "      <td>1</td>\n",
       "      <td>1</td>\n",
       "      <td>IBM</td>\n",
       "      <td>3</td>\n",
       "    </tr>\n",
       "    <tr>\n",
       "      <th>23</th>\n",
       "      <td>1</td>\n",
       "      <td>2</td>\n",
       "      <td>BOEING</td>\n",
       "      <td>3</td>\n",
       "    </tr>\n",
       "    <tr>\n",
       "      <th>24</th>\n",
       "      <td>2</td>\n",
       "      <td>2</td>\n",
       "      <td>APPLE</td>\n",
       "      <td>3</td>\n",
       "    </tr>\n",
       "    <tr>\n",
       "      <th>25</th>\n",
       "      <td>1</td>\n",
       "      <td>0</td>\n",
       "      <td>APPLE</td>\n",
       "      <td>3</td>\n",
       "    </tr>\n",
       "    <tr>\n",
       "      <th>26</th>\n",
       "      <td>2</td>\n",
       "      <td>2</td>\n",
       "      <td>APPLE</td>\n",
       "      <td>3</td>\n",
       "    </tr>\n",
       "    <tr>\n",
       "      <th>27</th>\n",
       "      <td>1</td>\n",
       "      <td>2</td>\n",
       "      <td>GE</td>\n",
       "      <td>3</td>\n",
       "    </tr>\n",
       "    <tr>\n",
       "      <th>28</th>\n",
       "      <td>2</td>\n",
       "      <td>1</td>\n",
       "      <td>MICROSOFT</td>\n",
       "      <td>3</td>\n",
       "    </tr>\n",
       "    <tr>\n",
       "      <th>29</th>\n",
       "      <td>2</td>\n",
       "      <td>2</td>\n",
       "      <td>IBM</td>\n",
       "      <td>3</td>\n",
       "    </tr>\n",
       "    <tr>\n",
       "      <th>...</th>\n",
       "      <td>...</td>\n",
       "      <td>...</td>\n",
       "      <td>...</td>\n",
       "      <td>...</td>\n",
       "    </tr>\n",
       "    <tr>\n",
       "      <th>524</th>\n",
       "      <td>1</td>\n",
       "      <td>1</td>\n",
       "      <td>DISNEY</td>\n",
       "      <td>3</td>\n",
       "    </tr>\n",
       "    <tr>\n",
       "      <th>525</th>\n",
       "      <td>1</td>\n",
       "      <td>2</td>\n",
       "      <td>MICROSOFT</td>\n",
       "      <td>3</td>\n",
       "    </tr>\n",
       "    <tr>\n",
       "      <th>526</th>\n",
       "      <td>1</td>\n",
       "      <td>2</td>\n",
       "      <td>BOEING</td>\n",
       "      <td>3</td>\n",
       "    </tr>\n",
       "    <tr>\n",
       "      <th>527</th>\n",
       "      <td>1</td>\n",
       "      <td>2</td>\n",
       "      <td>MICROSOFT</td>\n",
       "      <td>3</td>\n",
       "    </tr>\n",
       "    <tr>\n",
       "      <th>528</th>\n",
       "      <td>1</td>\n",
       "      <td>2</td>\n",
       "      <td>MCD</td>\n",
       "      <td>3</td>\n",
       "    </tr>\n",
       "    <tr>\n",
       "      <th>529</th>\n",
       "      <td>1</td>\n",
       "      <td>0</td>\n",
       "      <td>GE</td>\n",
       "      <td>3</td>\n",
       "    </tr>\n",
       "    <tr>\n",
       "      <th>530</th>\n",
       "      <td>1</td>\n",
       "      <td>0</td>\n",
       "      <td>MICROSOFT</td>\n",
       "      <td>3</td>\n",
       "    </tr>\n",
       "    <tr>\n",
       "      <th>531</th>\n",
       "      <td>1</td>\n",
       "      <td>1</td>\n",
       "      <td>GE</td>\n",
       "      <td>3</td>\n",
       "    </tr>\n",
       "    <tr>\n",
       "      <th>532</th>\n",
       "      <td>2</td>\n",
       "      <td>2</td>\n",
       "      <td>IBM</td>\n",
       "      <td>3</td>\n",
       "    </tr>\n",
       "    <tr>\n",
       "      <th>533</th>\n",
       "      <td>1</td>\n",
       "      <td>1</td>\n",
       "      <td>DISNEY</td>\n",
       "      <td>3</td>\n",
       "    </tr>\n",
       "    <tr>\n",
       "      <th>534</th>\n",
       "      <td>1</td>\n",
       "      <td>2</td>\n",
       "      <td>IBM</td>\n",
       "      <td>3</td>\n",
       "    </tr>\n",
       "    <tr>\n",
       "      <th>535</th>\n",
       "      <td>1</td>\n",
       "      <td>2</td>\n",
       "      <td>APPLE</td>\n",
       "      <td>3</td>\n",
       "    </tr>\n",
       "    <tr>\n",
       "      <th>536</th>\n",
       "      <td>1</td>\n",
       "      <td>0</td>\n",
       "      <td>APPLE</td>\n",
       "      <td>3</td>\n",
       "    </tr>\n",
       "    <tr>\n",
       "      <th>537</th>\n",
       "      <td>1</td>\n",
       "      <td>2</td>\n",
       "      <td>DISNEY</td>\n",
       "      <td>3</td>\n",
       "    </tr>\n",
       "    <tr>\n",
       "      <th>538</th>\n",
       "      <td>2</td>\n",
       "      <td>1</td>\n",
       "      <td>BOEING</td>\n",
       "      <td>3</td>\n",
       "    </tr>\n",
       "    <tr>\n",
       "      <th>539</th>\n",
       "      <td>2</td>\n",
       "      <td>1</td>\n",
       "      <td>APPLE</td>\n",
       "      <td>3</td>\n",
       "    </tr>\n",
       "    <tr>\n",
       "      <th>540</th>\n",
       "      <td>2</td>\n",
       "      <td>2</td>\n",
       "      <td>DISNEY</td>\n",
       "      <td>3</td>\n",
       "    </tr>\n",
       "    <tr>\n",
       "      <th>541</th>\n",
       "      <td>1</td>\n",
       "      <td>1</td>\n",
       "      <td>MICROSOFT</td>\n",
       "      <td>3</td>\n",
       "    </tr>\n",
       "    <tr>\n",
       "      <th>542</th>\n",
       "      <td>1</td>\n",
       "      <td>0</td>\n",
       "      <td>BOEING</td>\n",
       "      <td>3</td>\n",
       "    </tr>\n",
       "    <tr>\n",
       "      <th>543</th>\n",
       "      <td>1</td>\n",
       "      <td>1</td>\n",
       "      <td>MICROSOFT</td>\n",
       "      <td>3</td>\n",
       "    </tr>\n",
       "    <tr>\n",
       "      <th>544</th>\n",
       "      <td>1</td>\n",
       "      <td>0</td>\n",
       "      <td>DISNEY</td>\n",
       "      <td>3</td>\n",
       "    </tr>\n",
       "    <tr>\n",
       "      <th>545</th>\n",
       "      <td>2</td>\n",
       "      <td>1</td>\n",
       "      <td>MCD</td>\n",
       "      <td>3</td>\n",
       "    </tr>\n",
       "    <tr>\n",
       "      <th>546</th>\n",
       "      <td>1</td>\n",
       "      <td>0</td>\n",
       "      <td>GE</td>\n",
       "      <td>3</td>\n",
       "    </tr>\n",
       "    <tr>\n",
       "      <th>547</th>\n",
       "      <td>1</td>\n",
       "      <td>1</td>\n",
       "      <td>BOEING</td>\n",
       "      <td>3</td>\n",
       "    </tr>\n",
       "    <tr>\n",
       "      <th>548</th>\n",
       "      <td>2</td>\n",
       "      <td>1</td>\n",
       "      <td>MICROSOFT</td>\n",
       "      <td>3</td>\n",
       "    </tr>\n",
       "    <tr>\n",
       "      <th>549</th>\n",
       "      <td>1</td>\n",
       "      <td>1</td>\n",
       "      <td>APPLE</td>\n",
       "      <td>3</td>\n",
       "    </tr>\n",
       "    <tr>\n",
       "      <th>550</th>\n",
       "      <td>2</td>\n",
       "      <td>2</td>\n",
       "      <td>DISNEY</td>\n",
       "      <td>3</td>\n",
       "    </tr>\n",
       "    <tr>\n",
       "      <th>551</th>\n",
       "      <td>2</td>\n",
       "      <td>0</td>\n",
       "      <td>BOEING</td>\n",
       "      <td>3</td>\n",
       "    </tr>\n",
       "    <tr>\n",
       "      <th>552</th>\n",
       "      <td>2</td>\n",
       "      <td>1</td>\n",
       "      <td>MCD</td>\n",
       "      <td>3</td>\n",
       "    </tr>\n",
       "    <tr>\n",
       "      <th>553</th>\n",
       "      <td>1</td>\n",
       "      <td>2</td>\n",
       "      <td>GE</td>\n",
       "      <td>3</td>\n",
       "    </tr>\n",
       "  </tbody>\n",
       "</table>\n",
       "<p>554 rows × 4 columns</p>\n",
       "</div>"
      ],
      "text/plain": [
       "     predicted  actual      Stock  Sentiment\n",
       "0            1       0        IBM          3\n",
       "1            1       2     DISNEY          3\n",
       "2            0       0     DISNEY          3\n",
       "3            1       1         GE          3\n",
       "4            2       2        MCD          3\n",
       "5            1       1  MICROSOFT          3\n",
       "6            2       2      APPLE          3\n",
       "7            2       2        IBM          3\n",
       "8            1       0        MCD          3\n",
       "9            2       2     BOEING          3\n",
       "10           1       2         GE          3\n",
       "11           0       1     BOEING          3\n",
       "12           1       1        IBM          3\n",
       "13           2       2        IBM          3\n",
       "14           2       2        IBM          3\n",
       "15           1       0         GE          3\n",
       "16           1       0     DISNEY          3\n",
       "17           2       1  MICROSOFT          3\n",
       "18           1       1     BOEING          4\n",
       "19           0       0     BOEING          3\n",
       "20           1       1     BOEING          3\n",
       "21           1       1  MICROSOFT          2\n",
       "22           1       1        IBM          3\n",
       "23           1       2     BOEING          3\n",
       "24           2       2      APPLE          3\n",
       "25           1       0      APPLE          3\n",
       "26           2       2      APPLE          3\n",
       "27           1       2         GE          3\n",
       "28           2       1  MICROSOFT          3\n",
       "29           2       2        IBM          3\n",
       "..         ...     ...        ...        ...\n",
       "524          1       1     DISNEY          3\n",
       "525          1       2  MICROSOFT          3\n",
       "526          1       2     BOEING          3\n",
       "527          1       2  MICROSOFT          3\n",
       "528          1       2        MCD          3\n",
       "529          1       0         GE          3\n",
       "530          1       0  MICROSOFT          3\n",
       "531          1       1         GE          3\n",
       "532          2       2        IBM          3\n",
       "533          1       1     DISNEY          3\n",
       "534          1       2        IBM          3\n",
       "535          1       2      APPLE          3\n",
       "536          1       0      APPLE          3\n",
       "537          1       2     DISNEY          3\n",
       "538          2       1     BOEING          3\n",
       "539          2       1      APPLE          3\n",
       "540          2       2     DISNEY          3\n",
       "541          1       1  MICROSOFT          3\n",
       "542          1       0     BOEING          3\n",
       "543          1       1  MICROSOFT          3\n",
       "544          1       0     DISNEY          3\n",
       "545          2       1        MCD          3\n",
       "546          1       0         GE          3\n",
       "547          1       1     BOEING          3\n",
       "548          2       1  MICROSOFT          3\n",
       "549          1       1      APPLE          3\n",
       "550          2       2     DISNEY          3\n",
       "551          2       0     BOEING          3\n",
       "552          2       1        MCD          3\n",
       "553          1       2         GE          3\n",
       "\n",
       "[554 rows x 4 columns]"
      ]
     },
     "execution_count": 715,
     "metadata": {},
     "output_type": "execute_result"
    }
   ],
   "source": [
    "output"
   ]
  },
  {
   "cell_type": "code",
   "execution_count": 664,
   "metadata": {
    "collapsed": false
   },
   "outputs": [],
   "source": [
    "#mydf.iloc[train_indexes]"
   ]
  },
  {
   "cell_type": "code",
   "execution_count": null,
   "metadata": {
    "collapsed": false
   },
   "outputs": [],
   "source": []
  },
  {
   "cell_type": "code",
   "execution_count": null,
   "metadata": {
    "collapsed": false
   },
   "outputs": [],
   "source": []
  },
  {
   "cell_type": "code",
   "execution_count": null,
   "metadata": {
    "collapsed": false
   },
   "outputs": [],
   "source": []
  },
  {
   "cell_type": "code",
   "execution_count": null,
   "metadata": {
    "collapsed": false
   },
   "outputs": [],
   "source": []
  },
  {
   "cell_type": "code",
   "execution_count": null,
   "metadata": {
    "collapsed": false
   },
   "outputs": [],
   "source": []
  },
  {
   "cell_type": "code",
   "execution_count": null,
   "metadata": {
    "collapsed": false
   },
   "outputs": [],
   "source": []
  },
  {
   "cell_type": "code",
   "execution_count": null,
   "metadata": {
    "collapsed": false
   },
   "outputs": [],
   "source": []
  },
  {
   "cell_type": "code",
   "execution_count": null,
   "metadata": {
    "collapsed": false
   },
   "outputs": [],
   "source": []
  },
  {
   "cell_type": "code",
   "execution_count": null,
   "metadata": {
    "collapsed": false
   },
   "outputs": [],
   "source": []
  },
  {
   "cell_type": "code",
   "execution_count": null,
   "metadata": {
    "collapsed": false
   },
   "outputs": [],
   "source": [
    "ALL"
   ]
  },
  {
   "cell_type": "code",
   "execution_count": null,
   "metadata": {
    "collapsed": true
   },
   "outputs": [],
   "source": [
    "a=[[[]]]"
   ]
  },
  {
   "cell_type": "code",
   "execution_count": null,
   "metadata": {
    "collapsed": true
   },
   "outputs": [],
   "source": [
    "a[0] = ALL[0:5]"
   ]
  },
  {
   "cell_type": "code",
   "execution_count": null,
   "metadata": {
    "collapsed": true
   },
   "outputs": [],
   "source": [
    "a.append(ALL[1:6])"
   ]
  },
  {
   "cell_type": "code",
   "execution_count": null,
   "metadata": {
    "collapsed": false
   },
   "outputs": [],
   "source": [
    "a"
   ]
  },
  {
   "cell_type": "code",
   "execution_count": null,
   "metadata": {
    "collapsed": false
   },
   "outputs": [],
   "source": [
    "np.array(a)"
   ]
  },
  {
   "cell_type": "code",
   "execution_count": null,
   "metadata": {
    "collapsed": false
   },
   "outputs": [],
   "source": [
    "len(ALL)"
   ]
  },
  {
   "cell_type": "code",
   "execution_count": null,
   "metadata": {
    "collapsed": true
   },
   "outputs": [],
   "source": []
  }
 ],
 "metadata": {
  "anaconda-cloud": {},
  "kernelspec": {
   "display_name": "Python [conda root]",
   "language": "python",
   "name": "conda-root-py"
  },
  "language_info": {
   "codemirror_mode": {
    "name": "ipython",
    "version": 3
   },
   "file_extension": ".py",
   "mimetype": "text/x-python",
   "name": "python",
   "nbconvert_exporter": "python",
   "pygments_lexer": "ipython3",
   "version": "3.5.2"
  }
 },
 "nbformat": 4,
 "nbformat_minor": 1
}
