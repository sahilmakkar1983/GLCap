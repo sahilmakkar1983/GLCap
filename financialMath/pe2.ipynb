{
 "cells": [
  {
   "cell_type": "code",
   "execution_count": 2,
   "metadata": {},
   "outputs": [],
   "source": [
    "import quandl\n",
    "import requests\n",
    "import pandas as pd\n",
    "import os, time\n",
    "\n",
    "import quandl\n",
    "import requests\n",
    "import pandas as pd\n",
    "import os, time\n",
    "import re\n",
    "\n",
    "\n",
    "\n",
    "API_KEY = \"VNBM61bWK3XD1xqdxNiC\"\n"
   ]
  },
  {
   "cell_type": "code",
   "execution_count": null,
   "metadata": {
    "collapsed": true
   },
   "outputs": [],
   "source": [
    "#!pip install quandl"
   ]
  },
  {
   "cell_type": "code",
   "execution_count": null,
   "metadata": {},
   "outputs": [
    {
     "name": "stdout",
     "output_type": "stream",
     "text": [
      "https://www.quandl.com/api/v3/datatables/ZACKS/FR.csv?ticker=A&api_key=54n9LHU8TR3xyZksit83\n",
      "https://www.quandl.com/api/v3/datatables/ZACKS/FR.csv?ticker=AA&api_key=54n9LHU8TR3xyZksit83\n",
      "https://www.quandl.com/api/v3/datatables/ZACKS/FR.csv?ticker=AAAB&api_key=54n9LHU8TR3xyZksit83\n",
      "https://www.quandl.com/api/v3/datatables/ZACKS/FR.csv?ticker=AAAP&api_key=54n9LHU8TR3xyZksit83\n",
      "https://www.quandl.com/api/v3/datatables/ZACKS/FR.csv?ticker=AABA&api_key=54n9LHU8TR3xyZksit83\n",
      "https://www.quandl.com/api/v3/datatables/ZACKS/FR.csv?ticker=AABC&api_key=54n9LHU8TR3xyZksit83\n",
      "https://www.quandl.com/api/v3/datatables/ZACKS/FR.csv?ticker=AAC&api_key=54n9LHU8TR3xyZksit83\n"
     ]
    }
   ],
   "source": [
    "#https://www.quandl.com/api/v3/datatables/SHARADAR/SF1.csv?ticker=AAPL&api_key=VNBM61bWK3XD1xqdxNiC\n",
    "\n",
    "#print dir(quandl)\n",
    "\n",
    "API_KEY = \"VNBM61bWK3XD1xqdxNiC\"\n",
    "API_KEY=\"54n9LHU8TR3xyZksit83\" \n",
    "\n",
    "#tickers_ours = ['AAPL','GOOGL', 'MSFT', 'JPM']\n",
    "tickers_ours = pd.read_table(\"tickers.txt\")['Ticker'].iloc[0:1000] # 1000 tickers\n",
    "\n",
    "result=\"\"\n",
    "dataList = [[]]\n",
    "dataFrame = pd.DataFrame(columns=['m_ticker','ticker','comp_name','comp_name_2','exchange','currency_code','per_end_date',\n",
    "                                  'per_type','per_code','per_fisc_year','per_fisc_qtr','per_cal_year','per_cal_qtr','form_7_type',\n",
    "                                  'curr_ratio','non_perform_asset_tot_loan','loan_loss_reserve','lterm_debt_cap',\n",
    "                                  'tot_debt_tot_equity','gross_margin','oper_profit_margin','ebit_margin','ebitda_margin',\n",
    "                                  'pretax_profit_margin','profit_margin','free_cash_flow','loss_ratio','exp_ratio',\n",
    "                                  'comb_ratio','asset_turn','invty_turn','rcv_turn','day_sale_rcv','ret_equity',\n",
    "                                  'ret_tang_equity','ret_asset','ret_invst','free_cash_flow_per_share','book_val_per_share',\n",
    "                                  'oper_cash_flow_per_share'])\n",
    "linesToRemove = \",\".join(list(dataFrame.columns))\n",
    "for tickerI in tickers_ours:\n",
    "    url = \"https://www.quandl.com/api/v3/datatables/ZACKS/FR.csv?ticker=\"+tickerI+\"&api_key=\"+API_KEY\n",
    "    print (url)\n",
    "    #url = \"https://www.quandl.com/api/v3/datatables/SHARADAR/SF1.csv?ticker=\"+ticker+\"&api_key=\"+API_KEY\n",
    "    try:\n",
    "        r = requests.get(url, stream=True)\n",
    "    except:\n",
    "        continue\n",
    "    virtual_file = \"\"\n",
    "    for chunk in r.iter_content(chunk_size=1024): \n",
    "        if chunk: # filter out keep-alive new chunks\n",
    "            virtual_file += chunk.decode(\"utf-8\") \n",
    "    \n",
    "    virtual_file_list = virtual_file.split(\"\\n\")\n",
    "    \n",
    "    \n",
    "    for i in virtual_file_list:\n",
    "        datI = i.split(',')\n",
    "        if i != linesToRemove and len(i) !=0:\n",
    "            if len(datI) < len(list(dataFrame.columns)):\n",
    "                pass\n",
    "\n",
    "            if datI[0] == tickerI and len(datI) == len(list(dataFrame.columns)):\n",
    "                dataList.append(datI)\n",
    "\n"
   ]
  },
  {
   "cell_type": "code",
   "execution_count": null,
   "metadata": {},
   "outputs": [],
   "source": [
    "dataFrame = pd.DataFrame(dataList,columns=dataFrame.columns)\n",
    "dataFrame.to_csv(\"Stock_ratios.csv\")\n",
    "#with open(os.path.join(os.getcwd(),\"Stock_rations.txt\"), \"w\") as writer:\n",
    "#    writer.write(result)\n",
    "print (len(dataList[6]))\n",
    "print (len(dataFrame.columns))\n",
    "dataFrame"
   ]
  },
  {
   "cell_type": "code",
   "execution_count": 6,
   "metadata": {},
   "outputs": [
    {
     "data": {
      "text/plain": [
       "0           A\n",
       "1          AA\n",
       "2        AAAB\n",
       "3        AAAP\n",
       "4        AABA\n",
       "5        AABC\n",
       "6         AAC\n",
       "7        AACC\n",
       "8        AACE\n",
       "9       AACPF\n",
       "10        AAI\n",
       "11      AAIIQ\n",
       "12       AAIR\n",
       "13        AAL\n",
       "14       AAMC\n",
       "15       AAME\n",
       "16        AAN\n",
       "17       AANB\n",
       "18       AAOI\n",
       "19       AAON\n",
       "20        AAP\n",
       "21       AAPC\n",
       "22       AAPL\n",
       "23        AAT\n",
       "24       AATI\n",
       "25        AAU\n",
       "26        AAV\n",
       "27       AAWW\n",
       "28       AAXN\n",
       "29         AB\n",
       "        ...  \n",
       "9452       ZN\n",
       "9453     ZNGA\n",
       "9454      ZNT\n",
       "9455     ZOES\n",
       "9456     ZOLL\n",
       "9457     ZOLT\n",
       "9458     ZOMX\n",
       "9459     ZONS\n",
       "9460     ZOOM\n",
       "9461     ZOOX\n",
       "9462     ZPCM\n",
       "9463     ZPIN\n",
       "9464      ZQK\n",
       "9465     ZRAN\n",
       "9466     ZRBA\n",
       "9467     ZSAN\n",
       "9468     ZSPH\n",
       "9469     ZSTN\n",
       "9470      ZTO\n",
       "9471      ZTS\n",
       "9472       ZU\n",
       "9473     ZUMZ\n",
       "9474     ZVUE\n",
       "9475     ZVXI\n",
       "9476       ZX\n",
       "9477     ZYME\n",
       "9478     ZYNE\n",
       "9479     ZYTO\n",
       "9480     ZYXI\n",
       "9481       ZZ\n",
       "Name: Ticker, Length: 9482, dtype: object"
      ]
     },
     "execution_count": 6,
     "metadata": {},
     "output_type": "execute_result"
    }
   ],
   "source": [
    "pd.read_table(\"tickers.txt\")['Ticker']"
   ]
  },
  {
   "cell_type": "code",
   "execution_count": null,
   "metadata": {},
   "outputs": [],
   "source": []
  },
  {
   "cell_type": "code",
   "execution_count": 89,
   "metadata": {},
   "outputs": [
    {
     "data": {
      "text/plain": [
       "['m_ticker,ticker,comp_name,comp_name_2,exchange,currency_code,per_end_date,per_type,per_code,per_fisc_year,per_fisc_qtr,per_cal_year,per_cal_qtr,form_7_type,curr_ratio,non_perform_asset_tot_loan,loan_loss_reserve,lterm_debt_cap,tot_debt_tot_equity,gross_margin,oper_profit_margin,ebit_margin,ebitda_margin,pretax_profit_margin,profit_margin,free_cash_flow,loss_ratio,exp_ratio,comb_ratio,asset_turn,invty_turn,rcv_turn,day_sale_rcv,ret_equity,ret_tang_equity,ret_asset,ret_invst,free_cash_flow_per_share,book_val_per_share,oper_cash_flow_per_share']"
      ]
     },
     "execution_count": 89,
     "metadata": {},
     "output_type": "execute_result"
    }
   ],
   "source": []
  },
  {
   "cell_type": "code",
   "execution_count": null,
   "metadata": {
    "collapsed": true
   },
   "outputs": [],
   "source": []
  }
 ],
 "metadata": {
  "kernelspec": {
   "display_name": "Python 3",
   "language": "python",
   "name": "python3"
  },
  "language_info": {
   "codemirror_mode": {
    "name": "ipython",
    "version": 3
   },
   "file_extension": ".py",
   "mimetype": "text/x-python",
   "name": "python",
   "nbconvert_exporter": "python",
   "pygments_lexer": "ipython3",
   "version": "3.6.1"
  }
 },
 "nbformat": 4,
 "nbformat_minor": 2
}
