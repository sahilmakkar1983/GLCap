{
 "cells": [
  {
   "cell_type": "code",
   "execution_count": 1,
   "metadata": {
    "collapsed": true
   },
   "outputs": [],
   "source": [
    "import quandl\n",
    "import requests\n",
    "import pandas as pd\n",
    "import os, time\n",
    "\n",
    "import quandl\n",
    "import requests\n",
    "import pandas as pd\n",
    "import os, time\n",
    "import re\n",
    "\n",
    "\n",
    "\n",
    "API_KEY = \"VNBM61bWK3XD1xqdxNiC\"\n"
   ]
  },
  {
   "cell_type": "code",
   "execution_count": null,
   "metadata": {
    "collapsed": true
   },
   "outputs": [],
   "source": [
    "#!pip install quandl"
   ]
  },
  {
   "cell_type": "code",
   "execution_count": null,
   "metadata": {},
   "outputs": [],
   "source": [
    "#https://www.quandl.com/api/v3/datatables/SHARADAR/SF1.csv?ticker=AAPL&api_key=VNBM61bWK3XD1xqdxNiC\n",
    "\n",
    "#print dir(quandl)\n",
    "\n",
    "API_KEY = \"VNBM61bWK3XD1xqdxNiC\"\n",
    "API_KEY=\"54n9LHU8TR3xyZksit83\" \n",
    "\n",
    "#tickers_ours = ['AAPL','GOOGL', 'MSFT', 'JPM']\n",
    "tickers_ours = pd.read_table(\"tickers.txt\")['Ticker'].iloc[0:20000] # 10000 tickers\n",
    "\n",
    "result=\"\"\n",
    "dataList = [[]]\n",
    "\n",
    "FC_columns  = ['m_ticker', 'ticker', 'comp_name', 'comp_name_2', 'exchange', 'currency_code', 'per_end_date', \n",
    "               'per_type', 'per_code', 'per_fisc_year', 'per_fisc_qtr', 'per_cal_year', 'per_cal_qtr', 'data_type_ind',\n",
    "               'filing_type', 'qtr_nbr', 'zacks_sector_code', 'zacks_x_ind_code', 'zacks_metrics_ind_code', 'fye_month',\n",
    "               'comp_cik', 'per_len', 'sic_code', 'filing_date', 'last_changed_date', 'state_incorp_name',\n",
    "               'bus_address_line_1', 'bus_city', 'bus_state_name', 'bus_post_code', 'bus_phone_nbr', 'bus_fax_nbr',\n",
    "               'mail_address_line_1', 'mail_city', 'mail_state_name', 'mail_post_code', 'country_name', 'country_code',\n",
    "               'home_exchange_name', 'emp_cnt', 'emp_pt_cnt', 'emp_ft_cnt', 'emp_other_cnt', 'comm_share_holder',\n",
    "               'auditor', 'auditor_opinion', 'comp_url', 'email_addr', 'nbr_shares_out', 'shares_out_date', 'officer_name_1',\n",
    "               'officer_title_1', 'officer_name_2', 'officer_title_2', 'officer_name_3', 'officer_title_3', 'officer_name_4',\n",
    "               'officer_title_4', 'officer_name_5', 'officer_title_5', 'rpt_0_date', 'tot_revnu', 'cost_good_sold',\n",
    "               'gross_profit', 'tot_deprec_amort', 'int_exp_oper', 'int_invst_income_oper', 'res_dev_exp',\n",
    "               'in_proc_res_dev_exp_aggr', 'tot_sell_gen_admin_exp', 'rental_exp_ind_broker', 'pension_post_retire_exp',\n",
    "               'other_oper_income_exp', 'tot_oper_exp', 'oper_income', 'non_oper_int_exp', 'int_cap',\n",
    "               'asset_wdown_impair_aggr', 'restruct_charge', 'merger_acq_income_aggr', 'rental_income', 'spcl_unusual_charge',\n",
    "               'impair_goodwill', 'litig_aggr', 'gain_loss_sale_asset_aggr', 'gain_loss_sale_invst_aggr', 'stock_div_subsid',\n",
    "               'income_loss_equity_invst_other', 'pre_tax_minority_int', 'int_invst_income', 'other_non_oper_income_exp',\n",
    "               'tot_non_oper_income_exp', 'pre_tax_income', 'tot_provsn_income_tax', 'income_aft_tax', 'minority_int',\n",
    "               'equity_earn_subsid', 'invst_gain_loss_other', 'other_income', 'income_cont_oper', 'income_discont_oper',\n",
    "               'income_bef_exord_acct_change', 'exord_income_loss', 'cumul_eff_acct_change', 'consol_net_income_loss',\n",
    "               'non_ctl_int', 'net_income_parent_comp', 'pref_stock_div_other_adj', 'net_income_loss_share_holder',\n",
    "               'eps_basic_cont_oper', 'eps_basic_discont_oper', 'eps_basic_acct_change', 'eps_basic_extra',\n",
    "               'eps_basic_consol', 'eps_basic_parent_comp', 'basic_net_eps', 'eps_diluted_cont_oper', 'eps_diluted_discont_oper',\n",
    "               'eps_diluted_acct_change', 'eps_diluted_extra', 'eps_diluted_consol', 'eps_diluted_parent_comp', 'diluted_net_eps',\n",
    "               'dilution_factor', 'avg_d_shares', 'avg_b_shares', 'norm_pre_tax_income', 'norm_aft_tax_income', 'ebitda', 'ebit',\n",
    "               'rpt_1_date', 'cash_sterm_invst', 'note_loan_rcv', 'rcv_est_doubt', 'rcv_tot', 'invty', 'prepaid_expense',\n",
    "               'def_charge_curr', 'def_tax_asset_curr', 'asset_discont_oper_curr', 'other_curr_asset', 'tot_curr_asset',\n",
    "               'gross_prop_plant_equip', 'tot_accum_deprec', 'net_prop_plant_equip', 'net_real_estate_misc_prop', 'cap_software',\n",
    "               'lterm_invst', 'adv_dep', 'lterm_rcv', 'invty_lterm', 'goodwill_intang_asset_tot', 'def_charge_non_curr',\n",
    "               'def_tax_asset_lterm', 'asset_discont_oper_lterm', 'pension_post_retire_asset', 'other_lterm_asset',\n",
    "               'tot_lterm_asset', 'tot_asset', 'note_pay', 'acct_pay', 'div_pay', 'other_pay', 'accrued_exp',\n",
    "               'other_accrued_exp', 'curr_portion_debt', 'curr_portion_cap_lease', 'curr_portion_tax_pay',\n",
    "               'defer_revnu_curr', 'defer_tax_liab_curr', 'liab_discont_oper_curr', 'other_curr_liab', 'tot_curr_liab',\n",
    "               'tot_lterm_debt', 'defer_revnu_non_curr', 'pension_post_retire_liab', 'defer_tax_liab_lterm',\n",
    "               'mand_redeem_pref_sec_subsid', 'pref_stock_liab', 'min_int', 'liab_disc_oper_lterm', 'other_non_curr_liab',\n",
    "               'tot_lterm_liab', 'tot_liab', 'tot_pref_stock', 'comm_stock_net', 'addtl_paid_in_cap',\n",
    "               'retain_earn_accum_deficit', 'equity_equiv', 'treas_stock', 'compr_income', 'def_compsn',\n",
    "               'other_share_holder_equity', 'tot_comm_equity', 'tot_share_holder_equity', 'tot_liab_share_holder_equity',\n",
    "               'comm_shares_out', 'pref_stock_shares_out', 'tang_stock_holder_equity', 'rpt_2_date', 'net_income_loss',\n",
    "               'tot_deprec_amort_cash_flow', 'other_non_cash_item', 'tot_non_cash_item', 'change_acct_rcv', 'change_invty', \n",
    "               'change_acct_pay', 'change_acct_pay_accrued_liab', 'change_income_tax', 'change_asset_liab', \n",
    "               'tot_change_asset_liab', 'oper_activity_other', 'cash_flow_oper_activity', 'net_change_prop_plant_equip',\n",
    "               'net_change_intang_asset', 'net_acq_divst', 'net_change_sterm_invst', 'net_change_lterm_invst',\n",
    "               'net_change_invst_tot', 'invst_activity_other', 'cash_flow_invst_activity', 'net_lterm_debt', 'net_curr_debt',\n",
    "               'debt_issue_retire_net_tot', 'net_comm_equity_issued_repurch', 'net_pref_equity_issued_repurch', \n",
    "               'net_tot_equity_issued_repurch', 'tot_comm_pref_stock_div_paid', 'fin_activity_other', 'cash_flow_fin_activity',\n",
    "               'fgn_exchange_rate_adj', 'disc_oper_misc_cash_flow_adj', 'incr_decr_cash', 'beg_cash', 'end_cash',\n",
    "               'stock_based_compsn', 'comm_stock_div_paid', 'pref_stock_div_paid', 'tot_deprec_amort_qd',\n",
    "               'stock_based_compsn_qd', 'cash_flow_oper_activity_qd', 'net_change_prop_plant_equip_qd',\n",
    "               'comm_stock_div_paid_qd', 'pref_stock_div_paid_qd', 'tot_comm_pref_stock_div_qd', 'wavg_shares_out',\n",
    "               'wavg_shares_out_diluted', 'eps_basic_net', 'eps_diluted_net']\n",
    "FR_columns = ['m_ticker','ticker','comp_name','comp_name_2','exchange','currency_code','per_end_date',\n",
    "                                  'per_type','per_code','per_fisc_year','per_fisc_qtr','per_cal_year','per_cal_qtr','form_7_type',\n",
    "                                  'curr_ratio','non_perform_asset_tot_loan','loan_loss_reserve','lterm_debt_cap',\n",
    "                                  'tot_debt_tot_equity','gross_margin','oper_profit_margin','ebit_margin','ebitda_margin',\n",
    "                                  'pretax_profit_margin','profit_margin','free_cash_flow','loss_ratio','exp_ratio',\n",
    "                                  'comb_ratio','asset_turn','invty_turn','rcv_turn','day_sale_rcv','ret_equity',\n",
    "                                  'ret_tang_equity','ret_asset','ret_invst','free_cash_flow_per_share','book_val_per_share',\n",
    "                                  'oper_cash_flow_per_share']\n",
    "dataFrame = pd.DataFrame(columns=FC_columns)\n",
    "linesToRemove = \",\".join(list(dataFrame.columns))\n",
    "for tickerI in tickers_ours:\n",
    "    #url = \"https://www.quandl.com/api/v3/datatables/ZACKS/FR.csv?ticker=\"+tickerI+\"&api_key=\"+API_KEY\n",
    "    url = \"https://www.quandl.com/api/v3/datatables/ZACKS/FC.csv?ticker=\"+tickerI+\"&api_key=\"+API_KEY\n",
    "    print (url)\n",
    "    #url = \"https://www.quandl.com/api/v3/datatables/SHARADAR/SF1.csv?ticker=\"+ticker+\"&api_key=\"+API_KEY\n",
    "    try:\n",
    "        r = requests.get(url, stream=True)\n",
    "    except:\n",
    "        continue\n",
    "    virtual_file = \"\"\n",
    "    for chunk in r.iter_content(chunk_size=1024): \n",
    "        if chunk: # filter out keep-alive new chunks\n",
    "            virtual_file += chunk.decode(\"utf-8\") \n",
    "    \n",
    "    virtual_file_list = virtual_file.split(\"\\n\")\n",
    "    \n",
    "    \n",
    "    for i in virtual_file_list:\n",
    "        datI = i.split(',')\n",
    "        #print (datI)\n",
    "        if i != linesToRemove and len(i) !=0:\n",
    "            if len(datI) < len(list(dataFrame.columns)):\n",
    "                pass\n",
    "\n",
    "            if datI[0] == tickerI and len(datI) == len(list(dataFrame.columns)):\n",
    "                dataList.append(datI)\n",
    "\n"
   ]
  },
  {
   "cell_type": "code",
   "execution_count": null,
   "metadata": {},
   "outputs": [],
   "source": [
    "dataFrame = pd.DataFrame(dataList,columns=dataFrame.columns)\n",
    "dataFrame.to_csv(\"Stock_ratios_FR.csv\")\n",
    "#with open(os.path.join(os.getcwd(),\"Stock_rations.txt\"), \"w\") as writer:\n",
    "#    writer.write(result)\n",
    "print (len(dataList[6]))\n",
    "print (len(dataFrame.columns))\n",
    "dataFrame"
   ]
  },
  {
   "cell_type": "code",
   "execution_count": null,
   "metadata": {},
   "outputs": [],
   "source": [
    "pd.read_table(\"tickers.txt\")['Ticker']"
   ]
  },
  {
   "cell_type": "code",
   "execution_count": null,
   "metadata": {
    "collapsed": true
   },
   "outputs": [],
   "source": []
  },
  {
   "cell_type": "code",
   "execution_count": null,
   "metadata": {},
   "outputs": [],
   "source": []
  },
  {
   "cell_type": "code",
   "execution_count": null,
   "metadata": {
    "collapsed": true
   },
   "outputs": [],
   "source": []
  }
 ],
 "metadata": {
  "kernelspec": {
   "display_name": "Python 3",
   "language": "python",
   "name": "python3"
  },
  "language_info": {
   "codemirror_mode": {
    "name": "ipython",
    "version": 3
   },
   "file_extension": ".py",
   "mimetype": "text/x-python",
   "name": "python",
   "nbconvert_exporter": "python",
   "pygments_lexer": "ipython3",
   "version": "3.6.1"
  }
 },
 "nbformat": 4,
 "nbformat_minor": 2
}
