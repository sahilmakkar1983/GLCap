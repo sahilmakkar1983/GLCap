{
 "cells": [
  {
   "cell_type": "code",
   "execution_count": 5,
   "metadata": {},
   "outputs": [],
   "source": [
    "import re\n",
    "import tweepy\n",
    "from tweepy import OAuthHandler\n",
    "from textblob import TextBlob\n",
    "\n",
    "class TwitterClient(object):\n",
    "    '''\n",
    "    Generic Twitter Class for sentiment analysis.\n",
    "    '''\n",
    "    def __init__(self):\n",
    "        '''\n",
    "        Class constructor or initialization method.\n",
    "        '''\n",
    "        # keys and tokens from the Twitter Dev Console\n",
    "        consumer_key = \"1xnMYOD5FkrwVKakAAaAaqOyD\"\n",
    "        consumer_secret = \"hf1ADLyEPWll1rl43sGHdwl7eMWmK1LbzU6ajSxQKbwB86I15D\"\n",
    "        access_token = \"732181352326434816-XpBDVRPACxdBtChDFqxVhH2bz5nRGm0\"\n",
    "        access_token_secret = \"2tu6wcnVBTy6aZNtNjYrSmzzJv1pAvGI2YbTNgjXPc8rv\"\n",
    "        \n",
    "\n",
    "        # attempt authentication\n",
    "        try:\n",
    "            # create OAuthHandler object\n",
    "            self.auth = OAuthHandler(consumer_key, consumer_secret)\n",
    "            # set access token and secret\n",
    "            self.auth.set_access_token(access_token, access_token_secret)\n",
    "            # create tweepy API object to fetch tweets\n",
    "            self.api = tweepy.API(self.auth)\n",
    "        except:\n",
    "            print(\"Error: Authentication Failed\")\n",
    "\n",
    "    def clean_tweet(self, tweet):\n",
    "        '''\n",
    "        Utility function to clean tweet text by removing links, special characters\n",
    "        using simple regex statements.\n",
    "        '''\n",
    "        return (' '.join(re.sub(\"(@[A-Za-z0-9]+)|([^0-9A-Za-z \\t]) |(\\w+:\\/\\/\\S+)\", \" \", tweet).split()))\n",
    "\n",
    "    def get_tweet_sentiment(self, tweet):\n",
    "        '''\n",
    "        Utility function to classify sentiment of passed tweet\n",
    "        using textblob's sentiment method\n",
    "        '''\n",
    "        # create TextBlob object of passed tweet text\n",
    "        analysis = TextBlob(self.clean_tweet(tweet))\n",
    "        # set sentiment\n",
    "        if analysis.sentiment.polarity > 0:\n",
    "            return 'positive'\n",
    "        elif analysis.sentiment.polarity == 0:\n",
    "            return 'neutral'\n",
    "        else:\n",
    "            return 'negative'\n",
    "\n",
    "    def get_tweets(self, query, count = 10):\n",
    "        '''\n",
    "        Main function to fetch tweets and parse them.\n",
    "        '''\n",
    "        # empty list to store parsed tweets\n",
    "        tweets = []\n",
    "\n",
    "        try:\n",
    "            # call twitter api to fetch tweets\n",
    "            fetched_tweets = self.api.search(q = query, count = count)\n",
    "\n",
    "            # parsing tweets one by one\n",
    "            for tweet in fetched_tweets:\n",
    "                # empty dictionary to store required params of a tweet\n",
    "                parsed_tweet = {}\n",
    "\n",
    "                # saving text of tweet\n",
    "                parsed_tweet['text'] = tweet.text\n",
    "                # saving sentiment of tweet\n",
    "                parsed_tweet['sentiment'] = self.get_tweet_sentiment(tweet.text)\n",
    "\n",
    "                # appending parsed tweet to tweets list\n",
    "                if tweet.retweet_count > 0:\n",
    "                    # if tweet has retweets, ensure that it is appended only once\n",
    "                    if parsed_tweet not in tweets:\n",
    "                        tweets.append(parsed_tweet)\n",
    "                else:\n",
    "                    tweets.append(parsed_tweet)\n",
    "\n",
    "            # return parsed tweets\n",
    "            return tweets\n",
    "\n",
    "        except tweepy.TweepError as e:\n",
    "            # print error (if any)\n",
    "            print(\"Error : \" + str(e))\n",
    "\n",
    "\n"
   ]
  },
  {
   "cell_type": "code",
   "execution_count": null,
   "metadata": {},
   "outputs": [
    {
     "name": "stdout",
     "output_type": "stream",
     "text": [
      "(0, 0, 0)\n",
      "Positive tweets percentage: 40 %\n",
      "Negative tweets percentage: 12 %\n",
      "1\n"
     ]
    }
   ],
   "source": [
    "import pandas as pd\n",
    "\n",
    "def tweetListMaker(tweetsList,sentimentNumber):\n",
    "    processedTweetsList = []\n",
    "    for i in tweetsList:\n",
    "        #print(\"Positive\")\n",
    "\n",
    "        #print(type(i),i)\n",
    "        if isinstance(i,dict):\n",
    "            processedTweetsList.append([i['text'],sentimentNumber])\n",
    "        elif isinstance(i,list):\n",
    "            for j in i:\n",
    "                print(j)\n",
    "                processedTweetsList.append([j['text'],sentimentNumber])\n",
    "    \n",
    "    return (processedTweetsList)\n",
    "def main():\n",
    "    # creating object of TwitterClient Class\n",
    "    api = TwitterClient()\n",
    "    \n",
    "    myFilters = [\"cash flow\", \"balance sheet\", \"stock\", \"prices\", \"deprecation\"]\n",
    "    ptweets = []\n",
    "    ntweets = []\n",
    "    neuTweets = []\n",
    "    \n",
    "    myDf = pd.DataFrame()\n",
    "    for currentFilter in myFilters:\n",
    "        # calling function to get tweets\n",
    "        tweets = api.get_tweets(query = currentFilter, count = 2000)\n",
    "\n",
    "        # picking positive tweets from tweets\n",
    "        print(len(ptweets),len(ntweets),len(neuTweets))\n",
    "        if len(ptweets) == 0:\n",
    "            ptweets = [tweet for tweet in tweets if tweet['sentiment'] == 'positive']\n",
    "        else:\n",
    "            ptweets.append([tweet for tweet in tweets if tweet['sentiment'] == 'positive'])\n",
    "        # percentage of positive tweets\n",
    "        print(\"Positive tweets percentage: {} %\".format(100*len(ptweets)/len(tweets)))\n",
    "        # picking negative tweets from tweets\n",
    "        \n",
    "        if len(ntweets) == 0:\n",
    "            ntweets = [tweet for tweet in tweets if tweet['sentiment'] == 'negative']\n",
    "        else:\n",
    "            ntweets.append([tweet for tweet in tweets if tweet['sentiment'] == 'negative'])\n",
    "        # percentage of negative tweets\n",
    "        print(\"Negative tweets percentage: {} %\".format(100*len(ntweets)/len(tweets)))\n",
    "\n",
    "        neut = [tweets not in ptweets]\n",
    "        \n",
    "        if len(neuTweets) == 0:\n",
    "            neuTweets = [neut not in ntweets]\n",
    "        else:\n",
    "            neuTweets.append([neut not in ntweets])\n",
    "        \n",
    "        print(len(neuTweets))\n",
    "        # percentage of neutral tweets\n",
    "        #print(\"Neutral tweets percentage: {} %\".format(100*len(tweets - ntweets - ptweets)/len(tweets)))\n",
    "\n",
    "        # printing first 5 positive tweets\n",
    "        #print(\"\\n\\nPositive tweets:\")\n",
    "        #for tweet in ptweets[:10]:\n",
    "        #    print(tweet['text'])\n",
    "\n",
    "        # printing first 5 negative tweets\n",
    "        #print(\"\\n\\nNegative tweets:\")\n",
    "        #for tweet in ntweets[:10]:\n",
    "        #    print(tweet['text'])\n",
    "    \n",
    "    a = [t for t in ptweets]\n",
    "    #print(a)\n",
    "    #myDf = pd.DataFrame([[t['text'],3] for t in ptweets],columns=['tweet','label'])\n",
    "    #myDf = myDf.append(pd.DataFrame([[t['text'],3] for t in ntweets],columns=['tweet','label']))\n",
    "    #myDf = myDf.append(pd.DataFrame([[t['text'],3] for t in neuTweets],columns=['tweet','label']))\n",
    "    pt = tweetListMaker(ptweets,3)\n",
    "    nt = tweetListMaker(ptweets,1)\n",
    "    neut = tweetListMaker(neuTweets,2)\n",
    "    #myDf['label'].iloc[currentLen:]  = 2\n",
    "    \n",
    "    myDf = pd.DataFrame(pt,columns=['tweet','label'])\n",
    "    myDf = myDf.append(pd.DataFrame(nt,columns=['tweet','label']))\n",
    "    myDf = myDf.append(pd.DataFrame(neut,columns=['tweet','label']))\n",
    "    currentLen = len(myDf)\n",
    "    \n",
    "    \n",
    "    return (myDf)\n",
    "\n",
    "\n",
    "#print(ptweets)\n",
    "#myDf['tweets'] = ptweets\n",
    "#myDf['label']  = 3\n",
    "\n",
    "\n",
    "myDf = main()\n",
    "positiveTweets = []\n",
    "for i in ptweets:\n",
    "    print(\"Positive\")\n",
    "    \n",
    "    #print(type(i),i)\n",
    "    if isinstance(i,dict):\n",
    "        positiveTweets.append([i['text'],3])\n",
    "    elif isinstance(i,list):\n",
    "        for j in i:\n",
    "            positiveTweets.append([j['text'],3])\n",
    "positiveTweets"
   ]
  },
  {
   "cell_type": "code",
   "execution_count": 2,
   "metadata": {},
   "outputs": [
    {
     "name": "stdout",
     "output_type": "stream",
     "text": [
      "Requirement already satisfied: tweepy in c:\\users\\dikshit\\anaconda\\lib\\site-packages\n",
      "Requirement already satisfied: requests-oauthlib>=0.4.1 in c:\\users\\dikshit\\anaconda\\lib\\site-packages (from tweepy)\n",
      "Requirement already satisfied: requests>=2.4.3 in c:\\users\\dikshit\\anaconda\\lib\\site-packages (from tweepy)\n",
      "Requirement already satisfied: six>=1.7.3 in c:\\users\\dikshit\\anaconda\\lib\\site-packages (from tweepy)\n",
      "Requirement already satisfied: oauthlib>=0.6.2 in c:\\users\\dikshit\\anaconda\\lib\\site-packages (from requests-oauthlib>=0.4.1->tweepy)\n",
      "Collecting textblob\n",
      "  Using cached textblob-0.13.1-py2.py3-none-any.whl\n",
      "Requirement already satisfied: nltk>=3.1 in c:\\users\\dikshit\\anaconda\\lib\\site-packages (from textblob)\n",
      "Requirement already satisfied: six in c:\\users\\dikshit\\anaconda\\lib\\site-packages (from nltk>=3.1->textblob)\n",
      "Installing collected packages: textblob\n",
      "Successfully installed textblob-0.13.1\n"
     ]
    }
   ],
   "source": [
    "!pip install tweepy\n",
    "!pip install textblob"
   ]
  },
  {
   "cell_type": "code",
   "execution_count": null,
   "metadata": {
    "collapsed": true
   },
   "outputs": [],
   "source": []
  },
  {
   "cell_type": "code",
   "execution_count": 3,
   "metadata": {},
   "outputs": [
    {
     "ename": "NameError",
     "evalue": "name 'myDf' is not defined",
     "output_type": "error",
     "traceback": [
      "\u001b[1;31m---------------------------------------------------------------------------\u001b[0m",
      "\u001b[1;31mNameError\u001b[0m                                 Traceback (most recent call last)",
      "\u001b[1;32m<ipython-input-3-99002303518d>\u001b[0m in \u001b[0;36m<module>\u001b[1;34m()\u001b[0m\n\u001b[1;32m----> 1\u001b[1;33m \u001b[0mmyDf\u001b[0m\u001b[1;33m[\u001b[0m\u001b[1;34m'tweets'\u001b[0m\u001b[1;33m]\u001b[0m\u001b[1;33m.\u001b[0m\u001b[0miloc\u001b[0m\u001b[1;33m[\u001b[0m\u001b[1;36m0\u001b[0m\u001b[1;33m]\u001b[0m\u001b[1;33m\u001b[0m\u001b[0m\n\u001b[0m",
      "\u001b[1;31mNameError\u001b[0m: name 'myDf' is not defined"
     ]
    }
   ],
   "source": [
    "myDf['tweets'].iloc[0]"
   ]
  },
  {
   "cell_type": "code",
   "execution_count": 56,
   "metadata": {},
   "outputs": [
    {
     "data": {
      "text/plain": [
       "32"
      ]
     },
     "execution_count": 56,
     "metadata": {},
     "output_type": "execute_result"
    }
   ],
   "source": [
    "len(myDf)"
   ]
  },
  {
   "cell_type": "code",
   "execution_count": 61,
   "metadata": {},
   "outputs": [
    {
     "data": {
      "text/html": [
       "<div>\n",
       "<style>\n",
       "    .dataframe thead tr:only-child th {\n",
       "        text-align: right;\n",
       "    }\n",
       "\n",
       "    .dataframe thead th {\n",
       "        text-align: left;\n",
       "    }\n",
       "\n",
       "    .dataframe tbody tr th {\n",
       "        vertical-align: top;\n",
       "    }\n",
       "</style>\n",
       "<table border=\"1\" class=\"dataframe\">\n",
       "  <thead>\n",
       "    <tr style=\"text-align: right;\">\n",
       "      <th></th>\n",
       "      <th>tweets</th>\n",
       "      <th>label</th>\n",
       "    </tr>\n",
       "  </thead>\n",
       "  <tbody>\n",
       "    <tr>\n",
       "      <th>0</th>\n",
       "      <td>sahil</td>\n",
       "      <td>2</td>\n",
       "    </tr>\n",
       "  </tbody>\n",
       "</table>\n",
       "</div>"
      ],
      "text/plain": [
       "  tweets  label\n",
       "0  sahil      2"
      ]
     },
     "execution_count": 61,
     "metadata": {},
     "output_type": "execute_result"
    }
   ],
   "source": [
    "pd.DataFrame({\"sahil\",2},columns=['tweets','label'])"
   ]
  },
  {
   "cell_type": "code",
   "execution_count": null,
   "metadata": {
    "collapsed": true
   },
   "outputs": [],
   "source": []
  }
 ],
 "metadata": {
  "kernelspec": {
   "display_name": "Python 2",
   "language": "python",
   "name": "python2"
  },
  "language_info": {
   "codemirror_mode": {
    "name": "ipython",
    "version": 2
   },
   "file_extension": ".py",
   "mimetype": "text/x-python",
   "name": "python",
   "nbconvert_exporter": "python",
   "pygments_lexer": "ipython2",
   "version": "2.7.13"
  }
 },
 "nbformat": 4,
 "nbformat_minor": 2
}
