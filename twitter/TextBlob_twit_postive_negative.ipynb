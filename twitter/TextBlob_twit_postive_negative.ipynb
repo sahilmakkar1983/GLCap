{
 "cells": [
  {
   "cell_type": "code",
   "execution_count": 21,
   "metadata": {},
   "outputs": [],
   "source": [
    "import re\n",
    "import tweepy\n",
    "from tweepy import OAuthHandler\n",
    "from textblob import TextBlob\n",
    "\n",
    "class TwitterClient(object):\n",
    "    '''\n",
    "    Generic Twitter Class for sentiment analysis.\n",
    "    '''\n",
    "    def __init__(self):\n",
    "        '''\n",
    "        Class constructor or initialization method.\n",
    "        '''\n",
    "        # keys and tokens from the Twitter Dev Console\n",
    "        consumer_key = \"1xnMYOD5FkrwVKakAAaAaqOyD\"\n",
    "        consumer_secret = \"hf1ADLyEPWll1rl43sGHdwl7eMWmK1LbzU6ajSxQKbwB86I15D\"\n",
    "        access_token = \"732181352326434816-XpBDVRPACxdBtChDFqxVhH2bz5nRGm0\"\n",
    "        access_token_secret = \"2tu6wcnVBTy6aZNtNjYrSmzzJv1pAvGI2YbTNgjXPc8rv\"\n",
    "        \n",
    "\n",
    "        # attempt authentication\n",
    "        try:\n",
    "            # create OAuthHandler object\n",
    "            self.auth = OAuthHandler(consumer_key, consumer_secret)\n",
    "            # set access token and secret\n",
    "            self.auth.set_access_token(access_token, access_token_secret)\n",
    "            # create tweepy API object to fetch tweets\n",
    "            self.api = tweepy.API(self.auth)\n",
    "        except:\n",
    "            print(\"Error: Authentication Failed\")\n",
    "\n",
    "    def clean_tweet(self, tweet):\n",
    "        '''\n",
    "        Utility function to clean tweet text by removing links, special characters\n",
    "        using simple regex statements.\n",
    "        '''\n",
    "        return (' '.join(re.sub(\"(@[A-Za-z0-9]+)|([^0-9A-Za-z \\t]) |(\\w+:\\/\\/\\S+)\", \" \", tweet).split()))\n",
    "\n",
    "    def get_tweet_sentiment(self, tweet):\n",
    "        '''\n",
    "        Utility function to classify sentiment of passed tweet\n",
    "        using textblob's sentiment method\n",
    "        '''\n",
    "        # create TextBlob object of passed tweet text\n",
    "        analysis = TextBlob(self.clean_tweet(tweet))\n",
    "        # set sentiment\n",
    "        if analysis.sentiment.polarity > 0:\n",
    "            return 'positive'\n",
    "        elif analysis.sentiment.polarity == 0:\n",
    "            return 'neutral'\n",
    "        else:\n",
    "            return 'negative'\n",
    "\n",
    "    def get_tweets(self, query, count = 10):\n",
    "        '''\n",
    "        Main function to fetch tweets and parse them.\n",
    "        '''\n",
    "        # empty list to store parsed tweets\n",
    "        tweets = []\n",
    "\n",
    "        try:\n",
    "            # call twitter api to fetch tweets\n",
    "            fetched_tweets = self.api.search(q = query, count = count)\n",
    "\n",
    "            # parsing tweets one by one\n",
    "            for tweet in fetched_tweets:\n",
    "                # empty dictionary to store required params of a tweet\n",
    "                parsed_tweet = {}\n",
    "\n",
    "                # saving text of tweet\n",
    "                parsed_tweet['text'] = tweet.text\n",
    "                # saving sentiment of tweet\n",
    "                parsed_tweet['sentiment'] = self.get_tweet_sentiment(tweet.text)\n",
    "\n",
    "                # appending parsed tweet to tweets list\n",
    "                if tweet.retweet_count > 0:\n",
    "                    # if tweet has retweets, ensure that it is appended only once\n",
    "                    if parsed_tweet not in tweets:\n",
    "                        tweets.append(parsed_tweet)\n",
    "                else:\n",
    "                    tweets.append(parsed_tweet)\n",
    "\n",
    "            # return parsed tweets\n",
    "            return tweets\n",
    "\n",
    "        except tweepy.TweepError as e:\n",
    "            # print error (if any)\n",
    "            print(\"Error : \" + str(e))\n",
    "\n",
    "\n"
   ]
  },
  {
   "cell_type": "code",
   "execution_count": 76,
   "metadata": {},
   "outputs": [
    {
     "name": "stdout",
     "output_type": "stream",
     "text": [
      "0 0 0\n",
      "Positive tweets percentage: 33.75 %\n",
      "Negative tweets percentage: 20.0 %\n",
      "1\n",
      "27 16 1\n",
      "Positive tweets percentage: 38.888888888888886 %\n",
      "Negative tweets percentage: 23.61111111111111 %\n",
      "2\n",
      "28 17 2\n",
      "Positive tweets percentage: 36.25 %\n",
      "Negative tweets percentage: 22.5 %\n",
      "3\n",
      "29 18 3\n",
      "Positive tweets percentage: 31.914893617021278 %\n",
      "Negative tweets percentage: 20.21276595744681 %\n",
      "4\n",
      "30 19 4\n",
      "Positive tweets percentage: 35.632183908045974 %\n",
      "Negative tweets percentage: 22.988505747126435 %\n",
      "5\n",
      "[{'text': 'RT @MOMOSTOCKTRADES: $DIGAF New ICO offering to fund operations and create cash flow. Im betting on the #Bitcoin madness that will make thi…', 'sentiment': 'positive'}, {'text': 'Large-cap growth stocks with more compelling valuation. three growth companies with shares that are attractively pr… https://t.co/8yg0d4BntL', 'sentiment': 'positive'}, {'text': '@PeckPolitics @HeidiL_RN But they’ll give up some of that cash flow to gain more power.  I get your point.  It’s qu… https://t.co/0pvomPRHs5', 'sentiment': 'positive'}, {'text': '@Frank_Giustra I’ve cleansed my eyes and your flow chart while interesting it doesn’t follow THE MONEY so the chart… https://t.co/RG2zQP2AAa', 'sentiment': 'positive'}, {'text': 'Why ACH Payments Are Good for Business https://t.co/48QqTGJlBB', 'sentiment': 'positive'}, {'text': \"@conorsen @TheStalwart Also, while I agree this $250M is going to be nice, it's a drop in the bucket of their capit… https://t.co/kaMcYDx8VJ\", 'sentiment': 'positive'}, {'text': 'RT @Tadecash: How fast can you learn? This is the new skill that will save you time and make you more cash flow', 'sentiment': 'positive'}, {'text': 'A tip for a successful business start-up is to look at your cash-flow plan with each business decision. #startupbusinesstips', 'sentiment': 'positive'}, {'text': '#RealEstate #Investors Get your #FREE CASH FLOW ANALYSIS (CFA) Tool at https://t.co/3vW6FeA7Sg ! &amp; Increase… https://t.co/MdB8CNNArX', 'sentiment': 'positive'}, {'text': 'Individuals who participate in a 401(k) or other similar type of retirement plan need to\\xa0know these new limits as t… https://t.co/4WdwyGMOyi', 'sentiment': 'positive'}, {'text': 'RT @EmphasisOn_T: Cardi used her platform on Love &amp; hip hop to make something outta herself. Joseline could’ve did the same. You hating ain…', 'sentiment': 'positive'}, {'text': '#COPL - First year cash flow NPV is £150m net to COPL which is 10p+!!! Do the math!', 'sentiment': 'positive'}, {'text': '@ShiraOvide I\\'d say \"recurring revenue + cash flow growth\" but that\\'s such an incredibly oversimplified nonsensical way to value stocks.', 'sentiment': 'positive'}, {'text': 'RT @NayWesley: when he look good and got flow 😍😍😍😭 ain’t no mumble rapping https://t.co/eKHED2Y5d4', 'sentiment': 'positive'}, {'text': 'RT @cuttingedgelaw: How can my mission-driven company cope with cash flow issues? A new column in Conscious Company Magazine.... https://t.…', 'sentiment': 'positive'}, {'text': 'How to Create a Personal Cash Flow Statement\\n\\nThere are many ways to measure your financial health. The... https://t.co/DuWF2zKrSA', 'sentiment': 'positive'}, {'text': 'RT @ken_kfwatson: Yep -we can generate incredible cash flow from easy to mine surface conglomerates loaded with gravity recoverable gold -…', 'sentiment': 'positive'}, {'text': '@nooreshtech @entrepreneur987 @nsfidai @1shankarsharma @porinju @heartwon @rahul6202 Rpower: best operational profi… https://t.co/bkLvhISeaD', 'sentiment': 'positive'}, {'text': 'RT @Mhagayr: Let me pray for you guys. \\nFor As many of you who have honest hustles:\\n\\nMay your brand be strong.\\nMay your debtors pay up.\\nMy…', 'sentiment': 'positive'}, {'text': '@elonmusk When will the assembly of batteries for Series 3 be fully automatic? Huge problem with cash flow and no answers.', 'sentiment': 'positive'}, {'text': 'What’s the difference between operating cash flow and free cash flow in a small business?… https://t.co/y45GF62XGY', 'sentiment': 'positive'}, {'text': \"@MikeBergMM @SenGaryPeters Here's where the child pornography is kept. Senator Peters is well aware of all the men… https://t.co/cB9P5G3kTX\", 'sentiment': 'positive'}, {'text': '\"Enhance Your Cash Flow, Enhance Your Business: The Top Tips You Need to Know\"\\nhttps://t.co/z9Y5XPwBUI https://t.co/lhI7Kdiibw', 'sentiment': 'positive'}, {'text': '@nytimes The arrogant response from Hatch is consistent with GOP stonewalling. This tax bill is purely to pay off r… https://t.co/Enq0huRfIB', 'sentiment': 'positive'}, {'text': 'Learn more about our cash flow forecasting by visiting https://t.co/8KC9FnQr3h  #CashFlow #Accountancy #Accountant #Finance #Leicester', 'sentiment': 'positive'}, {'text': 'RT @RonnieScrewvala: “Making more money will not solve your problems if cash flow management is your problem” ....', 'sentiment': 'positive'}, {'text': 'RT @HelpOnYourWeb: Real Estate, Commercial Foreclosure Real Estate Cash Flow System #Real #Estate https://t.co/WMqHF8b1Qh', 'sentiment': 'positive'}, [{'text': \"@JEgersdorff got in moreno for mbemba for a minus 4. If moreno keeps a clean sheet it'll balance off. Best captain choice this week?\", 'sentiment': 'positive'}, {'text': 'RT @su_bee: Some day, on the corporate balance sheet, there will be an entry which reads, \"Information\"; for in most cases, the information…', 'sentiment': 'positive'}, {'text': '@TheStalwart That’s a leap. It’s just off balance sheet cash. Like collecting money for full autopilot, but they ca… https://t.co/etCcCRsVrQ', 'sentiment': 'positive'}, {'text': 'If $KOSS surrendered the life insurance policies held on its balance sheet, it could repurchase ~50% of outstanding… https://t.co/Cw781xDv8z', 'sentiment': 'positive'}, {'text': \"RT @NickGiva: $TSLA It's a photograph. Photos don't accelerate. \\nLook at the pretty picture, not at the balance sheet, whatever you do!\\n(Di…\", 'sentiment': 'positive'}, {'text': 'RT @Sethinomics: @Sanjubfsi Looking at balance-sheet, value of fixed asset (park) is 800cr plus it has reserves of 700cr. Current market ca…', 'sentiment': 'positive'}, {'text': '@elerianm @FT I’m always amazed how much is written about China’s debts and how little is written about its assets.… https://t.co/rBmHflYY21', 'sentiment': 'positive'}, {'text': 'STOP chasing shitty stocks, invest in real growth company, Amazing balance sheet $FIH.U  #LONG', 'sentiment': 'positive'}, {'text': '@biggercapital Been watching this for awhile. How do you stomach the balance sheet on this?  Is the upside really g… https://t.co/DCTC3eByxz', 'sentiment': 'positive'}, {'text': 'I’ve yet to hear one credible economist, heretics notwithstanding, predict GOP tax cuts will boost GDP by more than… https://t.co/Q5kQp2kmr6', 'sentiment': 'positive'}, {'text': 'RT @stefan_wieler: Time-stamp 6/14/2017: Fed Chairwoman Yellen expects the unwinding of the balance sheet will go smoothly like \"watching p…', 'sentiment': 'positive'}, {'text': 'RT @instituteforgov: [New report] The Government is using private sector money to keep #infrastructure spending ‘off balance sheet’ – even…', 'sentiment': 'positive'}, {'text': 'RT @_DSlade2: Excellent report from my @instituteforgov colleague @GrahamTAtkins, out today, highlights the problem of government using pri…', 'sentiment': 'positive'}, {'text': 'RT @AXAIM: #MarketThinking this week: Giving thanks for profits and reducing #balancesheet risk while trying to make sense of #China. https…', 'sentiment': 'positive'}, {'text': 'Very much agree with @AmericanFunds assessment that markets have not fully discounted risks of \"quantitative tighte… https://t.co/l1MYT1qZYn', 'sentiment': 'positive'}, {'text': 'Agile messes up the balance sheet, especially if you manage IT as a cost center https://t.co/9wcC6gr2R4', 'sentiment': 'positive'}, {'text': \"It's more astounding that anyone would give the guy any deposits given the shitty balance sheet and cash burn. https://t.co/PpjNqF8y0v\", 'sentiment': 'positive'}, {'text': '@IndiaToday charge them with a heavy fine for their each outlets n H.O. so that it becomes a huge sum n reflect in their balance sheet.', 'sentiment': 'positive'}, {'text': '1/2) Much dis-info, no wow in #Tether conspiracy..\\n\"FriedmanLLP engaged 2 perform balance sheet audit procedures. A… https://t.co/7qPQTKPCQp', 'sentiment': 'positive'}, {'text': \"It's Friday LIVE! Today I'm sharing how you can receive a Family Balance Sheet excel Spreadsheet. I recently made... https://t.co/Xuj9cQUsts\", 'sentiment': 'positive'}, {'text': \"Our new US balance sheet layout re-orders the balance sheet to a format more commonly used in the US. Here's a PDF… https://t.co/GOsx3LDIZL\", 'sentiment': 'positive'}, {'text': 'RT @DarkeMartin: @paul8ar The only want those who are fit enough to be exploited. They don’t see human beings, they see surplus expenditure…', 'sentiment': 'positive'}, {'text': '@amazonIN I loaded 2500 into pay balace &amp; paid for 15% offer, its clear in my balance sheet but executives are deny… https://t.co/kWAXv0ERue', 'sentiment': 'positive'}, {'text': \"Join me at 1pm EST today as I go Live.\\n\\nToday, I'm sharing how you can get your own Family Balance Sheet Excel... https://t.co/01erXSoQ1l\", 'sentiment': 'positive'}, {'text': \"Of course when I talk about Tesla assets I don't mean liabilities. It's called a balance sheet. Fair and balanced s… https://t.co/ZzqIfv268S\", 'sentiment': 'positive'}, {'text': \"@rwhiteley0 @Tesla It's not really a deposit then, right? Looks like they just need you to plunk a quarter mil to k… https://t.co/w0XSpsrcBE\", 'sentiment': 'positive'}, {'text': '@CBCScott Yeah ok Nenshi .... delusional much ?? Balance sheet is a mess! The pension fund payout yes is in great s… https://t.co/tqsd4JNZnS', 'sentiment': 'positive'}], [{'text': \"WSJ: Inside the psychological world of 'contrast effects'--which can make even the most desirable stock returns see… https://t.co/zpftESVNJ9\", 'sentiment': 'positive'}, {'text': 'RT @IvyEugene_: A thread of what we have in stock . \\nKindly rt 🙏🏾\\nN7,500 https://t.co/e5HExP7GJI', 'sentiment': 'positive'}, {'text': \"@brokeymcpoverty 99% of your fears never come true, so don't put stock in them!\", 'sentiment': 'positive'}, {'text': \"Stock up tomorrow, 10am-1pm, for your Thanksgiving celebration-we'll have fresh vegetables, micro greens, bread,... https://t.co/W23imfThbY\", 'sentiment': 'positive'}, {'text': 'Click Here To For More Information https://t.co/ifNzGJF8H9 https://t.co/AWBzdJAXoS', 'sentiment': 'positive'}, {'text': \"RT @WSJ: Inside the psychological world of 'contrast effects'--which can make even the most desirable stock returns seem puny https://t.co/…\", 'sentiment': 'positive'}, {'text': \"RT @ReformedBroker: I have a whole chapter in my book about this guy Kevin Hassett who’s selling this tax plan. He published the book 'Dow…\", 'sentiment': 'positive'}, {'text': 'Thanks to our Contributors, we have surpassed the 47K mark! The TroveStar #nscale Model Trains Database now feature… https://t.co/LRSP2bB7Rf', 'sentiment': 'positive'}, {'text': 'RT @Pimptonchakra: Restock sur les cartes HXH de 100 pièces, elles repasseront au prix original à la fin de ce stock :)', 'sentiment': 'positive'}, {'text': '@Libertypicking I have a lot of dead stock but 90% of jobs I can do on first visit mate.', 'sentiment': 'positive'}, {'text': 'RT @aniplexUSA: Need some Fate/stay night [Heaven’s Feel] merch? We’ve got three beautiful wall scrolls in stock at our booth (#506)! https…', 'sentiment': 'positive'}, {'text': 'What is YOU INC worth? Everyday people are buying or selling your stock. What image are you… https://t.co/qDjUClE5hT', 'sentiment': 'positive'}, {'text': 'RT @jimcramer: The stock of Square is incredible... SO glad we got behind this one... Still ramping!', 'sentiment': 'positive'}, {'text': 'RT @HypedPIug: GUCCI x NMDs Customs 🔥\\n\\nHURRY!🔥Limited Stock❗️Most Sizes Sold Out Soon!😱\\n\\nFree Shipping‼ While Supplies Last\\nShop 👉https://t…', 'sentiment': 'positive'}, {'text': 'Lots of new stock ...#antiques #vintage #industrial #interiors #Reigate #Dorking #industrial… https://t.co/GUBNgSALgZ', 'sentiment': 'positive'}, {'text': 'Am sure when he guided Wales to the semi finals and his stock was high he never thought Sunderland was his next stop  #Coleman', 'sentiment': 'positive'}, {'text': 'RT @SHORTDANCEVlDS: \"Where is my mind\" denim jacket back in stock!\\n\\nShop: https://t.co/TsugR7LN0a\\n\\nFree shipping worldwide 🌍 https://t.co/j…', 'sentiment': 'positive'}, {'text': 'In stock alert: Poppy Print Dress Get more info here: https://t.co/Hr5Z9JMPbP.\\n\\n#fashion #style #fashionista #boho', 'sentiment': 'positive'}, {'text': \"THE WALL STREET JOURNAL: Inside the psychological world of 'contrast effects'--which can make even the most desirab… https://t.co/ToIUVcgfrr\", 'sentiment': 'positive'}, {'text': \"RT @BGKnoccOut_: Join @RobinhoodApp and we'll both get a share of stock like $AAPL, $F, or $S for free. Make sure to use my link.\\n\\nhttps://…\", 'sentiment': 'positive'}, {'text': 'YEEBRAS ARE HERE.. LIMITED STOCK\\n\\nSLOTS NOW LIVE\\n\\nLINK - https://t.co/8t2uQW0dzc https://t.co/v6JWetmLf6', 'sentiment': 'positive'}], [{'text': 'EXCLUSIVE: Judge Says Sutter Health Intentionally Destroyed 192 Boxes of Documents In Lawsuit Over High Prices… https://t.co/jgveMBG424', 'sentiment': 'positive'}, {'text': \"Not long to go to take advantage of our early 'Black Friday'. Amazing offers for our Premium IPTV service. Contact… https://t.co/ICj0DKoKQn\", 'sentiment': 'positive'}, {'text': 'Looking for the Best Gas Prices   https://t.co/56OrLPkh4x', 'sentiment': 'positive'}, {'text': 'RT @XxoticAngels: Ladies Check Out \\n@JessicaC_VIP \\nLadies Shoe Store\\nLike these Burberry Size 6\\nhttps://t.co/BRQSbQu5YD\\nGreat Prices On Aut…', 'sentiment': 'positive'}, {'text': 'Check out Venue King for great prices on events and sporting events this fall with this code: &lt;a... https://t.co/oopyvCxSOZ', 'sentiment': 'positive'}, {'text': '@_Sally15_ Wow that’s cheap dude. How are the hotel prices out there', 'sentiment': 'positive'}, {'text': 'RT @ScottyBeHotty: @ASlavitt @POLITICOPulse @SarahKarlin What about medicare being able to get better negotiated bulk prices for drugs? Lik…', 'sentiment': 'positive'}, {'text': '@JayBWood Look, I agree with you. However the market is out of wack right now. People keep buying stuff and the pri… https://t.co/C62TFRwfit', 'sentiment': 'positive'}, {'text': 'RT @KicksDealsCA: Okay, now that you\\'ve seen official photos for \"The Ten\" and know prices, whats your favorite out of the bunch? Any opini…', 'sentiment': 'positive'}, {'text': 'RT @LocustCider: Warehouse sale this weekend in our Woodinville taproom. Includes reduced prices on cases of 22oz bottles in special limite…', 'sentiment': 'positive'}, {'text': 'RT @SaveRHomes: @AndrewScheer As far as Vancouver &amp; Toronto, allowing offshore untaxed sweatshop owners to buy property at prices 4x what t…', 'sentiment': 'positive'}, {'text': 'RT @grahamlithgow: After hearing about job losses potentially in the hundreds of thousands, higher food prices and grounded planes this lad…', 'sentiment': 'positive'}, {'text': 'RT @sturdyAlex: This exposes the myth of \"saving lots of money by leaving the EU\". Much of the money we paid was to centralise essential ta…', 'sentiment': 'positive'}, {'text': \"RT @austinpirro: When Netflix raises it's prices to add better content but all they do is make crappy movies and take off Always Sunny in P…\", 'sentiment': 'positive'}, {'text': 'Turkey prices are about $1.34 per pound in New York State, down more than 9 percent on average compared to 2016.... https://t.co/kt8rHdE1Fe', 'sentiment': 'positive'}, {'text': 'RT @annagorman: Wow. Health Giant Sutter Destroys Evidence In High-Profile Antitrust Case Over High Prices https://t.co/YGwCF5AOfQ via @khn…', 'sentiment': 'positive'}, {'text': '£1.00 bet on a yellow card to be shown, returns £26.00 for Coral newbies! (Boost paid in free bets) #Arsenal #Spurs… https://t.co/tEptqU7qHR', 'sentiment': 'positive'}, {'text': 'Liquidation Prices and Free Shipping on Veritcal and Comdial Business Telephone Systems and Parts.    Give Mike Bak… https://t.co/wR5Lgf87oK', 'sentiment': 'positive'}, {'text': \"@jackhennessy19 I was working too, my sister got me one, aw could've got you one! 😩 apparently they are already on… https://t.co/e6ToqMz19V\", 'sentiment': 'positive'}, {'text': \"RT @kieran_barr: It's funny how all of Scotland have become interested in politics as soon as the booze prices are being put up\", 'sentiment': 'positive'}, {'text': 'LOL at @netflix raising prices! Bye to you!', 'sentiment': 'positive'}, {'text': 'U.S. oil prices climb by nearly 3%, but still post a loss for the week: Oil prices rallied .. #marketwatch #news https://t.co/7EOHYzr23w', 'sentiment': 'positive'}, {'text': 'RT @qhardy: At current SF restaurant prices, this is sufficient money to buy enough avocado toast to cover 48.47 acres. Cheer up, rich peop…', 'sentiment': 'positive'}, {'text': '@OlliiBear Our Peel Street branch is owned by our partner company. We allow them to set their own prices. I apologi… https://t.co/XQrwy0rvBv', 'sentiment': 'positive'}, {'text': 'RT @MissMargoPrice: Love me some @mccrarysisters 😍 It was so fun to sing with them at @theryman for the Americana Awards! You can watch our…', 'sentiment': 'positive'}, {'text': '@WelshRugbyUnion @GetRhysWilliams @GeorgianRugby Reduce food and drink prices then or let people bring own. 5 hours in Stadium!', 'sentiment': 'positive'}, {'text': 'So hotel room prices have to come down, right? https://t.co/vu0AuxC7cT', 'sentiment': 'positive'}, {'text': 'Besides signaling a \"very unequal, even obscene distribution of wealth in the world,”\\n\\nhere\\'s the threat to culture… https://t.co/kZqQgsuZJ9', 'sentiment': 'positive'}, {'text': 'Who got good prices on ink need some therapy 💉💉💉💉💉', 'sentiment': 'positive'}, {'text': \"RT @NicholeRivas108: Good morning everybody it is #Friday let's get this shopping going. Come to the #closet prices have dropped and #every…\", 'sentiment': 'positive'}, {'text': 'RT @realDonaldTrump: Happy to announce, I am nominating Alex Azar to be the next HHS Secretary. He will be a star for better healthcare and…', 'sentiment': 'positive'}, {'text': 'Follow @SharpSharpIT, They provide excellent Printing services at great Prices , Come visit them...', 'sentiment': 'positive'}, {'text': 'RT @AdamTartt: @oldcornc @TalkSpeedway lower prices attract more fans as BT sport meetings have proven - however  the question is that dosn…', 'sentiment': 'positive'}, {'text': \"RT @DArm91: Oh great this us going to mean gas prices are going to go up even more aren't they https://t.co/uPJ9o57HH0\", 'sentiment': 'positive'}, {'text': 'U.S. softwood lumber prices near all-time high as Canadian producers pass on duties to U.S. consumers… https://t.co/KGFTBh3I1T', 'sentiment': 'positive'}, {'text': \"Interesting read on the ever-shifting climate of Ottawa's resale housing market! Where do you stand in the East-Wes… https://t.co/9NW940O5co\", 'sentiment': 'positive'}, {'text': 'Join Betfair and claim up to £100 in #freebets\\n\\nTop prices on all UK footy!\\n\\nhttps://t.co/tXPl8QAPp0\\n\\n#EPL… https://t.co/WjFjTzZrs9', 'sentiment': 'positive'}, {'text': 'RT @KHNews: Health Giant Sutter Destroys Evidence In Crucial Antitrust Case Over High Prices https://t.co/NZ3ZKIY3C2 via @chadterhune', 'sentiment': 'positive'}, {'text': 'Interesting effect, the release of the 1070ti did affected prices of cards a bit, lowering slightly, Interesting, a… https://t.co/9rW2aC0uJM', 'sentiment': 'positive'}, {'text': 'When was the last time that you had 58 Litres of happiness? Order your keg online at https://t.co/de0V6q8L4E #KegmasMorning #yeg', 'sentiment': 'positive'}, {'text': '@ASlavitt @POLITICOPulse @SarahKarlin What about medicare being able to get better negotiated bulk prices for drugs? Like the VA.', 'sentiment': 'positive'}], [{'text': '@HarvardHistSci Why are these models, like our toilet economy, funny? Freud on jokes: the sudden deprecation of hig… https://t.co/OF5Rgao81V', 'sentiment': 'positive'}, {'text': 'Any artist (painter, writter, etc.) knows the moments of self doubting and self deprecation when working on a new project \\n#ArtistsProblems', 'sentiment': 'positive'}, {'text': '💔Yeah... I Think From Now On I’m Gonna Cool It With The “Self Deprecation” That Shit Doesn’t Help Anyone And I’m Pr… https://t.co/g7vRkkAbIS', 'sentiment': 'positive'}, {'text': 'This MAN is by far the #SexiestManAlive. Love ya Blake, but corny doesn’t equal sexy. @SirPatStew has it all. Intel… https://t.co/Fh3EJOozu7', 'sentiment': 'positive'}, {'text': \"The one thing I'm good at.....\\n\\n.......self-deprecation\", 'sentiment': 'positive'}, {'text': \"Self-deprecation is absolutely wonderful and it gives me a good ol' chuckle.\\nBut there is a line.\", 'sentiment': 'positive'}, {'text': \"@EmperorGrinnar @shenanigansen Well clearly I don't because if you knew me at all I enjoy self deprecation. And tho… https://t.co/UGMCu03xit\", 'sentiment': 'positive'}, {'text': '@Syroze_ @natsukihandjob Haha self deprecation', 'sentiment': 'positive'}, {'text': \"@BeckyDouglas He's usually lovely. Probably one of the folk I get on best with at work. Think my self deprecation set that up\", 'sentiment': 'positive'}, {'text': '@dataandme The self-deprecation is 10/10.\\n\\nI think you do social media very well/are a good model for best practice.', 'sentiment': 'positive'}, {'text': \"@TheLarkInn I guess the right answer was getChunks(), which isn't listed in #Webpack's deprecation warning. https://t.co/3fqQ2gweNV\", 'sentiment': 'positive'}, {'text': 'Self deprecation is good for the soul', 'sentiment': 'positive'}, {'text': '@elvenchild_ @dogwithaknife @striderepiphany Yes but your follow-up self-deprecation is hilarious! &lt;3', 'sentiment': 'positive'}, {'text': 'I live in a bubble of self-deprecation https://t.co/cC7Vpzkhf7', 'sentiment': 'positive'}, {'text': '#MMSayThanks\\nThanks for the show! Wonderful laughs, camaraderie, self-deprecation, and the sports discussions with… https://t.co/AScWmNePz5', 'sentiment': 'positive'}, {'text': '@khinsen @luispedrocoelho I don’t think it is accurate either, there is a policy of deprecation, etc. but it is not… https://t.co/9R79hLLBb5', 'sentiment': 'positive'}, {'text': '@marcmaron @Lawrence @WTFpod Great hearing Lawrence say \"fuck\". So surreal. His self deprecation was refreshing.', 'sentiment': 'positive'}, {'text': 'Java Web Start deprecation part was not mentioned before as far as we looked around. How can people act against thi… https://t.co/XqgHYRhnk6', 'sentiment': 'positive'}, {'text': '@BotEmett @joeerl There is then an argument to be made for fast deprecation. GET /api/2.2/whatever might also serve… https://t.co/jJKI1yIyME', 'sentiment': 'positive'}, {'text': 'Alliances are built around shared habits of cultural deprecation', 'sentiment': 'positive'}, {'text': '@fascinatorfun @NewUKDemocrat @JoRichardsKent Love it #CarryonBrexit we watching the ultimate in British self deprecation', 'sentiment': 'positive'}, {'text': '@khinsen @ncoghlan_dev Hmm.  Would you consider better errors/warnings and deprecation/change warnings part of the solution?', 'sentiment': 'positive'}, {'text': \"Don't like to talk about themselves? Self-deprecation is a much loved art form? Are, at heart, low on self-esteem?… https://t.co/6UlkUx9piT\", 'sentiment': 'positive'}, {'text': 'NOEL AND THE HEARTBREAKS EP\\n\\n1.Fuck that shit\\n\\n2.Cupid\\n\\n3.Bridges\\n\\n4.A love song for fools\\n\\n5.I don’t wanna (cry)… https://t.co/GobUonoGU1', 'sentiment': 'positive'}, {'text': '@Kiwiseabreeze @grahnort He’s the king of charming self deprecation. And owner of one of the most memorable anecdot… https://t.co/WKPEqlNHFl', 'sentiment': 'positive'}, {'text': '@ScottAdamsSays @QQBeautifulDove I avoid all self deprecation. Thanks Scott.', 'sentiment': 'positive'}, {'text': 'we love self-reflexivity and self-deprecation thru humor https://t.co/H08J7mEC44', 'sentiment': 'positive'}, {'text': 'Self-deprecation is the key to happiness https://t.co/pOHIKlpAMj', 'sentiment': 'positive'}, {'text': '@mikequasar Lovely mix of self-deprecation, cynicism and humor, delivering a contrarian view. Yet it leaves me feel… https://t.co/Z6BUazMlgV', 'sentiment': 'positive'}, {'text': 'i should stop with the self deprecation, im an amazing person', 'sentiment': 'positive'}, {'text': 'I hope that if grad schools look at my Twitter, they see an example of endearing grit and not just my wallowing self-deprecation', 'sentiment': 'positive'}, {'text': '\"I know what you could put on your resume for special skills!\"\\n\\n\"what??\"\\n\\n\"Self deprecation!\"\\n-A conversation I actually  had', 'sentiment': 'positive'}, {'text': 'Never a more accurate deprecation of me! https://t.co/b3yud6h8mp', 'sentiment': 'positive'}, {'text': '@aj_macready @connywithay2 Thanks brother. I love me some self deprecation', 'sentiment': 'positive'}, {'text': 'RT @TheSpectress: Whedon liked those tweets as a form of self-deprecation, it also served to shame the author of the malicious tweets. Joss…', 'sentiment': 'positive'}, {'text': 'RT @glenc217: My superpower is self deprecation. You should see my superhero outfit. \\n\\nThe tights are very unflattering.', 'sentiment': 'positive'}, {'text': 'RT @_HelloHarrison: One of the things I do that I find joy in is looking back at times where you could’ve messed up. But instead, you aced…', 'sentiment': 'positive'}, {'text': 'RT @AnnaShirley7: stop tweeting that ur “dating the best guy” like I’m so glad ur in love and I’m glad u found someone who will treat u rig…', 'sentiment': 'positive'}]]\n"
     ]
    },
    {
     "ename": "TypeError",
     "evalue": "list indices must be integers or slices, not str",
     "output_type": "error",
     "traceback": [
      "\u001b[1;31m---------------------------------------------------------------------------\u001b[0m",
      "\u001b[1;31mTypeError\u001b[0m                                 Traceback (most recent call last)",
      "\u001b[1;32m<ipython-input-76-cb1d4bb7443f>\u001b[0m in \u001b[0;36m<module>\u001b[1;34m()\u001b[0m\n\u001b[0;32m     69\u001b[0m \u001b[1;33m\u001b[0m\u001b[0m\n\u001b[0;32m     70\u001b[0m \u001b[1;33m\u001b[0m\u001b[0m\n\u001b[1;32m---> 71\u001b[1;33m \u001b[0mmyDf\u001b[0m\u001b[1;33m,\u001b[0m\u001b[0mptweets\u001b[0m \u001b[1;33m=\u001b[0m \u001b[0mmain\u001b[0m\u001b[1;33m(\u001b[0m\u001b[1;33m)\u001b[0m\u001b[1;33m\u001b[0m\u001b[0m\n\u001b[0m",
      "\u001b[1;32m<ipython-input-76-cb1d4bb7443f>\u001b[0m in \u001b[0;36mmain\u001b[1;34m()\u001b[0m\n\u001b[0;32m     54\u001b[0m     \u001b[0ma\u001b[0m \u001b[1;33m=\u001b[0m \u001b[1;33m[\u001b[0m\u001b[0mt\u001b[0m \u001b[1;32mfor\u001b[0m \u001b[0mt\u001b[0m \u001b[1;32min\u001b[0m \u001b[0mptweets\u001b[0m\u001b[1;33m]\u001b[0m\u001b[1;33m\u001b[0m\u001b[0m\n\u001b[0;32m     55\u001b[0m     \u001b[0mprint\u001b[0m\u001b[1;33m(\u001b[0m\u001b[0ma\u001b[0m\u001b[1;33m)\u001b[0m\u001b[1;33m\u001b[0m\u001b[0m\n\u001b[1;32m---> 56\u001b[1;33m     \u001b[0mmyDf\u001b[0m \u001b[1;33m=\u001b[0m \u001b[0mpd\u001b[0m\u001b[1;33m.\u001b[0m\u001b[0mDataFrame\u001b[0m\u001b[1;33m(\u001b[0m\u001b[1;33m[\u001b[0m\u001b[1;33m[\u001b[0m\u001b[0mt\u001b[0m\u001b[1;33m[\u001b[0m\u001b[1;34m'text'\u001b[0m\u001b[1;33m]\u001b[0m\u001b[1;33m,\u001b[0m\u001b[1;36m3\u001b[0m\u001b[1;33m]\u001b[0m \u001b[1;32mfor\u001b[0m \u001b[0mt\u001b[0m \u001b[1;32min\u001b[0m \u001b[0mptweets\u001b[0m\u001b[1;33m]\u001b[0m\u001b[1;33m,\u001b[0m\u001b[0mcolumns\u001b[0m\u001b[1;33m=\u001b[0m\u001b[1;33m[\u001b[0m\u001b[1;34m'tweet'\u001b[0m\u001b[1;33m,\u001b[0m\u001b[1;34m'label'\u001b[0m\u001b[1;33m]\u001b[0m\u001b[1;33m)\u001b[0m\u001b[1;33m\u001b[0m\u001b[0m\n\u001b[0m\u001b[0;32m     57\u001b[0m     \u001b[0mmyDf\u001b[0m \u001b[1;33m=\u001b[0m \u001b[0mmyDf\u001b[0m\u001b[1;33m.\u001b[0m\u001b[0mappend\u001b[0m\u001b[1;33m(\u001b[0m\u001b[0mpd\u001b[0m\u001b[1;33m.\u001b[0m\u001b[0mDataFrame\u001b[0m\u001b[1;33m(\u001b[0m\u001b[1;33m[\u001b[0m\u001b[1;33m[\u001b[0m\u001b[0mt\u001b[0m\u001b[1;33m[\u001b[0m\u001b[1;34m'text'\u001b[0m\u001b[1;33m]\u001b[0m\u001b[1;33m,\u001b[0m\u001b[1;36m3\u001b[0m\u001b[1;33m]\u001b[0m \u001b[1;32mfor\u001b[0m \u001b[0mt\u001b[0m \u001b[1;32min\u001b[0m \u001b[0mntweets\u001b[0m\u001b[1;33m]\u001b[0m\u001b[1;33m,\u001b[0m\u001b[0mcolumns\u001b[0m\u001b[1;33m=\u001b[0m\u001b[1;33m[\u001b[0m\u001b[1;34m'tweet'\u001b[0m\u001b[1;33m,\u001b[0m\u001b[1;34m'label'\u001b[0m\u001b[1;33m]\u001b[0m\u001b[1;33m)\u001b[0m\u001b[1;33m)\u001b[0m\u001b[1;33m\u001b[0m\u001b[0m\n\u001b[0;32m     58\u001b[0m     \u001b[0mmyDf\u001b[0m \u001b[1;33m=\u001b[0m \u001b[0mmyDf\u001b[0m\u001b[1;33m.\u001b[0m\u001b[0mappend\u001b[0m\u001b[1;33m(\u001b[0m\u001b[0mpd\u001b[0m\u001b[1;33m.\u001b[0m\u001b[0mDataFrame\u001b[0m\u001b[1;33m(\u001b[0m\u001b[1;33m[\u001b[0m\u001b[1;33m[\u001b[0m\u001b[0mt\u001b[0m\u001b[1;33m[\u001b[0m\u001b[1;34m'text'\u001b[0m\u001b[1;33m]\u001b[0m\u001b[1;33m,\u001b[0m\u001b[1;36m3\u001b[0m\u001b[1;33m]\u001b[0m \u001b[1;32mfor\u001b[0m \u001b[0mt\u001b[0m \u001b[1;32min\u001b[0m \u001b[0mneuTweets\u001b[0m\u001b[1;33m]\u001b[0m\u001b[1;33m,\u001b[0m\u001b[0mcolumns\u001b[0m\u001b[1;33m=\u001b[0m\u001b[1;33m[\u001b[0m\u001b[1;34m'tweet'\u001b[0m\u001b[1;33m,\u001b[0m\u001b[1;34m'label'\u001b[0m\u001b[1;33m]\u001b[0m\u001b[1;33m)\u001b[0m\u001b[1;33m)\u001b[0m\u001b[1;33m\u001b[0m\u001b[0m\n",
      "\u001b[1;32m<ipython-input-76-cb1d4bb7443f>\u001b[0m in \u001b[0;36m<listcomp>\u001b[1;34m(.0)\u001b[0m\n\u001b[0;32m     54\u001b[0m     \u001b[0ma\u001b[0m \u001b[1;33m=\u001b[0m \u001b[1;33m[\u001b[0m\u001b[0mt\u001b[0m \u001b[1;32mfor\u001b[0m \u001b[0mt\u001b[0m \u001b[1;32min\u001b[0m \u001b[0mptweets\u001b[0m\u001b[1;33m]\u001b[0m\u001b[1;33m\u001b[0m\u001b[0m\n\u001b[0;32m     55\u001b[0m     \u001b[0mprint\u001b[0m\u001b[1;33m(\u001b[0m\u001b[0ma\u001b[0m\u001b[1;33m)\u001b[0m\u001b[1;33m\u001b[0m\u001b[0m\n\u001b[1;32m---> 56\u001b[1;33m     \u001b[0mmyDf\u001b[0m \u001b[1;33m=\u001b[0m \u001b[0mpd\u001b[0m\u001b[1;33m.\u001b[0m\u001b[0mDataFrame\u001b[0m\u001b[1;33m(\u001b[0m\u001b[1;33m[\u001b[0m\u001b[1;33m[\u001b[0m\u001b[0mt\u001b[0m\u001b[1;33m[\u001b[0m\u001b[1;34m'text'\u001b[0m\u001b[1;33m]\u001b[0m\u001b[1;33m,\u001b[0m\u001b[1;36m3\u001b[0m\u001b[1;33m]\u001b[0m \u001b[1;32mfor\u001b[0m \u001b[0mt\u001b[0m \u001b[1;32min\u001b[0m \u001b[0mptweets\u001b[0m\u001b[1;33m]\u001b[0m\u001b[1;33m,\u001b[0m\u001b[0mcolumns\u001b[0m\u001b[1;33m=\u001b[0m\u001b[1;33m[\u001b[0m\u001b[1;34m'tweet'\u001b[0m\u001b[1;33m,\u001b[0m\u001b[1;34m'label'\u001b[0m\u001b[1;33m]\u001b[0m\u001b[1;33m)\u001b[0m\u001b[1;33m\u001b[0m\u001b[0m\n\u001b[0m\u001b[0;32m     57\u001b[0m     \u001b[0mmyDf\u001b[0m \u001b[1;33m=\u001b[0m \u001b[0mmyDf\u001b[0m\u001b[1;33m.\u001b[0m\u001b[0mappend\u001b[0m\u001b[1;33m(\u001b[0m\u001b[0mpd\u001b[0m\u001b[1;33m.\u001b[0m\u001b[0mDataFrame\u001b[0m\u001b[1;33m(\u001b[0m\u001b[1;33m[\u001b[0m\u001b[1;33m[\u001b[0m\u001b[0mt\u001b[0m\u001b[1;33m[\u001b[0m\u001b[1;34m'text'\u001b[0m\u001b[1;33m]\u001b[0m\u001b[1;33m,\u001b[0m\u001b[1;36m3\u001b[0m\u001b[1;33m]\u001b[0m \u001b[1;32mfor\u001b[0m \u001b[0mt\u001b[0m \u001b[1;32min\u001b[0m \u001b[0mntweets\u001b[0m\u001b[1;33m]\u001b[0m\u001b[1;33m,\u001b[0m\u001b[0mcolumns\u001b[0m\u001b[1;33m=\u001b[0m\u001b[1;33m[\u001b[0m\u001b[1;34m'tweet'\u001b[0m\u001b[1;33m,\u001b[0m\u001b[1;34m'label'\u001b[0m\u001b[1;33m]\u001b[0m\u001b[1;33m)\u001b[0m\u001b[1;33m)\u001b[0m\u001b[1;33m\u001b[0m\u001b[0m\n\u001b[0;32m     58\u001b[0m     \u001b[0mmyDf\u001b[0m \u001b[1;33m=\u001b[0m \u001b[0mmyDf\u001b[0m\u001b[1;33m.\u001b[0m\u001b[0mappend\u001b[0m\u001b[1;33m(\u001b[0m\u001b[0mpd\u001b[0m\u001b[1;33m.\u001b[0m\u001b[0mDataFrame\u001b[0m\u001b[1;33m(\u001b[0m\u001b[1;33m[\u001b[0m\u001b[1;33m[\u001b[0m\u001b[0mt\u001b[0m\u001b[1;33m[\u001b[0m\u001b[1;34m'text'\u001b[0m\u001b[1;33m]\u001b[0m\u001b[1;33m,\u001b[0m\u001b[1;36m3\u001b[0m\u001b[1;33m]\u001b[0m \u001b[1;32mfor\u001b[0m \u001b[0mt\u001b[0m \u001b[1;32min\u001b[0m \u001b[0mneuTweets\u001b[0m\u001b[1;33m]\u001b[0m\u001b[1;33m,\u001b[0m\u001b[0mcolumns\u001b[0m\u001b[1;33m=\u001b[0m\u001b[1;33m[\u001b[0m\u001b[1;34m'tweet'\u001b[0m\u001b[1;33m,\u001b[0m\u001b[1;34m'label'\u001b[0m\u001b[1;33m]\u001b[0m\u001b[1;33m)\u001b[0m\u001b[1;33m)\u001b[0m\u001b[1;33m\u001b[0m\u001b[0m\n",
      "\u001b[1;31mTypeError\u001b[0m: list indices must be integers or slices, not str"
     ]
    }
   ],
   "source": [
    "import pandas as pd\n",
    "def main():\n",
    "    # creating object of TwitterClient Class\n",
    "    api = TwitterClient()\n",
    "    \n",
    "    myFilters = [\"cash flow\", \"balance sheet\", \"stock\", \"prices\", \"deprecation\"]\n",
    "    ptweets = []\n",
    "    ntweets = []\n",
    "    neuTweets = []\n",
    "    \n",
    "    myDf = pd.DataFrame()\n",
    "    for currentFilter in myFilters:\n",
    "        # calling function to get tweets\n",
    "        tweets = api.get_tweets(query = currentFilter, count = 2000)\n",
    "\n",
    "        # picking positive tweets from tweets\n",
    "        print(len(ptweets),len(ntweets),len(neuTweets))\n",
    "        if len(ptweets) == 0:\n",
    "            ptweets = [tweet for tweet in tweets if tweet['sentiment'] == 'positive']\n",
    "        else:\n",
    "            ptweets.append([tweet for tweet in tweets if tweet['sentiment'] == 'positive'])\n",
    "        # percentage of positive tweets\n",
    "        print(\"Positive tweets percentage: {} %\".format(100*len(ptweets)/len(tweets)))\n",
    "        # picking negative tweets from tweets\n",
    "        \n",
    "        if len(ntweets) == 0:\n",
    "            ntweets = [tweet for tweet in tweets if tweet['sentiment'] == 'negative']\n",
    "        else:\n",
    "            ntweets.append([tweet for tweet in tweets if tweet['sentiment'] == 'negative'])\n",
    "        # percentage of negative tweets\n",
    "        print(\"Negative tweets percentage: {} %\".format(100*len(ntweets)/len(tweets)))\n",
    "\n",
    "        neut = [tweets not in ptweets]\n",
    "        \n",
    "        if len(neuTweets) == 0:\n",
    "            neuTweets = [neut not in ntweets]\n",
    "        else:\n",
    "            neuTweets.append([neut not in ntweets])\n",
    "        \n",
    "        print(len(neuTweets))\n",
    "        # percentage of neutral tweets\n",
    "        #print(\"Neutral tweets percentage: {} %\".format(100*len(tweets - ntweets - ptweets)/len(tweets)))\n",
    "\n",
    "        # printing first 5 positive tweets\n",
    "        #print(\"\\n\\nPositive tweets:\")\n",
    "        #for tweet in ptweets[:10]:\n",
    "        #    print(tweet['text'])\n",
    "\n",
    "        # printing first 5 negative tweets\n",
    "        #print(\"\\n\\nNegative tweets:\")\n",
    "        #for tweet in ntweets[:10]:\n",
    "        #    print(tweet['text'])\n",
    "    \n",
    "    a = [t for t in ptweets]\n",
    "    print(a)\n",
    "    myDf = pd.DataFrame([[t['text'],3] for t in ptweets],columns=['tweet','label'])\n",
    "    myDf = myDf.append(pd.DataFrame([[t['text'],3] for t in ntweets],columns=['tweet','label']))\n",
    "    myDf = myDf.append(pd.DataFrame([[t['text'],3] for t in neuTweets],columns=['tweet','label']))\n",
    "   \n",
    "    #myDf['label'].iloc[currentLen:]  = 2\n",
    "    currentLen = len(myDf)\n",
    "    \n",
    "    \n",
    "    return (myDf,ptweets)\n",
    "\n",
    "#print(ptweets)\n",
    "#myDf['tweets'] = ptweets\n",
    "#myDf['label']  = 3\n",
    "\n",
    "\n",
    "myDf,ptweets = main()"
   ]
  },
  {
   "cell_type": "code",
   "execution_count": 30,
   "metadata": {},
   "outputs": [
    {
     "name": "stdout",
     "output_type": "stream",
     "text": [
      "Requirement already satisfied: tweepy in c:\\users\\dikshit\\anaconda5\\lib\\site-packages\n",
      "Requirement already satisfied: requests-oauthlib>=0.4.1 in c:\\users\\dikshit\\anaconda5\\lib\\site-packages (from tweepy)\n",
      "Requirement already satisfied: six>=1.7.3 in c:\\users\\dikshit\\anaconda5\\lib\\site-packages (from tweepy)\n",
      "Requirement already satisfied: requests>=2.4.3 in c:\\users\\dikshit\\anaconda5\\lib\\site-packages (from tweepy)\n",
      "Requirement already satisfied: oauthlib>=0.6.2 in c:\\users\\dikshit\\anaconda5\\lib\\site-packages (from requests-oauthlib>=0.4.1->tweepy)\n",
      "Requirement already satisfied: textblob in c:\\users\\dikshit\\anaconda5\\lib\\site-packages\n",
      "Requirement already satisfied: nltk>=3.1 in c:\\users\\dikshit\\anaconda5\\lib\\site-packages (from textblob)\n",
      "Requirement already satisfied: six in c:\\users\\dikshit\\anaconda5\\lib\\site-packages (from nltk>=3.1->textblob)\n"
     ]
    }
   ],
   "source": [
    "!pip install tweepy\n",
    "!pip install textblob"
   ]
  },
  {
   "cell_type": "code",
   "execution_count": null,
   "metadata": {},
   "outputs": [],
   "source": []
  },
  {
   "cell_type": "code",
   "execution_count": 55,
   "metadata": {},
   "outputs": [
    {
     "data": {
      "text/plain": [
       "{'sentiment': 'positive',\n",
       " 'text': 'RT @MOMOSTOCKTRADES: $DIGAF New ICO offering to fund operations and create cash flow. Im betting on the #Bitcoin madness that will make thi…'}"
      ]
     },
     "execution_count": 55,
     "metadata": {},
     "output_type": "execute_result"
    }
   ],
   "source": [
    "myDf['tweets'].iloc[0]"
   ]
  },
  {
   "cell_type": "code",
   "execution_count": 56,
   "metadata": {},
   "outputs": [
    {
     "data": {
      "text/plain": [
       "32"
      ]
     },
     "execution_count": 56,
     "metadata": {},
     "output_type": "execute_result"
    }
   ],
   "source": [
    "len(myDf)"
   ]
  },
  {
   "cell_type": "code",
   "execution_count": 61,
   "metadata": {},
   "outputs": [
    {
     "data": {
      "text/html": [
       "<div>\n",
       "<style>\n",
       "    .dataframe thead tr:only-child th {\n",
       "        text-align: right;\n",
       "    }\n",
       "\n",
       "    .dataframe thead th {\n",
       "        text-align: left;\n",
       "    }\n",
       "\n",
       "    .dataframe tbody tr th {\n",
       "        vertical-align: top;\n",
       "    }\n",
       "</style>\n",
       "<table border=\"1\" class=\"dataframe\">\n",
       "  <thead>\n",
       "    <tr style=\"text-align: right;\">\n",
       "      <th></th>\n",
       "      <th>tweets</th>\n",
       "      <th>label</th>\n",
       "    </tr>\n",
       "  </thead>\n",
       "  <tbody>\n",
       "    <tr>\n",
       "      <th>0</th>\n",
       "      <td>sahil</td>\n",
       "      <td>2</td>\n",
       "    </tr>\n",
       "  </tbody>\n",
       "</table>\n",
       "</div>"
      ],
      "text/plain": [
       "  tweets  label\n",
       "0  sahil      2"
      ]
     },
     "execution_count": 61,
     "metadata": {},
     "output_type": "execute_result"
    }
   ],
   "source": [
    "pd.DataFrame({\"sahil\",2},columns=['tweets','label'])"
   ]
  },
  {
   "cell_type": "code",
   "execution_count": null,
   "metadata": {
    "collapsed": true
   },
   "outputs": [],
   "source": []
  }
 ],
 "metadata": {
  "kernelspec": {
   "display_name": "Python 3",
   "language": "python",
   "name": "python3"
  },
  "language_info": {
   "codemirror_mode": {
    "name": "ipython",
    "version": 3
   },
   "file_extension": ".py",
   "mimetype": "text/x-python",
   "name": "python",
   "nbconvert_exporter": "python",
   "pygments_lexer": "ipython3",
   "version": "3.6.1"
  }
 },
 "nbformat": 4,
 "nbformat_minor": 2
}
