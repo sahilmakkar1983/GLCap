{
 "cells": [
  {
   "cell_type": "code",
   "execution_count": 6,
   "metadata": {
    "collapsed": false
   },
   "outputs": [],
   "source": [
    "import pandas as pd\n",
    "import os\n",
    "\n",
    "import re\n",
    "def removeURLFromText(text):\n",
    "    #print(str(text))\n",
    "    text = re.sub(r'b\"*', '', str(text), flags=re.MULTILINE)\n",
    "    text = re.sub(r'https?:\\/\\/.*[\\r\\n]*', '', str(text), flags=re.MULTILINE)\n",
    "    text = re.sub(r'http?:\\/\\/.*[\\r\\n]*', '', str(text), flags=re.MULTILINE)\n",
    "    #text = re.sub(r'\"', '', str(text), flags=re.MULTILINE)\n",
    "    text = re.sub(r'^\"|\"$', '', text)\n",
    "    text = re.sub(r'\\'', '', text)\n",
    "    text = re.sub(r'[^a-zA-Z0-9 ]',r'',text)\n",
    "    return (text)\n",
    "\n",
    "def parseExcelFileWithMultipleSheetsAndCombine(excelFilePath,SheetsToParse):\n",
    "\n",
    "    df = pd.ExcelFile(excelFilePath,encoding=\"utf-8\")\n",
    "\n",
    "    masterDf = df.parse(\"All\")\n",
    "\n",
    "    for index,sheet_name in enumerate(SheetsToParse):\n",
    "        if index == 0:\n",
    "            WholeDf = df.parse(sheet_name)\n",
    "            WholeDf[\"STOCK\"]= sheet_name\n",
    "        else:\n",
    "            tempDf = df.parse(sheet_name)\n",
    "            tempDf[\"STOCK\"]= sheet_name\n",
    "            WholeDf= WholeDf.append(tempDf) #read a specific sheet to DataFrame\n",
    "\n",
    "    WholeDf['text'] = WholeDf['text'].apply(lambda x: removeURLFromText(x))\n",
    "    WholeDfNonNULL =WholeDf[WholeDf.Rating == WholeDf.Rating]\n",
    "    \n",
    "    return (WholeDfNonNULL)\n",
    "    \n",
    "SheetsToParse=['AAPL',\n",
    "               'MSFT',\n",
    "               'GE',\n",
    "               'IBM',\n",
    "               'DIS',\n",
    "               'PG',\n",
    "               'AXP',\n",
    "               'BA',\n",
    "               'DD',\n",
    "               'JNJ',\n",
    "               'KO',\n",
    "               'MCD',\n",
    "               'MMM']\n",
    "\n",
    "WholeDf= parseExcelFileWithMultipleSheetsAndCombine(\"Tweet-Scale.xlsx\",SheetsToParse)"
   ]
  },
  {
   "cell_type": "markdown",
   "metadata": {
    "collapsed": false
   },
   "source": [
    "# HERE IT ENDS, rest is just few trials"
   ]
  },
  {
   "cell_type": "code",
   "execution_count": 7,
   "metadata": {
    "collapsed": false
   },
   "outputs": [
    {
     "data": {
      "text/plain": [
       "array([ 4.,  1.,  2.,  4.,  3.,  2.,  2.,  3.,  4.,  4.,  4.,  4.,  4.,\n",
       "        2.,  2.,  4.,  4.,  4.,  2.,  4.,  1.,  4.,  4.,  4.,  4.,  4.,\n",
       "        2.,  2.,  2.,  2.,  2.,  4.,  4.,  4.,  4.,  4.,  4.,  4.,  4.,\n",
       "        3.,  3.,  3.,  3.,  3.,  2.,  2.,  2.,  3.,  2.,  2.,  2.,  4.,\n",
       "        4.,  3.,  2.,  2.,  2.,  4.,  4.,  3.,  3.,  2.,  4.,  4.,  4.,\n",
       "        4.,  4.,  4.,  1.,  2.,  3.,  3.,  4.,  4.,  2.,  4.,  3.,  3.,\n",
       "        2.,  3.,  4.,  4.,  4.,  4.,  4.,  4.,  4.,  4.,  2.,  4.,  4.,\n",
       "        4.,  4.,  4.,  4.,  2.,  4.,  4.,  4.,  4.,  4.,  4.,  4.,  2.,\n",
       "        4.,  4.,  2.,  4.,  4.,  4.,  4.,  4.,  4.,  4.,  4.,  4.,  4.,\n",
       "        2.,  4.,  2.,  2.,  2.,  2.,  4.,  3.,  2.,  4.,  2.,  2.,  2.,\n",
       "        2.,  2.,  2.,  3.,  3.,  3.,  4.,  4.,  2.,  2.,  4.,  4.,  4.,\n",
       "        2.,  4.,  3.,  3.,  2.,  2.,  4.,  4.,  4.,  2.,  4.,  4.,  4.,\n",
       "        3.,  2.,  3.,  2.,  2.,  4.,  4.,  4.,  4.,  3.,  4.,  3.,  4.,\n",
       "        4.,  3.,  3.,  3.,  4.,  4.,  4.,  4.,  2.,  2.,  3.,  3.,  3.,\n",
       "        3.,  3.,  4.,  3.,  3.,  2.,  2.,  3.,  4.,  4.,  4.,  2.,  3.,\n",
       "        4.,  3.,  4.,  2.,  2.,  4.,  4.,  3.,  3.,  3.,  3.,  4.,  4.,\n",
       "        4.,  4.,  4.,  4.,  4.,  4.,  4.,  1.,  1.,  1.,  1.,  1.,  1.,\n",
       "        2.,  4.,  1.,  1.,  1.,  1.,  4.,  4.,  1.,  1.,  1.,  1.,  1.,\n",
       "        1.,  2.,  2.,  4.,  4.,  1.,  1.,  2.,  1.,  1.,  2.,  2.,  2.,\n",
       "        2.,  2.,  2.,  2.,  1.,  2.,  1.,  1.,  2.,  4.,  2.,  4.,  4.,\n",
       "        4.,  5.,  5.,  5.,  5.,  5.,  5.,  5.,  5.,  4.,  4.,  4.,  3.,\n",
       "        4.,  4.,  4.,  5.,  5.,  5.,  5.,  4.,  5.,  4.,  4.,  3.,  4.,\n",
       "        4.,  4.,  2.,  4.,  2.,  4.,  4.,  4.,  4.,  3.,  4.,  2.,  4.,\n",
       "        2.,  4.,  4.,  4.,  4.,  3.,  3.,  3.,  3.,  3.,  3.,  3.,  3.,\n",
       "        2.,  2.])"
      ]
     },
     "execution_count": 7,
     "metadata": {},
     "output_type": "execute_result"
    }
   ],
   "source": [
    "WholeDf.Rating.values"
   ]
  },
  {
   "cell_type": "code",
   "execution_count": 4,
   "metadata": {
    "collapsed": true
   },
   "outputs": [],
   "source": [
    "for index,sheet_name in enumerate(SheetsToParse):\n",
    "    if index == 0:\n",
    "        WholeDf = df.parse(sheet_name)\n",
    "        WholeDf[\"STOCK\"]= sheet_name\n",
    "    else:\n",
    "        tempDf = df.parse(sheet_name)\n",
    "        tempDf[\"STOCK\"]= sheet_name\n",
    "        WholeDf= WholeDf.append(tempDf) #read a specific sheet to DataFrame\n",
    "        "
   ]
  },
  {
   "cell_type": "code",
   "execution_count": 5,
   "metadata": {
    "collapsed": false
   },
   "outputs": [
    {
     "data": {
      "text/plain": [
       "(array([  0,   1,   2,   3,   4,   5,   6,   7,   8,   9,  10,  11,  12,\n",
       "         13,  14,  15,  16,  17,  18,  19,  20,  21,  22,  23,  24,  25,\n",
       "         26,  27,  28,  29,  30,  31,  32,  33,  34,  35,  36,  37,  38,\n",
       "         39,  40,  41,  42,  43,  44,  45,  46,  47,  48,  49,  50,  51,\n",
       "         52,  53,  54,  55,  56,  57,  58,  59,  60,  61,  62,  63,  64,\n",
       "         65,  66,  67,  68,  69,  70,  71,  72,  73,  74,  75,  76,  77,\n",
       "         78,  79,  80,  81,  82,  83,  84,  85,  86,  87,  88,  89,  90,\n",
       "         91,  92,  93,  94,  95,  96,  97,  98,  99, 100, 101, 102, 103,\n",
       "        104, 105, 106, 107, 108, 109, 110, 111, 112, 113, 114, 115, 116,\n",
       "        117, 118, 119, 120, 121, 122, 123, 124, 125, 126, 127, 128, 129,\n",
       "        130, 131, 132, 133, 134, 135, 136, 137, 138, 139, 140, 141, 142,\n",
       "        143, 144, 145, 146, 147, 148, 149, 150, 151, 152, 153, 154, 155,\n",
       "        156, 157, 158, 159, 160, 161, 162, 163, 164, 165, 166, 167, 168,\n",
       "        169, 170, 171, 172, 173, 174, 175, 176, 177, 178, 179, 180, 181,\n",
       "        182, 183, 184, 185, 186, 187, 188, 189, 190, 191, 192, 193, 194,\n",
       "        195, 196, 197, 198, 199, 200, 201, 202, 203, 204, 205, 206, 207,\n",
       "        208, 209, 210, 211, 212, 213, 214, 215, 216, 217, 218, 219, 220,\n",
       "        221, 222, 223, 224, 225, 226, 227, 228, 229, 230, 231, 232, 233,\n",
       "        234, 235, 236, 237, 238, 239, 240, 241, 242, 243, 244, 245, 246,\n",
       "        247, 248, 249, 250, 251, 252, 253, 254, 255, 256, 257, 258, 259,\n",
       "        260, 261, 262, 263, 264, 265, 266, 267, 268, 269, 270, 271, 272,\n",
       "        273, 274, 275, 276, 277, 278, 279, 280, 281, 282, 283, 284, 285,\n",
       "        286, 287, 288, 289, 290, 291, 292, 293, 294, 295, 296, 297, 298,\n",
       "        299, 300, 301, 302, 303, 304, 305, 306, 307, 308, 309, 310, 311,\n",
       "        312, 313, 314, 315, 316, 317, 318, 319, 320, 321, 322]),)"
      ]
     },
     "execution_count": 5,
     "metadata": {},
     "output_type": "execute_result"
    }
   ],
   "source": [
    "import numpy as np\n",
    "np.where((WholeDf['Rating'] == WholeDf['Rating']) == True)"
   ]
  },
  {
   "cell_type": "code",
   "execution_count": 6,
   "metadata": {
    "collapsed": true
   },
   "outputs": [],
   "source": []
  },
  {
   "cell_type": "code",
   "execution_count": 7,
   "metadata": {
    "collapsed": true
   },
   "outputs": [],
   "source": [
    "WholeDf['text'] = WholeDf['text'].apply(lambda x: removeURLFromText(x))"
   ]
  },
  {
   "cell_type": "code",
   "execution_count": 8,
   "metadata": {
    "collapsed": false
   },
   "outputs": [
    {
     "data": {
      "text/plain": [
       "0     Apple cofounders Woz U aims to train tech work...\n",
       "1      Anemic iPhone 8 demand drags Apple shares lower \n",
       "2     Apple CEO Tim Cook says rumored AR glasses won...\n",
       "3     Apple CEO Tim Cook talks aout new Chicago flag...\n",
       "4     Apple CEO Tim Cook Learn to code its more impo...\n",
       "5     Apple cofounder Steve Wozniak iPhone X is the ...\n",
       "6     Apple cofounder Steve Wozniak iPhone X is the ...\n",
       "7     Apple cofounder Steve Wozniak Therexe2x80x99s ...\n",
       "8     Apple cofounders Woz U aims to train tech work...\n",
       "9     Apple COO Jeff Williams on tech and health car...\n",
       "10    Apple COO Jeff Williams on tech and health car...\n",
       "11    Apple design chief Jony Ive says he despises m...\n",
       "12    Apple has agreed to terms with Bain Capital in...\n",
       "13    Apple hit with trademark lawsuit over iPhone X...\n",
       "14    Apple reportedly reduced the accuracy of the i...\n",
       "15    Apple was the worlds 70th largest company a de...\n",
       "16    Apple was the worlds 70th largest company a de...\n",
       "17    Apple was the worlds 70th largest company a de...\n",
       "18    Apple will have at most 3 million iPhone Xs ne...\n",
       "19    Apples 1 illion data center in Ireland gets th...\n",
       "20    Apples exec in charge of ackend technology for...\n",
       "21    Apples iPhone X has an OLED screen a glass ack...\n",
       "22    Apples new campus is nearly finished and now A...\n",
       "23    Apples new campus is nearly finished and now A...\n",
       "24       Apples new iPhones come with upgraded cameras \n",
       "25    Apples RampD spending has more than douled ove...\n",
       "26    Apples recent weakness is just the pause that ...\n",
       "27    Apples suppliers in Asia sink as the pricey ne...\n",
       "28    Chinas Huawei could overtake Apple this year i...\n",
       "29    Cramer Dont let iPhone 8 order worries keep yo...\n",
       "                            ...                        \n",
       "9     Disney considered uying Twitter CEO Bo Iger co...\n",
       "10    Disney CEO Bo Iger on political controversies ...\n",
       "11    Disney considered uying Twitter CEO Iger confi...\n",
       "12    Live on CNBC Walt Disney CEO Bo Iger joins CNB...\n",
       "13    With 23k hit Wall Street elieves GE Nike and D...\n",
       "14    Disney downgraded on concern aout rising costs...\n",
       "15    Disney is etting the tech company ehind Hulu a...\n",
       "16    Jefferies cuts Disney profit estimates on cost...\n",
       "17    Disney CEO Bo Iger on political controversies ...\n",
       "18    Disney considered uying Twitter CEO Bo Iger co...\n",
       "19    Disney CEO Bo Iger on political controversies ...\n",
       "20    Disney considered uying Twitter CEO Iger confi...\n",
       "21    Live on CNBC Walt Disney CEO Bo Iger joins CNB...\n",
       "22    Roert Guillaume the star of the TV sitcom Bens...\n",
       "23    Roert Guillaume the star of the TV sitcom Bens...\n",
       "24    Airn plans to uild apartments near Walt Disney...\n",
       "25    Airn plans to uild apartments near Walt Disney...\n",
       "26    2017s most innovative architecture looks like ...\n",
       "27    Wildfires in California created an orange glow...\n",
       "28    We should e outraged Disney CEO Bo Iger reflec...\n",
       "29    Disney to cut aout 200 jos at its TV networks ...\n",
       "30    Disney to cut aout 200 jos at its TV networks ...\n",
       "0     Congratulations to Roche Microsoft JNJNews Nes...\n",
       "1     Procter amp Gamle says activist investor Nelso...\n",
       "2     JimCramer What Procter amp Gamle can learn fro...\n",
       "3     Procter amp Gamle would e etter off with Nelso...\n",
       "4     Procter amp Gamle CEO David Taylor says invest...\n",
       "5     ProcterGamle says shareholders side with compa...\n",
       "6     BreakingNews Nelson Peltz not elected to to th...\n",
       "7        ProcterGamle oard vote comes down to the wire \n",
       "Name: text, dtype: object"
      ]
     },
     "execution_count": 8,
     "metadata": {},
     "output_type": "execute_result"
    }
   ],
   "source": [
    "WholeDf['text']"
   ]
  },
  {
   "cell_type": "code",
   "execution_count": 12,
   "metadata": {
    "collapsed": false
   },
   "outputs": [],
   "source": [
    "WholeDfNonNULL =WholeDf[WholeDf.Rating == WholeDf.Rating]"
   ]
  },
  {
   "cell_type": "code",
   "execution_count": 16,
   "metadata": {
    "collapsed": false
   },
   "outputs": [],
   "source": [
    "a = WholeDf.groupby(by=\"Rating\")"
   ]
  },
  {
   "cell_type": "code",
   "execution_count": 18,
   "metadata": {
    "collapsed": false
   },
   "outputs": [
    {
     "data": {
      "text/plain": [
       "<function pandas.core.groupby._GroupBy._make_wrapper.<locals>.wrapper>"
      ]
     },
     "execution_count": 18,
     "metadata": {},
     "output_type": "execute_result"
    }
   ],
   "source": [
    "a.all"
   ]
  },
  {
   "cell_type": "code",
   "execution_count": null,
   "metadata": {
    "collapsed": false
   },
   "outputs": [],
   "source": [
    "a.count()"
   ]
  },
  {
   "cell_type": "code",
   "execution_count": null,
   "metadata": {
    "collapsed": true
   },
   "outputs": [],
   "source": []
  }
 ],
 "metadata": {
  "anaconda-cloud": {},
  "kernelspec": {
   "display_name": "Python [conda root]",
   "language": "python",
   "name": "conda-root-py"
  },
  "language_info": {
   "codemirror_mode": {
    "name": "ipython",
    "version": 3
   },
   "file_extension": ".py",
   "mimetype": "text/x-python",
   "name": "python",
   "nbconvert_exporter": "python",
   "pygments_lexer": "ipython3",
   "version": "3.5.2"
  }
 },
 "nbformat": 4,
 "nbformat_minor": 1
}
