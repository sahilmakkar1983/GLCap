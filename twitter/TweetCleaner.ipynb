{
 "cells": [
  {
   "cell_type": "code",
   "execution_count": 28,
   "metadata": {
    "collapsed": true
   },
   "outputs": [],
   "source": [
    "import pandas as pd\n",
    "import os\n",
    "df = pd.ExcelFile(\"Tweet-Scale.xlsx\",encoding=\"utf-8\")"
   ]
  },
  {
   "cell_type": "code",
   "execution_count": 29,
   "metadata": {},
   "outputs": [
    {
     "data": {
      "text/plain": [
       "['All',\n",
       " 'AAPL',\n",
       " 'MSFT',\n",
       " 'GE',\n",
       " 'IBM',\n",
       " 'DIS',\n",
       " 'PG',\n",
       " 'AXP',\n",
       " 'BA',\n",
       " 'DD',\n",
       " 'JNJ',\n",
       " 'KO',\n",
       " 'MCD',\n",
       " 'MMM']"
      ]
     },
     "execution_count": 29,
     "metadata": {},
     "output_type": "execute_result"
    }
   ],
   "source": [
    "#os.getcwd()\n",
    "df.sheet_names # see all sheet names\n",
    "\n",
    "#df.parse(sheet_name)  # read a specific sheet to DataFrame"
   ]
  },
  {
   "cell_type": "code",
   "execution_count": 30,
   "metadata": {
    "collapsed": true
   },
   "outputs": [],
   "source": [
    "masterDf = df.parse(\"All\")\n",
    "\n",
    "SheetsToParse=['AAPL',\n",
    "               'MSFT',\n",
    "               'GE',\n",
    "               'IBM',\n",
    "               'DIS',\n",
    "               'PG',\n",
    "               'AXP',\n",
    "               'BA',\n",
    "               'DD',\n",
    "               'JNJ',\n",
    "               'KO',\n",
    "               'MCD',\n",
    "               'MMM']"
   ]
  },
  {
   "cell_type": "code",
   "execution_count": 31,
   "metadata": {
    "collapsed": true
   },
   "outputs": [],
   "source": [
    "for index,sheet_name in enumerate(SheetsToParse):\n",
    "    if index == 0:\n",
    "        WholeDf = df.parse(sheet_name)\n",
    "        WholeDf[\"STOCK\"]= sheet_name\n",
    "    else:\n",
    "        tempDf = df.parse(sheet_name)\n",
    "        tempDf[\"STOCK\"]= sheet_name\n",
    "        WholeDf= WholeDf.append(tempDf) #read a specific sheet to DataFrame\n",
    "        "
   ]
  },
  {
   "cell_type": "code",
   "execution_count": 40,
   "metadata": {},
   "outputs": [
    {
     "data": {
      "text/plain": [
       "(1, 323)"
      ]
     },
     "execution_count": 40,
     "metadata": {},
     "output_type": "execute_result"
    }
   ],
   "source": [
    "import numpy as np\n",
    "np.where((WholeDf['Rating'] == WholeDf['Rating']) == True)"
   ]
  },
  {
   "cell_type": "code",
   "execution_count": 63,
   "metadata": {
    "collapsed": true
   },
   "outputs": [],
   "source": [
    "import re\n",
    "def removeURLFromText(text):\n",
    "    #print(str(text))\n",
    "    text = re.sub(r'b\"*', '', str(text), flags=re.MULTILINE)\n",
    "    text = re.sub(r'https?:\\/\\/.*[\\r\\n]*', '', str(text), flags=re.MULTILINE)\n",
    "    text = re.sub(r'http?:\\/\\/.*[\\r\\n]*', '', str(text), flags=re.MULTILINE)\n",
    "    #text = re.sub(r'\"', '', str(text), flags=re.MULTILINE)\n",
    "    text = re.sub(r'^\"|\"$', '', text)\n",
    "    text = re.sub(r'\\'', '', text)\n",
    "    text = re.sub(r'[^a-zA-Z0-9 ]',r'',text)\n",
    "    return (text)"
   ]
  },
  {
   "cell_type": "code",
   "execution_count": 64,
   "metadata": {
    "collapsed": true
   },
   "outputs": [],
   "source": [
    "WholeDf['text'] = WholeDf['text'].apply(lambda x: removeURLFromText(x))"
   ]
  },
  {
   "cell_type": "code",
   "execution_count": 66,
   "metadata": {},
   "outputs": [
    {
     "data": {
      "text/plain": [
       "0     Apple cofounders Woz U aims to train tech work...\n",
       "1      Anemic iPhone 8 demand drags Apple shares lower \n",
       "2     Apple CEO Tim Cook says rumored AR glasses won...\n",
       "3     Apple CEO Tim Cook talks aout new Chicago flag...\n",
       "4     Apple CEO Tim Cook Learn to code its more impo...\n",
       "5     Apple cofounder Steve Wozniak iPhone X is the ...\n",
       "6     Apple cofounder Steve Wozniak iPhone X is the ...\n",
       "7     Apple cofounder Steve Wozniak Therexe2x80x99s ...\n",
       "8     Apple cofounders Woz U aims to train tech work...\n",
       "9     Apple COO Jeff Williams on tech and health car...\n",
       "10    Apple COO Jeff Williams on tech and health car...\n",
       "11    Apple design chief Jony Ive says he despises m...\n",
       "12    Apple has agreed to terms with Bain Capital in...\n",
       "13    Apple hit with trademark lawsuit over iPhone X...\n",
       "14    Apple reportedly reduced the accuracy of the i...\n",
       "15    Apple was the worlds 70th largest company a de...\n",
       "16    Apple was the worlds 70th largest company a de...\n",
       "17    Apple was the worlds 70th largest company a de...\n",
       "18    Apple will have at most 3 million iPhone Xs ne...\n",
       "19    Apples 1 illion data center in Ireland gets th...\n",
       "20    Apples exec in charge of ackend technology for...\n",
       "21    Apples iPhone X has an OLED screen a glass ack...\n",
       "22    Apples new campus is nearly finished and now A...\n",
       "23    Apples new campus is nearly finished and now A...\n",
       "24       Apples new iPhones come with upgraded cameras \n",
       "25    Apples RampD spending has more than douled ove...\n",
       "26    Apples recent weakness is just the pause that ...\n",
       "27    Apples suppliers in Asia sink as the pricey ne...\n",
       "28    Chinas Huawei could overtake Apple this year i...\n",
       "29    Cramer Dont let iPhone 8 order worries keep yo...\n",
       "                            ...                        \n",
       "9     Disney considered uying Twitter CEO Bo Iger co...\n",
       "10    Disney CEO Bo Iger on political controversies ...\n",
       "11    Disney considered uying Twitter CEO Iger confi...\n",
       "12    Live on CNBC Walt Disney CEO Bo Iger joins CNB...\n",
       "13    With 23k hit Wall Street elieves GE Nike and D...\n",
       "14    Disney downgraded on concern aout rising costs...\n",
       "15    Disney is etting the tech company ehind Hulu a...\n",
       "16    Jefferies cuts Disney profit estimates on cost...\n",
       "17    Disney CEO Bo Iger on political controversies ...\n",
       "18    Disney considered uying Twitter CEO Bo Iger co...\n",
       "19    Disney CEO Bo Iger on political controversies ...\n",
       "20    Disney considered uying Twitter CEO Iger confi...\n",
       "21    Live on CNBC Walt Disney CEO Bo Iger joins CNB...\n",
       "22    Roert Guillaume the star of the TV sitcom Bens...\n",
       "23    Roert Guillaume the star of the TV sitcom Bens...\n",
       "24    Airn plans to uild apartments near Walt Disney...\n",
       "25    Airn plans to uild apartments near Walt Disney...\n",
       "26    2017s most innovative architecture looks like ...\n",
       "27    Wildfires in California created an orange glow...\n",
       "28    We should e outraged Disney CEO Bo Iger reflec...\n",
       "29    Disney to cut aout 200 jos at its TV networks ...\n",
       "30    Disney to cut aout 200 jos at its TV networks ...\n",
       "0     Congratulations to Roche Microsoft JNJNews Nes...\n",
       "1     Procter amp Gamle says activist investor Nelso...\n",
       "2     JimCramer What Procter amp Gamle can learn fro...\n",
       "3     Procter amp Gamle would e etter off with Nelso...\n",
       "4     Procter amp Gamle CEO David Taylor says invest...\n",
       "5     ProcterGamle says shareholders side with compa...\n",
       "6     BreakingNews Nelson Peltz not elected to to th...\n",
       "7        ProcterGamle oard vote comes down to the wire \n",
       "Name: text, Length: 331, dtype: object"
      ]
     },
     "execution_count": 66,
     "metadata": {},
     "output_type": "execute_result"
    }
   ],
   "source": [
    "WholeDf['text']"
   ]
  },
  {
   "cell_type": "code",
   "execution_count": 71,
   "metadata": {},
   "outputs": [
    {
     "data": {
      "text/plain": [
       "0       4\n",
       "1       1\n",
       "2       2\n",
       "3       4\n",
       "4       3\n",
       "5       2\n",
       "6       2\n",
       "7       3\n",
       "8       4\n",
       "9       4\n",
       "10      4\n",
       "11      4\n",
       "12      4\n",
       "13      2\n",
       "14      2\n",
       "15      4\n",
       "16      4\n",
       "17      4\n",
       "18      2\n",
       "19      4\n",
       "20      1\n",
       "21      4\n",
       "22      4\n",
       "23      4\n",
       "24      4\n",
       "25      4\n",
       "26      2\n",
       "27      2\n",
       "28      2\n",
       "29      2\n",
       "     ... \n",
       "9       4\n",
       "10      4\n",
       "11      4\n",
       "12      3\n",
       "13      4\n",
       "14      2\n",
       "15      4\n",
       "16      2\n",
       "17      4\n",
       "18      4\n",
       "19      4\n",
       "20      4\n",
       "21      3\n",
       "22      3\n",
       "23      3\n",
       "24      3\n",
       "25      3\n",
       "26      3\n",
       "27      3\n",
       "28      3\n",
       "29      2\n",
       "30      2\n",
       "0     NaN\n",
       "1     NaN\n",
       "2     NaN\n",
       "3     NaN\n",
       "4     NaN\n",
       "5     NaN\n",
       "6     NaN\n",
       "7     NaN\n",
       "Name: Rating, Length: 331, dtype: object"
      ]
     },
     "execution_count": 71,
     "metadata": {},
     "output_type": "execute_result"
    }
   ],
   "source": [
    "WholeDf.Rating"
   ]
  },
  {
   "cell_type": "code",
   "execution_count": null,
   "metadata": {
    "collapsed": true
   },
   "outputs": [],
   "source": []
  }
 ],
 "metadata": {
  "anaconda-cloud": {},
  "kernelspec": {
   "display_name": "Python 2",
   "language": "python",
   "name": "python2"
  },
  "language_info": {
   "codemirror_mode": {
    "name": "ipython",
    "version": 2
   },
   "file_extension": ".py",
   "mimetype": "text/x-python",
   "name": "python",
   "nbconvert_exporter": "python",
   "pygments_lexer": "ipython2",
   "version": "2.7.13"
  }
 },
 "nbformat": 4,
 "nbformat_minor": 1
}
