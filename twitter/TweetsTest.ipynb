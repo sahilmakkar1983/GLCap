{
 "cells": [
  {
   "cell_type": "code",
   "execution_count": null,
   "metadata": {
    "collapsed": false
   },
   "outputs": [],
   "source": [
    "import tweepy\n",
    "from tweepy import Stream\n",
    "#from tweepy import oAuthHander\n",
    "from tweepy.streaming import StreamListener\n",
    "\n",
    "consumer_key = \"1xnMYOD5FkrwVKakAAaAaqOyD\"\n",
    "consumer_secret = \"hf1ADLyEPWll1rl43sGHdwl7eMWmK1LbzU6ajSxQKbwB86I15D\"\n",
    "access_key = \"732181352326434816-XpBDVRPACxdBtChDFqxVhH2bz5nRGm0\"\n",
    "access_secret = \"2tu6wcnVBTy6aZNtNjYrSmzzJv1pAvGI2YbTNgjXPc8rv\"\n",
    "\n",
    "class listener(StreamListener):\n",
    "    def on_data(self, data):\n",
    "        print (data)\n",
    "        return True\n",
    "    \n",
    "    def on_error(self, status):\n",
    "        print(status)\n",
    "        \n",
    "\n",
    "#auth = tweepy.oAuthHandler(consumer_key, consumer_secret)\n",
    "#auth.set_access_token(access_key, access_secret)\n",
    "\n",
    "auth = tweepy.OAuthHandler(consumer_key, consumer_secret)\n",
    "auth.set_access_token(access_key, access_secret)\n",
    "\n",
    "twitterStream = Stream(auth, listener())\n",
    "twitterStream.filter(track=[\"car\"])\n",
    "\n",
    "print(twitterStream)\n",
    "    "
   ]
  }
 ],
 "metadata": {
  "kernelspec": {
   "display_name": "Python 3",
   "language": "python",
   "name": "python3"
  },
  "language_info": {
   "codemirror_mode": {
    "name": "ipython",
    "version": 3
   },
   "file_extension": ".py",
   "mimetype": "text/x-python",
   "name": "python",
   "nbconvert_exporter": "python",
   "pygments_lexer": "ipython3",
   "version": "3.6.0"
  }
 },
 "nbformat": 4,
 "nbformat_minor": 2
}
