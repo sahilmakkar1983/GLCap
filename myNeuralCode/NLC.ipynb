{
 "cells": [
  {
   "cell_type": "code",
   "execution_count": 1,
   "metadata": {
    "collapsed": true
   },
   "outputs": [],
   "source": [
    "from __future__ import absolute_import\n",
    "from __future__ import division\n",
    "from __future__ import print_function"
   ]
  },
  {
   "cell_type": "code",
   "execution_count": 2,
   "metadata": {
    "collapsed": false
   },
   "outputs": [
    {
     "name": "stderr",
     "output_type": "stream",
     "text": [
      "Using TensorFlow backend.\n"
     ]
    },
    {
     "name": "stdout",
     "output_type": "stream",
     "text": [
      "You have TensorFlow version 1.3.0\n"
     ]
    }
   ],
   "source": [
    "import itertools\n",
    "import os\n",
    "\n",
    "%matplotlib inline\n",
    "import matplotlib.pyplot as plt\n",
    "import numpy as np\n",
    "import pandas as pd\n",
    "import tensorflow as tf\n",
    "\n",
    "from sklearn.preprocessing import LabelBinarizer, LabelEncoder\n",
    "from sklearn.metrics import confusion_matrix\n",
    "\n",
    "#from tensorflow import keras\n",
    "from keras.models import Sequential\n",
    "from keras.layers import Dense, Activation, Dropout,regularizers\n",
    "from keras.preprocessing import text, sequence\n",
    "from keras import utils\n",
    "\n",
    "# This code was tested with TensorFlow v1.4\n",
    "print(\"You have TensorFlow version\", tf.__version__)"
   ]
  },
  {
   "cell_type": "code",
   "execution_count": 3,
   "metadata": {
    "collapsed": false
   },
   "outputs": [],
   "source": [
    "data = pd.read_table(\"DataSet/QnA/train_1000.label\",encoding=\"ISO-8859-1\",header=-1)"
   ]
  },
  {
   "cell_type": "code",
   "execution_count": 4,
   "metadata": {
    "collapsed": false
   },
   "outputs": [],
   "source": [
    "def dataProcessor(text):\n",
    "    text1 = text.split(\" \")\n",
    "    return ([text1[0],\" \".join(text1[1:])])\n",
    "\n",
    "def dataAppenderMultipleFiles(dataList):\n",
    "    list1 = []\n",
    "    list2 = []\n",
    "    #llist = []\n",
    "    for i in data[0]:\n",
    "        l1,l2 = dataProcessor(i)\n",
    "        #print(l1)\n",
    "        #print(l2)\n",
    "        list1+=[l1]\n",
    "        list2+=[l2]\n",
    "    #print(list1)\n",
    "    return (list1,list2)\n",
    "    "
   ]
  },
  {
   "cell_type": "code",
   "execution_count": 5,
   "metadata": {
    "collapsed": false
   },
   "outputs": [],
   "source": [
    "#dataPrep = data[0].apply(lambda x: dataProcessor(x))\n",
    "\n",
    "list1 = []\n",
    "list2 = []\n",
    "llist = []\n",
    "for i in data[0]:\n",
    "    l1,l2 = dataProcessor(i)\n",
    "    #print(l1)\n",
    "    list1+=[l1]\n",
    "    list2+=[l2]\n",
    "#print(list1, list)    \n",
    "llist+= [list1,list2]\n",
    "#print(llist)"
   ]
  },
  {
   "cell_type": "code",
   "execution_count": 6,
   "metadata": {
    "collapsed": false
   },
   "outputs": [],
   "source": [
    "#dataPrep.reshape(2,len(dataPrep))\n",
    "\n",
    "llist = [[],[]]\n",
    "for i in os.listdir(\"DataSet/QnA/\"):\n",
    "    #print(i)\n",
    "    if i.find(\"train\") != -1:\n",
    "        fullPath = \"\".join([\"DataSet/QnA/\",i])\n",
    "        #print(fullPath)\n",
    "        data = pd.read_table(\"\".join([\"DataSet/QnA/\",i]),encoding=\"ISO-8859-1\",header=-1)\n",
    "        l1,l2= dataAppenderMultipleFiles(data[0])\n",
    "        llist[0]+=l1\n",
    "        llist[1]+=l2"
   ]
  },
  {
   "cell_type": "code",
   "execution_count": null,
   "metadata": {
    "collapsed": true
   },
   "outputs": [],
   "source": []
  },
  {
   "cell_type": "code",
   "execution_count": 7,
   "metadata": {
    "collapsed": false
   },
   "outputs": [
    {
     "data": {
      "text/plain": [
       "2"
      ]
     },
     "execution_count": 7,
     "metadata": {},
     "output_type": "execute_result"
    }
   ],
   "source": [
    "len(llist)\n",
    "#a = [[1,2],[3,4],[5,6]]"
   ]
  },
  {
   "cell_type": "code",
   "execution_count": 8,
   "metadata": {
    "collapsed": false
   },
   "outputs": [],
   "source": [
    "'''\n",
    "newData = pd.DataFrame(columns=[\"target\",\"Question\"])\n",
    "newData[\"target\"] = llist[0]\n",
    "newData[\"Question\"] = llist[1]\n",
    "newData.append(llist)\n",
    "'''\n",
    "newData = pd.DataFrame(llist[0],columns=[\"target\"])\n",
    "newData[\"Question\"] = llist[1]"
   ]
  },
  {
   "cell_type": "code",
   "execution_count": 9,
   "metadata": {
    "collapsed": false
   },
   "outputs": [
    {
     "data": {
      "text/plain": [
       "HUM:ind           2691\n",
       "LOC:other         1307\n",
       "DESC:def          1221\n",
       "NUM:count          985\n",
       "DESC:desc          774\n",
       "DESC:manner        766\n",
       "NUM:date           650\n",
       "ENTY:other         628\n",
       "ENTY:cremat        595\n",
       "DESC:reason        543\n",
       "HUM:gr             529\n",
       "LOC:country        425\n",
       "LOC:city           376\n",
       "ENTY:animal        365\n",
       "ENTY:dismed        291\n",
       "ENTY:termeq        271\n",
       "ENTY:food          266\n",
       "LOC:state          201\n",
       "NUM:period         197\n",
       "ABBR:exp           195\n",
       "NUM:money          183\n",
       "ENTY:event         173\n",
       "ENTY:sport         165\n",
       "NUM:other          154\n",
       "HUM:desc           137\n",
       "ENTY:product       130\n",
       "ENTY:substance     124\n",
       "ENTY:color         119\n",
       "ENTY:techmeth      111\n",
       "NUM:dist            86\n",
       "NUM:perc            82\n",
       "ENTY:word           71\n",
       "ENTY:veh            68\n",
       "LOC:mount           67\n",
       "HUM:title           67\n",
       "ENTY:body           54\n",
       "ABBR:abb            46\n",
       "ENTY:lang           45\n",
       "ENTY:plant          38\n",
       "ENTY:instru         37\n",
       "NUM:speed           36\n",
       "NUM:volsize         32\n",
       "ENTY:symbol         31\n",
       "ENTY:letter         30\n",
       "NUM:weight          23\n",
       "NUM:code            22\n",
       "INFO:train          16\n",
       "NUM:ord             15\n",
       "NUM:temp            15\n",
       "ENTY:religion        9\n",
       "ENTY:currency        6\n",
       "Name: target, dtype: int64"
      ]
     },
     "execution_count": 9,
     "metadata": {},
     "output_type": "execute_result"
    }
   ],
   "source": [
    "newData['target'].value_counts()"
   ]
  },
  {
   "cell_type": "code",
   "execution_count": 10,
   "metadata": {
    "collapsed": false
   },
   "outputs": [
    {
     "data": {
      "text/html": [
       "<div>\n",
       "<table border=\"1\" class=\"dataframe\">\n",
       "  <thead>\n",
       "    <tr style=\"text-align: right;\">\n",
       "      <th></th>\n",
       "      <th>target</th>\n",
       "      <th>Question</th>\n",
       "    </tr>\n",
       "  </thead>\n",
       "  <tbody>\n",
       "    <tr>\n",
       "      <th>0</th>\n",
       "      <td>DESC:manner</td>\n",
       "      <td>How did serfdom develop in and then leave Russ...</td>\n",
       "    </tr>\n",
       "    <tr>\n",
       "      <th>1</th>\n",
       "      <td>ENTY:cremat</td>\n",
       "      <td>What films featured the character Popeye Doyle ?</td>\n",
       "    </tr>\n",
       "    <tr>\n",
       "      <th>2</th>\n",
       "      <td>DESC:manner</td>\n",
       "      <td>How can I find a list of celebrities ' real na...</td>\n",
       "    </tr>\n",
       "    <tr>\n",
       "      <th>3</th>\n",
       "      <td>ENTY:animal</td>\n",
       "      <td>What fowl grabs the spotlight after the Chines...</td>\n",
       "    </tr>\n",
       "    <tr>\n",
       "      <th>4</th>\n",
       "      <td>ABBR:exp</td>\n",
       "      <td>What is the full form of .com ?</td>\n",
       "    </tr>\n",
       "    <tr>\n",
       "      <th>5</th>\n",
       "      <td>HUM:ind</td>\n",
       "      <td>What contemptible scoundrel stole the cork fro...</td>\n",
       "    </tr>\n",
       "    <tr>\n",
       "      <th>6</th>\n",
       "      <td>HUM:gr</td>\n",
       "      <td>What team did baseball 's St. Louis Browns bec...</td>\n",
       "    </tr>\n",
       "    <tr>\n",
       "      <th>7</th>\n",
       "      <td>HUM:title</td>\n",
       "      <td>What is the oldest profession ?</td>\n",
       "    </tr>\n",
       "    <tr>\n",
       "      <th>8</th>\n",
       "      <td>DESC:def</td>\n",
       "      <td>What are liver enzymes ?</td>\n",
       "    </tr>\n",
       "    <tr>\n",
       "      <th>9</th>\n",
       "      <td>HUM:ind</td>\n",
       "      <td>Name the scar-faced bounty hunter of The Old W...</td>\n",
       "    </tr>\n",
       "  </tbody>\n",
       "</table>\n",
       "</div>"
      ],
      "text/plain": [
       "        target                                           Question\n",
       "0  DESC:manner  How did serfdom develop in and then leave Russ...\n",
       "1  ENTY:cremat   What films featured the character Popeye Doyle ?\n",
       "2  DESC:manner  How can I find a list of celebrities ' real na...\n",
       "3  ENTY:animal  What fowl grabs the spotlight after the Chines...\n",
       "4     ABBR:exp                    What is the full form of .com ?\n",
       "5      HUM:ind  What contemptible scoundrel stole the cork fro...\n",
       "6       HUM:gr  What team did baseball 's St. Louis Browns bec...\n",
       "7    HUM:title                    What is the oldest profession ?\n",
       "8     DESC:def                           What are liver enzymes ?\n",
       "9      HUM:ind  Name the scar-faced bounty hunter of The Old W..."
      ]
     },
     "execution_count": 10,
     "metadata": {},
     "output_type": "execute_result"
    }
   ],
   "source": [
    "newData.head(10)"
   ]
  },
  {
   "cell_type": "code",
   "execution_count": 11,
   "metadata": {
    "collapsed": false
   },
   "outputs": [
    {
     "name": "stdout",
     "output_type": "stream",
     "text": [
      "Train size: 12374\n",
      "Test size: 3094\n"
     ]
    }
   ],
   "source": [
    "# Split data into train and test\n",
    "train_size = int(len(newData) * .8)\n",
    "print(\"Train size: %d\" % train_size)\n",
    "print(\"Test size: %d\" % (len(newData) - train_size))"
   ]
  },
  {
   "cell_type": "code",
   "execution_count": 12,
   "metadata": {
    "collapsed": false
   },
   "outputs": [],
   "source": [
    "train_posts = newData['Question'][:train_size]\n",
    "train_tags = newData['target'][:train_size]\n",
    "\n",
    "test_posts = newData['Question'][train_size:]\n",
    "test_tags = newData['target'][train_size:]"
   ]
  },
  {
   "cell_type": "code",
   "execution_count": 14,
   "metadata": {
    "collapsed": false
   },
   "outputs": [],
   "source": [
    "#dataPrep[1]"
   ]
  },
  {
   "cell_type": "code",
   "execution_count": 15,
   "metadata": {
    "collapsed": true
   },
   "outputs": [],
   "source": [
    "max_words = 50000\n",
    "#tokenize = text.Tokenizer(num_words=max_words, char_level=False)\n",
    "tokenize = text.Tokenizer(char_level=False)"
   ]
  },
  {
   "cell_type": "code",
   "execution_count": 16,
   "metadata": {
    "collapsed": true
   },
   "outputs": [],
   "source": [
    "tokenize.fit_on_texts(train_posts) # only fit on train\n",
    "x_train = tokenize.texts_to_matrix(train_posts)\n",
    "x_test = tokenize.texts_to_matrix(test_posts)"
   ]
  },
  {
   "cell_type": "code",
   "execution_count": 17,
   "metadata": {
    "collapsed": true
   },
   "outputs": [],
   "source": [
    "# Use sklearn utility to convert label strings to numbered index\n",
    "encoder = LabelEncoder()\n",
    "encoder.fit(train_tags)\n",
    "y_train = encoder.transform(train_tags)\n",
    "y_test = encoder.transform(test_tags)"
   ]
  },
  {
   "cell_type": "code",
   "execution_count": 18,
   "metadata": {
    "collapsed": false
   },
   "outputs": [],
   "source": [
    "# Converts the labels to a one-hot representation\n",
    "num_classes = np.max(y_train) + 1\n",
    "y_train = utils.to_categorical(y_train, num_classes)\n",
    "y_test = utils.to_categorical(y_test, num_classes)\n",
    "max_words = x_train.shape[1]"
   ]
  },
  {
   "cell_type": "code",
   "execution_count": 19,
   "metadata": {
    "collapsed": false
   },
   "outputs": [],
   "source": [
    "#y_train[0]"
   ]
  },
  {
   "cell_type": "code",
   "execution_count": 20,
   "metadata": {
    "collapsed": false
   },
   "outputs": [
    {
     "name": "stdout",
     "output_type": "stream",
     "text": [
      "x_train shape: (12374, 8381)\n",
      "x_test shape: (3094, 8381)\n",
      "y_train shape: (12374, 51)\n",
      "y_test shape: (3094, 51)\n"
     ]
    }
   ],
   "source": [
    "# Inspect the dimenstions of our training and test data (this is helpful to debug)\n",
    "print('x_train shape:', x_train.shape)\n",
    "print('x_test shape:', x_test.shape)\n",
    "print('y_train shape:', y_train.shape)\n",
    "print('y_test shape:', y_test.shape)"
   ]
  },
  {
   "cell_type": "code",
   "execution_count": 21,
   "metadata": {
    "collapsed": true
   },
   "outputs": [],
   "source": [
    "# This model trains very quickly and 2 epochs are already more than enough\n",
    "# Training for more epochs will likely lead to overfitting on this dataset\n",
    "# You can try tweaking these hyperparamaters when using this model with your own data\n",
    "batch_size = 32\n",
    "epochs = 30"
   ]
  },
  {
   "cell_type": "code",
   "execution_count": 22,
   "metadata": {
    "collapsed": false
   },
   "outputs": [],
   "source": [
    "# Build the model\n",
    "model = Sequential()\n",
    "model.add(Dense(512, input_shape=(max_words,),kernel_regularizer=regularizers.l2(0.001),\n",
    "                activity_regularizer=regularizers.l1(0.001)))\n",
    "model.add(Activation('relu'))\n",
    "#model.add(Dropout(0.2))\n",
    "model.add(Dense(256, input_shape=(max_words,),kernel_regularizer=regularizers.l2(0.001),\n",
    "                activity_regularizer=regularizers.l1(0.001)))\n",
    "model.add(Activation('relu'))\n",
    "#model.add(Dropout(0.2))\n",
    "model.add(Dense(num_classes))\n",
    "model.add(Activation('softmax'))\n",
    "\n",
    "model.compile(loss='categorical_crossentropy',\n",
    "              optimizer='adam',\n",
    "              metrics=['accuracy'])"
   ]
  },
  {
   "cell_type": "code",
   "execution_count": 23,
   "metadata": {
    "collapsed": false
   },
   "outputs": [
    {
     "name": "stdout",
     "output_type": "stream",
     "text": [
      "Train on 11136 samples, validate on 1238 samples\n",
      "Epoch 1/30\n",
      "11136/11136 [==============================] - 30s - loss: 3.0929 - acc: 0.5892 - val_loss: 2.5859 - val_acc: 0.6777\n",
      "Epoch 2/30\n",
      "11136/11136 [==============================] - 4s - loss: 1.8427 - acc: 0.8548 - val_loss: 2.2303 - val_acc: 0.7407\n",
      "Epoch 3/30\n",
      "11136/11136 [==============================] - 4s - loss: 1.4351 - acc: 0.9109 - val_loss: 2.0600 - val_acc: 0.7415\n",
      "Epoch 4/30\n",
      "11136/11136 [==============================] - 4s - loss: 1.2208 - acc: 0.9436 - val_loss: 1.9130 - val_acc: 0.7569\n",
      "Epoch 5/30\n",
      "11136/11136 [==============================] - 4s - loss: 1.0653 - acc: 0.9660 - val_loss: 1.8463 - val_acc: 0.7496\n",
      "Epoch 6/30\n",
      "11136/11136 [==============================] - 4s - loss: 0.9580 - acc: 0.9784 - val_loss: 1.7475 - val_acc: 0.7561\n",
      "Epoch 7/30\n",
      "11136/11136 [==============================] - 4s - loss: 0.8724 - acc: 0.9866 - val_loss: 1.6986 - val_acc: 0.7553\n",
      "Epoch 8/30\n",
      "11136/11136 [==============================] - 4s - loss: 0.8077 - acc: 0.9922 - val_loss: 1.6408 - val_acc: 0.7585\n",
      "Epoch 9/30\n",
      "11136/11136 [==============================] - 4s - loss: 0.7631 - acc: 0.9934 - val_loss: 1.6056 - val_acc: 0.7544\n",
      "Epoch 10/30\n",
      "11136/11136 [==============================] - 4s - loss: 0.7185 - acc: 0.9952 - val_loss: 1.5622 - val_acc: 0.7633\n",
      "Epoch 11/30\n",
      "11136/11136 [==============================] - 4s - loss: 0.6850 - acc: 0.9955 - val_loss: 1.5592 - val_acc: 0.7593\n",
      "Epoch 12/30\n",
      "11136/11136 [==============================] - 4s - loss: 0.6556 - acc: 0.9967 - val_loss: 1.5082 - val_acc: 0.7641\n",
      "Epoch 13/30\n",
      "11136/11136 [==============================] - 4s - loss: 0.6282 - acc: 0.9973 - val_loss: 1.4910 - val_acc: 0.7666\n",
      "Epoch 14/30\n",
      "11136/11136 [==============================] - 4s - loss: 0.6108 - acc: 0.9976 - val_loss: 1.4901 - val_acc: 0.7641\n",
      "Epoch 15/30\n",
      "11136/11136 [==============================] - 4s - loss: 0.5902 - acc: 0.9975 - val_loss: 1.4640 - val_acc: 0.7625\n",
      "Epoch 16/30\n",
      "11136/11136 [==============================] - 4s - loss: 0.5679 - acc: 0.9980 - val_loss: 1.4525 - val_acc: 0.7609\n",
      "Epoch 17/30\n",
      "11136/11136 [==============================] - 4s - loss: 0.5538 - acc: 0.9981 - val_loss: 1.4329 - val_acc: 0.7658\n",
      "Epoch 18/30\n",
      "11136/11136 [==============================] - 4s - loss: 0.5409 - acc: 0.9978 - val_loss: 1.4136 - val_acc: 0.7593\n",
      "Epoch 19/30\n",
      "11136/11136 [==============================] - 4s - loss: 0.5505 - acc: 0.9975 - val_loss: 1.4013 - val_acc: 0.7609\n",
      "Epoch 20/30\n",
      "11136/11136 [==============================] - 4s - loss: 0.5122 - acc: 0.9981 - val_loss: 1.3987 - val_acc: 0.7553\n",
      "Epoch 21/30\n",
      "11136/11136 [==============================] - 4s - loss: 0.5012 - acc: 0.9981 - val_loss: 1.3883 - val_acc: 0.7553\n",
      "Epoch 22/30\n",
      "11136/11136 [==============================] - 4s - loss: 0.4918 - acc: 0.9986 - val_loss: 1.3735 - val_acc: 0.7569\n",
      "Epoch 23/30\n",
      "11136/11136 [==============================] - 4s - loss: 0.4801 - acc: 0.9987 - val_loss: 1.3709 - val_acc: 0.7577\n",
      "Epoch 24/30\n",
      "11136/11136 [==============================] - 4s - loss: 0.4721 - acc: 0.9987 - val_loss: 1.3887 - val_acc: 0.7569\n",
      "Epoch 25/30\n",
      "11136/11136 [==============================] - 4s - loss: 0.5148 - acc: 0.9974 - val_loss: 1.4054 - val_acc: 0.7553\n",
      "Epoch 26/30\n",
      "11136/11136 [==============================] - 4s - loss: 0.5002 - acc: 0.9972 - val_loss: 1.4427 - val_acc: 0.7544\n",
      "Epoch 27/30\n",
      "11136/11136 [==============================] - 4s - loss: 0.4567 - acc: 0.9990 - val_loss: 1.3329 - val_acc: 0.7625\n",
      "Epoch 28/30\n",
      "11136/11136 [==============================] - 4s - loss: 0.4333 - acc: 0.9988 - val_loss: 1.3288 - val_acc: 0.7641\n",
      "Epoch 29/30\n",
      "11136/11136 [==============================] - 4s - loss: 0.4289 - acc: 0.9988 - val_loss: 1.3234 - val_acc: 0.7561\n",
      "Epoch 30/30\n",
      "11136/11136 [==============================] - 4s - loss: 0.4247 - acc: 0.9988 - val_loss: 1.3401 - val_acc: 0.7553\n"
     ]
    }
   ],
   "source": [
    "# model.fit trains the model\n",
    "# The validation_split param tells Keras what % of our training data should be used in the validation set\n",
    "# You can see the validation loss decreasing slowly when you run this\n",
    "# Because val_loss is no longer decreasing we stop training to prevent overfitting\n",
    "history = model.fit(x_train, y_train,\n",
    "                    batch_size=batch_size,\n",
    "                    epochs=epochs,\n",
    "                    verbose=1,\n",
    "                    validation_split=0.1)"
   ]
  },
  {
   "cell_type": "code",
   "execution_count": 24,
   "metadata": {
    "collapsed": false
   },
   "outputs": [
    {
     "name": "stdout",
     "output_type": "stream",
     "text": [
      "2880/3094 [==========================>...] - ETA: 0sTest score: 0.460519858075\n",
      "Test accuracy: 0.990303813833\n"
     ]
    }
   ],
   "source": [
    "# Evaluate the accuracy of our trained model\n",
    "score = model.evaluate(x_test, y_test,\n",
    "                       batch_size=batch_size, verbose=1)\n",
    "print('Test score:', score[0])\n",
    "print('Test accuracy:', score[1])"
   ]
  },
  {
   "cell_type": "code",
   "execution_count": 25,
   "metadata": {
    "collapsed": false
   },
   "outputs": [
    {
     "name": "stdout",
     "output_type": "stream",
     "text": [
      "2848/3094 [==========================>...] - ETA: 0s"
     ]
    },
    {
     "data": {
      "text/plain": [
       "array([ 3, 30, 46, ...,  3, 35, 30])"
      ]
     },
     "execution_count": 25,
     "metadata": {},
     "output_type": "execute_result"
    }
   ],
   "source": [
    "model.predict_classes(x_test)"
   ]
  },
  {
   "cell_type": "code",
   "execution_count": 26,
   "metadata": {
    "collapsed": false
   },
   "outputs": [
    {
     "data": {
      "text/plain": [
       "array([[ 0.,  0.,  0., ...,  0.,  0.,  0.],\n",
       "       [ 0.,  0.,  0., ...,  0.,  0.,  0.],\n",
       "       [ 0.,  0.,  0., ...,  0.,  0.,  0.],\n",
       "       ..., \n",
       "       [ 0.,  0.,  0., ...,  0.,  0.,  0.],\n",
       "       [ 0.,  0.,  0., ...,  0.,  0.,  0.],\n",
       "       [ 0.,  0.,  0., ...,  0.,  0.,  0.]])"
      ]
     },
     "execution_count": 26,
     "metadata": {},
     "output_type": "execute_result"
    }
   ],
   "source": [
    "y_test"
   ]
  },
  {
   "cell_type": "code",
   "execution_count": 29,
   "metadata": {
    "collapsed": false
   },
   "outputs": [
    {
     "name": "stdout",
     "output_type": "stream",
     "text": [
      "QUESION ASKED IS:  What is the origin of thank you notes ? ...\n",
      "Actual label:DESC:desc\n",
      "Predicted label: DESC:desc\n",
      "\n",
      "QUESION ASKED IS:  Who used AuH2O as an election slogan ? ...\n",
      "Actual label:HUM:ind\n",
      "Predicted label: HUM:ind\n",
      "\n",
      "QUESION ASKED IS:  How long do you have to pay back debt after claimi ...\n",
      "Actual label:NUM:period\n",
      "Predicted label: NUM:period\n",
      "\n",
      "QUESION ASKED IS:  What Shakespearean play featured Shylock ? ...\n",
      "Actual label:ENTY:cremat\n",
      "Predicted label: ENTY:cremat\n",
      "\n",
      "QUESION ASKED IS:  Which magazine is `` fine entertainment for men '' ...\n",
      "Actual label:ENTY:cremat\n",
      "Predicted label: ENTY:cremat\n",
      "\n",
      "QUESION ASKED IS:  Why do roosters sing at five o 'clock in the morni ...\n",
      "Actual label:DESC:reason\n",
      "Predicted label: DESC:reason\n",
      "\n",
      "QUESION ASKED IS:  What features of the African elephant are larger t ...\n",
      "Actual label:DESC:desc\n",
      "Predicted label: ENTY:animal\n",
      "\n",
      "QUESION ASKED IS:  What ocean surrounds the Maldive Islands ? ...\n",
      "Actual label:LOC:other\n",
      "Predicted label: LOC:other\n",
      "\n",
      "QUESION ASKED IS:  What South American country won its first World Cu ...\n",
      "Actual label:LOC:country\n",
      "Predicted label: LOC:country\n",
      "\n",
      "QUESION ASKED IS:  How many cullions does a male have ? ...\n",
      "Actual label:NUM:count\n",
      "Predicted label: NUM:count\n",
      "\n"
     ]
    }
   ],
   "source": [
    "# Here's how to generate a prediction on individual examples\n",
    "\n",
    "def textToTokens(text):\n",
    "    global tokenize\n",
    "    tokenized = tokenize.texts_to_matrix(text)\n",
    "    return (tokenized)\n",
    "    \n",
    "\n",
    "def getLabel(prediction):\n",
    "    global encoder\n",
    "    text_labels = encoder.classes_\n",
    "    predicted_label = text_labels[np.argmax(prediction)]\n",
    "    return(predicted_label)\n",
    "\n",
    "for i in range(10):\n",
    "    prediction = model.predict(np.array([x_test[i]]))\n",
    "    predicted_label = getLabel(prediction)\n",
    "    print(\"QUESION ASKED IS: \", test_posts.iloc[i][:50], \"...\")\n",
    "    print('Actual label:' + test_tags.iloc[i])\n",
    "    print(\"Predicted label: \" + predicted_label + \"\\n\")"
   ]
  },
  {
   "cell_type": "code",
   "execution_count": 32,
   "metadata": {
    "collapsed": false
   },
   "outputs": [
    {
     "data": {
      "text/plain": [
       "'LOC:other'"
      ]
     },
     "execution_count": 32,
     "metadata": {},
     "output_type": "execute_result"
    }
   ],
   "source": [
    "tokens = textToTokens(\"Why is himalayan queen running late?\")\n",
    "prediction = model.predict(tokens)\n",
    "getLabel(prediction)"
   ]
  },
  {
   "cell_type": "code",
   "execution_count": null,
   "metadata": {
    "collapsed": true
   },
   "outputs": [],
   "source": []
  }
 ],
 "metadata": {
  "anaconda-cloud": {},
  "kernelspec": {
   "display_name": "Python [conda root]",
   "language": "python",
   "name": "conda-root-py"
  },
  "language_info": {
   "codemirror_mode": {
    "name": "ipython",
    "version": 3
   },
   "file_extension": ".py",
   "mimetype": "text/x-python",
   "name": "python",
   "nbconvert_exporter": "python",
   "pygments_lexer": "ipython3",
   "version": "3.5.2"
  }
 },
 "nbformat": 4,
 "nbformat_minor": 1
}
