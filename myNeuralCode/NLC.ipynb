{
 "cells": [
  {
   "cell_type": "code",
   "execution_count": 1,
   "metadata": {
    "collapsed": true
   },
   "outputs": [],
   "source": [
    "from __future__ import absolute_import\n",
    "from __future__ import division\n",
    "from __future__ import print_function"
   ]
  },
  {
   "cell_type": "code",
   "execution_count": 172,
   "metadata": {
    "collapsed": false
   },
   "outputs": [
    {
     "name": "stdout",
     "output_type": "stream",
     "text": [
      "You have TensorFlow version 1.3.0\n"
     ]
    }
   ],
   "source": [
    "import itertools\n",
    "import os\n",
    "\n",
    "%matplotlib inline\n",
    "import matplotlib.pyplot as plt\n",
    "import numpy as np\n",
    "import pandas as pd\n",
    "import tensorflow as tf\n",
    "\n",
    "from sklearn.preprocessing import LabelBinarizer, LabelEncoder\n",
    "from sklearn.metrics import confusion_matrix\n",
    "\n",
    "#from tensorflow import keras\n",
    "from keras.models import Sequential\n",
    "from keras.layers import Dense, Activation, Dropout,regularizers\n",
    "from keras.preprocessing import text, sequence\n",
    "from keras import utils\n",
    "\n",
    "# This code was tested with TensorFlow v1.4\n",
    "print(\"You have TensorFlow version\", tf.__version__)"
   ]
  },
  {
   "cell_type": "code",
   "execution_count": 173,
   "metadata": {
    "collapsed": false
   },
   "outputs": [],
   "source": [
    "data = pd.read_table(\"DataSet/QnA/train_1000.label\",encoding=\"ISO-8859-1\",header=-1)"
   ]
  },
  {
   "cell_type": "code",
   "execution_count": 174,
   "metadata": {
    "collapsed": false
   },
   "outputs": [],
   "source": [
    "def dataProcessor(text):\n",
    "    text1 = text.split(\" \")\n",
    "    return ([text1[0],\" \".join(text1[1:])])\n",
    "\n",
    "def dataAppenderMultipleFiles(dataList):\n",
    "    list1 = []\n",
    "    list2 = []\n",
    "    #llist = []\n",
    "    for i in data[0]:\n",
    "        l1,l2 = dataProcessor(i)\n",
    "        #print(l1)\n",
    "        #print(l2)\n",
    "        list1+=[l1]\n",
    "        list2+=[l2]\n",
    "    #print(list1)\n",
    "    return (list1,list2)\n",
    "    "
   ]
  },
  {
   "cell_type": "code",
   "execution_count": 175,
   "metadata": {
    "collapsed": false
   },
   "outputs": [],
   "source": [
    "#dataPrep = data[0].apply(lambda x: dataProcessor(x))\n",
    "\n",
    "list1 = []\n",
    "list2 = []\n",
    "llist = []\n",
    "for i in data[0]:\n",
    "    l1,l2 = dataProcessor(i)\n",
    "    #print(l1)\n",
    "    list1+=[l1]\n",
    "    list2+=[l2]\n",
    "#print(list1, list)    \n",
    "llist+= [list1,list2]\n",
    "#print(llist)"
   ]
  },
  {
   "cell_type": "code",
   "execution_count": 176,
   "metadata": {
    "collapsed": false
   },
   "outputs": [],
   "source": [
    "#dataPrep.reshape(2,len(dataPrep))\n",
    "\n",
    "llist = [[],[]]\n",
    "for i in os.listdir(\"DataSet/QnA/\"):\n",
    "    #print(i)\n",
    "    if i.find(\"train\") != -1:\n",
    "        fullPath = \"\".join([\"DataSet/QnA/\",i])\n",
    "        #print(fullPath)\n",
    "        data = pd.read_table(\"\".join([\"DataSet/QnA/\",i]),encoding=\"ISO-8859-1\",header=-1)\n",
    "        l1,l2= dataAppenderMultipleFiles(data[0])\n",
    "        llist[0]+=l1\n",
    "        llist[1]+=l2"
   ]
  },
  {
   "cell_type": "code",
   "execution_count": 177,
   "metadata": {
    "collapsed": false
   },
   "outputs": [
    {
     "data": {
      "text/plain": [
       "2"
      ]
     },
     "execution_count": 177,
     "metadata": {},
     "output_type": "execute_result"
    }
   ],
   "source": [
    "len(llist)\n",
    "#a = [[1,2],[3,4],[5,6]]"
   ]
  },
  {
   "cell_type": "code",
   "execution_count": 257,
   "metadata": {
    "collapsed": false
   },
   "outputs": [],
   "source": [
    "'''\n",
    "newData = pd.DataFrame(columns=[\"target\",\"Question\"])\n",
    "newData[\"target\"] = llist[0]\n",
    "newData[\"Question\"] = llist[1]\n",
    "newData.append(llist)\n",
    "'''\n",
    "newData = pd.DataFrame(llist[0],columns=[\"target\"])\n",
    "newData[\"Question\"] = llist[1]"
   ]
  },
  {
   "cell_type": "code",
   "execution_count": 258,
   "metadata": {
    "collapsed": false
   },
   "outputs": [
    {
     "data": {
      "text/plain": [
       "HUM:ind           2691\n",
       "LOC:other         1307\n",
       "DESC:def          1221\n",
       "NUM:count          985\n",
       "DESC:desc          774\n",
       "DESC:manner        766\n",
       "NUM:date           650\n",
       "ENTY:other         628\n",
       "ENTY:cremat        595\n",
       "DESC:reason        543\n",
       "HUM:gr             529\n",
       "LOC:country        425\n",
       "LOC:city           376\n",
       "ENTY:animal        365\n",
       "ENTY:dismed        291\n",
       "ENTY:termeq        271\n",
       "ENTY:food          266\n",
       "LOC:state          201\n",
       "NUM:period         197\n",
       "ABBR:exp           195\n",
       "NUM:money          183\n",
       "ENTY:event         173\n",
       "ENTY:sport         165\n",
       "NUM:other          154\n",
       "HUM:desc           137\n",
       "ENTY:product       130\n",
       "ENTY:substance     124\n",
       "ENTY:color         119\n",
       "ENTY:techmeth      111\n",
       "NUM:dist            86\n",
       "NUM:perc            82\n",
       "ENTY:word           71\n",
       "ENTY:veh            68\n",
       "LOC:mount           67\n",
       "HUM:title           67\n",
       "ENTY:body           54\n",
       "ABBR:abb            46\n",
       "ENTY:lang           45\n",
       "ENTY:plant          38\n",
       "ENTY:instru         37\n",
       "NUM:speed           36\n",
       "NUM:volsize         32\n",
       "ENTY:symbol         31\n",
       "ENTY:letter         30\n",
       "NUM:weight          23\n",
       "NUM:code            22\n",
       "NUM:ord             15\n",
       "NUM:temp            15\n",
       "ENTY:religion        9\n",
       "ENTY:currency        6\n",
       "Name: target, dtype: int64"
      ]
     },
     "execution_count": 258,
     "metadata": {},
     "output_type": "execute_result"
    }
   ],
   "source": [
    "newData['target'].value_counts()"
   ]
  },
  {
   "cell_type": "code",
   "execution_count": 259,
   "metadata": {
    "collapsed": false
   },
   "outputs": [
    {
     "name": "stdout",
     "output_type": "stream",
     "text": [
      "Train size: 12361\n",
      "Test size: 3091\n"
     ]
    }
   ],
   "source": [
    "# Split data into train and test\n",
    "train_size = int(len(newData) * .8)\n",
    "print(\"Train size: %d\" % train_size)\n",
    "print(\"Test size: %d\" % (len(newData) - train_size))"
   ]
  },
  {
   "cell_type": "code",
   "execution_count": 260,
   "metadata": {
    "collapsed": false
   },
   "outputs": [],
   "source": [
    "train_posts = newData['Question'][:train_size]\n",
    "train_tags = newData['target'][:train_size]\n",
    "\n",
    "test_posts = newData['Question'][train_size:]\n",
    "test_tags = newData['target'][train_size:]"
   ]
  },
  {
   "cell_type": "code",
   "execution_count": 261,
   "metadata": {
    "collapsed": false
   },
   "outputs": [
    {
     "data": {
      "text/plain": [
       "[['ENTY:cremat'], ['What films featured the character Popeye Doyle ?']]"
      ]
     },
     "execution_count": 261,
     "metadata": {},
     "output_type": "execute_result"
    }
   ],
   "source": [
    "dataPrep[1]"
   ]
  },
  {
   "cell_type": "code",
   "execution_count": 262,
   "metadata": {
    "collapsed": true
   },
   "outputs": [],
   "source": [
    "max_words = 50000\n",
    "#tokenize = text.Tokenizer(num_words=max_words, char_level=False)\n",
    "tokenize = text.Tokenizer(char_level=False)"
   ]
  },
  {
   "cell_type": "code",
   "execution_count": 263,
   "metadata": {
    "collapsed": true
   },
   "outputs": [],
   "source": [
    "tokenize.fit_on_texts(train_posts) # only fit on train\n",
    "x_train = tokenize.texts_to_matrix(train_posts)\n",
    "x_test = tokenize.texts_to_matrix(test_posts)"
   ]
  },
  {
   "cell_type": "code",
   "execution_count": 264,
   "metadata": {
    "collapsed": true
   },
   "outputs": [],
   "source": [
    "# Use sklearn utility to convert label strings to numbered index\n",
    "encoder = LabelEncoder()\n",
    "encoder.fit(train_tags)\n",
    "y_train = encoder.transform(train_tags)\n",
    "y_test = encoder.transform(test_tags)"
   ]
  },
  {
   "cell_type": "code",
   "execution_count": 265,
   "metadata": {
    "collapsed": false
   },
   "outputs": [],
   "source": [
    "# Converts the labels to a one-hot representation\n",
    "num_classes = np.max(y_train) + 1\n",
    "y_train = utils.to_categorical(y_train, num_classes)\n",
    "y_test = utils.to_categorical(y_test, num_classes)\n",
    "max_words = x_train.shape[1]"
   ]
  },
  {
   "cell_type": "code",
   "execution_count": 266,
   "metadata": {
    "collapsed": false
   },
   "outputs": [],
   "source": [
    "#y_train[0]"
   ]
  },
  {
   "cell_type": "code",
   "execution_count": 267,
   "metadata": {
    "collapsed": false
   },
   "outputs": [
    {
     "name": "stdout",
     "output_type": "stream",
     "text": [
      "x_train shape: (12361, 8372)\n",
      "x_test shape: (3091, 8372)\n",
      "y_train shape: (12361, 50)\n",
      "y_test shape: (3091, 50)\n"
     ]
    }
   ],
   "source": [
    "# Inspect the dimenstions of our training and test data (this is helpful to debug)\n",
    "print('x_train shape:', x_train.shape)\n",
    "print('x_test shape:', x_test.shape)\n",
    "print('y_train shape:', y_train.shape)\n",
    "print('y_test shape:', y_test.shape)"
   ]
  },
  {
   "cell_type": "code",
   "execution_count": 268,
   "metadata": {
    "collapsed": true
   },
   "outputs": [],
   "source": [
    "# This model trains very quickly and 2 epochs are already more than enough\n",
    "# Training for more epochs will likely lead to overfitting on this dataset\n",
    "# You can try tweaking these hyperparamaters when using this model with your own data\n",
    "batch_size = 32\n",
    "epochs = 30"
   ]
  },
  {
   "cell_type": "code",
   "execution_count": 269,
   "metadata": {
    "collapsed": false
   },
   "outputs": [],
   "source": [
    "# Build the model\n",
    "model = Sequential()\n",
    "model.add(Dense(512, input_shape=(max_words,),kernel_regularizer=regularizers.l2(0.001),\n",
    "                activity_regularizer=regularizers.l1(0.001)))\n",
    "model.add(Activation('relu'))\n",
    "#model.add(Dropout(0.2))\n",
    "model.add(Dense(256, input_shape=(max_words,),kernel_regularizer=regularizers.l2(0.001),\n",
    "                activity_regularizer=regularizers.l1(0.001)))\n",
    "model.add(Activation('relu'))\n",
    "#model.add(Dropout(0.2))\n",
    "model.add(Dense(num_classes))\n",
    "model.add(Activation('softmax'))\n",
    "\n",
    "model.compile(loss='categorical_crossentropy',\n",
    "              optimizer='adam',\n",
    "              metrics=['accuracy'])"
   ]
  },
  {
   "cell_type": "code",
   "execution_count": 270,
   "metadata": {
    "collapsed": false
   },
   "outputs": [
    {
     "name": "stdout",
     "output_type": "stream",
     "text": [
      "Train on 11124 samples, validate on 1237 samples\n",
      "Epoch 1/30\n",
      "11124/11124 [==============================] - 8s - loss: 3.0664 - acc: 0.5876 - val_loss: 2.5699 - val_acc: 0.6863\n",
      "Epoch 2/30\n",
      "11124/11124 [==============================] - 8s - loss: 1.8252 - acc: 0.8512 - val_loss: 2.2070 - val_acc: 0.7251\n",
      "Epoch 3/30\n",
      "11124/11124 [==============================] - 7s - loss: 1.4369 - acc: 0.9102 - val_loss: 2.0401 - val_acc: 0.7405\n",
      "Epoch 4/30\n",
      "11124/11124 [==============================] - 8s - loss: 1.2112 - acc: 0.9401 - val_loss: 1.9123 - val_acc: 0.7462\n",
      "Epoch 5/30\n",
      "11124/11124 [==============================] - 8s - loss: 1.0553 - acc: 0.9640 - val_loss: 1.8347 - val_acc: 0.7599\n",
      "Epoch 6/30\n",
      "11124/11124 [==============================] - 7s - loss: 0.9458 - acc: 0.9782 - val_loss: 1.7617 - val_acc: 0.7502\n",
      "Epoch 7/30\n",
      "11124/11124 [==============================] - 8s - loss: 0.8679 - acc: 0.9872 - val_loss: 1.6904 - val_acc: 0.7542\n",
      "Epoch 8/30\n",
      "11124/11124 [==============================] - 8s - loss: 0.8068 - acc: 0.9904 - val_loss: 1.6400 - val_acc: 0.7607\n",
      "Epoch 9/30\n",
      "11124/11124 [==============================] - 8s - loss: 0.7551 - acc: 0.9941 - val_loss: 1.5972 - val_acc: 0.7631\n",
      "Epoch 10/30\n",
      "11124/11124 [==============================] - 8s - loss: 0.7088 - acc: 0.9956 - val_loss: 1.5651 - val_acc: 0.7534\n",
      "Epoch 11/30\n",
      "11124/11124 [==============================] - 8s - loss: 0.6795 - acc: 0.9960 - val_loss: 1.5651 - val_acc: 0.7486\n",
      "Epoch 12/30\n",
      "11124/11124 [==============================] - 8s - loss: 0.6517 - acc: 0.9963 - val_loss: 1.5544 - val_acc: 0.7559\n",
      "Epoch 13/30\n",
      "11124/11124 [==============================] - 8s - loss: 0.6282 - acc: 0.9969 - val_loss: 1.5038 - val_acc: 0.7551\n",
      "Epoch 14/30\n",
      "11124/11124 [==============================] - 7s - loss: 0.6084 - acc: 0.9971 - val_loss: 1.4706 - val_acc: 0.7680\n",
      "Epoch 15/30\n",
      "11124/11124 [==============================] - 8s - loss: 0.5783 - acc: 0.9981 - val_loss: 1.4481 - val_acc: 0.7607\n",
      "Epoch 16/30\n",
      "11124/11124 [==============================] - 8s - loss: 0.5638 - acc: 0.9978 - val_loss: 1.4540 - val_acc: 0.7631\n",
      "Epoch 17/30\n",
      "11124/11124 [==============================] - 8s - loss: 0.5558 - acc: 0.9978 - val_loss: 1.4395 - val_acc: 0.7518\n",
      "Epoch 18/30\n",
      "11124/11124 [==============================] - 7s - loss: 0.5400 - acc: 0.9982 - val_loss: 1.4159 - val_acc: 0.7631\n",
      "Epoch 19/30\n",
      "11124/11124 [==============================] - 8s - loss: 0.5232 - acc: 0.9990 - val_loss: 1.3947 - val_acc: 0.7615\n",
      "Epoch 20/30\n",
      "11124/11124 [==============================] - 8s - loss: 0.5146 - acc: 0.9981 - val_loss: 1.3968 - val_acc: 0.7607\n",
      "Epoch 21/30\n",
      "11124/11124 [==============================] - 8s - loss: 0.5021 - acc: 0.9982 - val_loss: 1.3901 - val_acc: 0.7591\n",
      "Epoch 22/30\n",
      "11124/11124 [==============================] - 8s - loss: 0.4885 - acc: 0.9992 - val_loss: 1.3711 - val_acc: 0.7656\n",
      "Epoch 23/30\n",
      "11124/11124 [==============================] - 8s - loss: 0.4909 - acc: 0.9983 - val_loss: 1.4287 - val_acc: 0.7567\n",
      "Epoch 24/30\n",
      "11124/11124 [==============================] - 8s - loss: 0.5251 - acc: 0.9978 - val_loss: 1.3774 - val_acc: 0.7648\n",
      "Epoch 25/30\n",
      "11124/11124 [==============================] - 8s - loss: 0.4601 - acc: 0.9988 - val_loss: 1.3501 - val_acc: 0.7607\n",
      "Epoch 26/30\n",
      "11124/11124 [==============================] - 8s - loss: 0.4440 - acc: 0.9989 - val_loss: 1.3427 - val_acc: 0.7599\n",
      "Epoch 27/30\n",
      "11124/11124 [==============================] - 8s - loss: 0.4403 - acc: 0.9987 - val_loss: 1.3638 - val_acc: 0.7648\n",
      "Epoch 28/30\n",
      "11124/11124 [==============================] - 8s - loss: 0.4450 - acc: 0.9987 - val_loss: 1.3339 - val_acc: 0.7648\n",
      "Epoch 29/30\n",
      "11124/11124 [==============================] - 8s - loss: 0.4315 - acc: 0.9989 - val_loss: 1.3082 - val_acc: 0.7599\n",
      "Epoch 30/30\n",
      "11124/11124 [==============================] - 8s - loss: 0.4277 - acc: 0.9987 - val_loss: 1.4093 - val_acc: 0.7534\n"
     ]
    }
   ],
   "source": [
    "# model.fit trains the model\n",
    "# The validation_split param tells Keras what % of our training data should be used in the validation set\n",
    "# You can see the validation loss decreasing slowly when you run this\n",
    "# Because val_loss is no longer decreasing we stop training to prevent overfitting\n",
    "history = model.fit(x_train, y_train,\n",
    "                    batch_size=batch_size,\n",
    "                    epochs=epochs,\n",
    "                    verbose=1,\n",
    "                    validation_split=0.1)"
   ]
  },
  {
   "cell_type": "code",
   "execution_count": 271,
   "metadata": {
    "collapsed": false
   },
   "outputs": [
    {
     "name": "stdout",
     "output_type": "stream",
     "text": [
      "3091/3091 [==============================] - 0s     \n",
      "Test score: 0.5001113099\n",
      "Test accuracy: 0.989323843416\n"
     ]
    }
   ],
   "source": [
    "# Evaluate the accuracy of our trained model\n",
    "score = model.evaluate(x_test, y_test,\n",
    "                       batch_size=batch_size, verbose=1)\n",
    "print('Test score:', score[0])\n",
    "print('Test accuracy:', score[1])"
   ]
  },
  {
   "cell_type": "code",
   "execution_count": 272,
   "metadata": {
    "collapsed": false
   },
   "outputs": [
    {
     "name": "stdout",
     "output_type": "stream",
     "text": [
      "2752/3091 [=========================>....] - ETA: 0s"
     ]
    },
    {
     "data": {
      "text/plain": [
       "array([ 9,  9,  5, ...,  3, 34, 30])"
      ]
     },
     "execution_count": 272,
     "metadata": {},
     "output_type": "execute_result"
    }
   ],
   "source": [
    "model.predict_classes(x_test)"
   ]
  },
  {
   "cell_type": "code",
   "execution_count": 273,
   "metadata": {
    "collapsed": false
   },
   "outputs": [
    {
     "data": {
      "text/plain": [
       "array([[ 0.,  0.,  0., ...,  0.,  0.,  0.],\n",
       "       [ 0.,  0.,  0., ...,  0.,  0.,  0.],\n",
       "       [ 0.,  0.,  0., ...,  0.,  0.,  0.],\n",
       "       ..., \n",
       "       [ 0.,  0.,  0., ...,  0.,  0.,  0.],\n",
       "       [ 0.,  0.,  0., ...,  0.,  0.,  0.],\n",
       "       [ 0.,  0.,  0., ...,  0.,  0.,  0.]])"
      ]
     },
     "execution_count": 273,
     "metadata": {},
     "output_type": "execute_result"
    }
   ],
   "source": [
    "y_test"
   ]
  },
  {
   "cell_type": "code",
   "execution_count": null,
   "metadata": {
    "collapsed": true
   },
   "outputs": [],
   "source": []
  }
 ],
 "metadata": {
  "kernelspec": {
   "display_name": "Python [conda root]",
   "language": "python",
   "name": "conda-root-py"
  },
  "language_info": {
   "codemirror_mode": {
    "name": "ipython",
    "version": 3
   },
   "file_extension": ".py",
   "mimetype": "text/x-python",
   "name": "python",
   "nbconvert_exporter": "python",
   "pygments_lexer": "ipython3",
   "version": "3.5.2"
  }
 },
 "nbformat": 4,
 "nbformat_minor": 1
}
