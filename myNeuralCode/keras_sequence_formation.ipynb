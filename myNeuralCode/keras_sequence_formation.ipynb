{
 "cells": [
  {
   "cell_type": "code",
   "execution_count": 3,
   "metadata": {
    "collapsed": true
   },
   "outputs": [],
   "source": [
    "a = [[1,2,3],\n",
    "    [4,5,6],\n",
    "    [7,8,9],\n",
    "    [10,11,12],\n",
    "    [13,14,15],\n",
    "    [16,17,18]]"
   ]
  },
  {
   "cell_type": "code",
   "execution_count": 4,
   "metadata": {
    "collapsed": true
   },
   "outputs": [],
   "source": [
    "import pandas as pd"
   ]
  },
  {
   "cell_type": "code",
   "execution_count": 5,
   "metadata": {
    "collapsed": false
   },
   "outputs": [],
   "source": [
    "data = pd.DataFrame(a,columns=['a','b','c'])"
   ]
  },
  {
   "cell_type": "code",
   "execution_count": 6,
   "metadata": {
    "collapsed": false
   },
   "outputs": [
    {
     "data": {
      "text/html": [
       "<div>\n",
       "<table border=\"1\" class=\"dataframe\">\n",
       "  <thead>\n",
       "    <tr style=\"text-align: right;\">\n",
       "      <th></th>\n",
       "      <th>a</th>\n",
       "      <th>b</th>\n",
       "      <th>c</th>\n",
       "    </tr>\n",
       "  </thead>\n",
       "  <tbody>\n",
       "    <tr>\n",
       "      <th>0</th>\n",
       "      <td>1</td>\n",
       "      <td>2</td>\n",
       "      <td>3</td>\n",
       "    </tr>\n",
       "    <tr>\n",
       "      <th>1</th>\n",
       "      <td>4</td>\n",
       "      <td>5</td>\n",
       "      <td>6</td>\n",
       "    </tr>\n",
       "    <tr>\n",
       "      <th>2</th>\n",
       "      <td>7</td>\n",
       "      <td>8</td>\n",
       "      <td>9</td>\n",
       "    </tr>\n",
       "    <tr>\n",
       "      <th>3</th>\n",
       "      <td>10</td>\n",
       "      <td>11</td>\n",
       "      <td>12</td>\n",
       "    </tr>\n",
       "    <tr>\n",
       "      <th>4</th>\n",
       "      <td>13</td>\n",
       "      <td>14</td>\n",
       "      <td>15</td>\n",
       "    </tr>\n",
       "    <tr>\n",
       "      <th>5</th>\n",
       "      <td>16</td>\n",
       "      <td>17</td>\n",
       "      <td>18</td>\n",
       "    </tr>\n",
       "  </tbody>\n",
       "</table>\n",
       "</div>"
      ],
      "text/plain": [
       "    a   b   c\n",
       "0   1   2   3\n",
       "1   4   5   6\n",
       "2   7   8   9\n",
       "3  10  11  12\n",
       "4  13  14  15\n",
       "5  16  17  18"
      ]
     },
     "execution_count": 6,
     "metadata": {},
     "output_type": "execute_result"
    }
   ],
   "source": [
    "data"
   ]
  },
  {
   "cell_type": "code",
   "execution_count": 21,
   "metadata": {
    "collapsed": false
   },
   "outputs": [],
   "source": [
    "import numpy as np\n",
    "\n",
    "from keras.models import Sequential\n",
    "from keras.layers import Dense\n",
    "from keras.layers import LSTM\n",
    "\n",
    "# Input sequence\n",
    "wholeSequence = [[0,0,0,0,0,0,0,0,0,2,1],\n",
    "                 [0,0,0,0,0,0,0,0,2,1,0],\n",
    "                 [0,0,0,0,0,0,0,2,1,0,0],\n",
    "                 [0,0,0,0,0,0,2,1,0,0,0],\n",
    "                 [0,0,0,0,0,2,1,0,0,0,0],\n",
    "                 [0,0,0,0,2,1,0,0,0,0,0],\n",
    "                 [0,0,0,2,1,0,0,0,0,0,0],\n",
    "                 [0,0,2,1,0,0,0,0,0,0,0],\n",
    "                 [0,2,1,0,0,0,0,0,0,0,0],\n",
    "                 [2,1,0,0,0,0,0,0,0,0,0],\n",
    "                [0,0,0,0,0,0,0,0,0,3,1],\n",
    "                 [0,0,0,0,0,0,0,0,3,1,0],\n",
    "                 [0,0,0,0,0,0,0,3,1,0,0],\n",
    "                 [0,0,0,0,0,0,3,1,0,0,0],\n",
    "                 [0,0,0,0,0,3,1,0,0,0,0],\n",
    "                 [0,0,0,0,3,1,0,0,0,0,0],\n",
    "                 [0,0,0,3,1,0,0,0,0,0,0],\n",
    "                 [0,0,3,1,0,0,0,0,0,0,0],\n",
    "                 [0,3,1,0,0,0,0,0,0,0,0],\n",
    "                 [3,1,0,0,0,0,0,0,0,0,0]]\n",
    "\n",
    "# Preprocess Data:\n",
    "wholeSequence = np.array(wholeSequence, dtype=float) # Convert to NP array.\n",
    "data = wholeSequence[:-1] # all but last\n",
    "target = wholeSequence[1:] # all but first\n"
   ]
  },
  {
   "cell_type": "code",
   "execution_count": 22,
   "metadata": {
    "collapsed": false
   },
   "outputs": [
    {
     "data": {
      "text/plain": [
       "array([[ 0.,  0.,  0.,  0.,  0.,  0.,  0.,  0.,  0.,  2.,  1.],\n",
       "       [ 0.,  0.,  0.,  0.,  0.,  0.,  0.,  0.,  2.,  1.,  0.],\n",
       "       [ 0.,  0.,  0.,  0.,  0.,  0.,  0.,  2.,  1.,  0.,  0.],\n",
       "       [ 0.,  0.,  0.,  0.,  0.,  0.,  2.,  1.,  0.,  0.,  0.],\n",
       "       [ 0.,  0.,  0.,  0.,  0.,  2.,  1.,  0.,  0.,  0.,  0.],\n",
       "       [ 0.,  0.,  0.,  0.,  2.,  1.,  0.,  0.,  0.,  0.,  0.],\n",
       "       [ 0.,  0.,  0.,  2.,  1.,  0.,  0.,  0.,  0.,  0.,  0.],\n",
       "       [ 0.,  0.,  2.,  1.,  0.,  0.,  0.,  0.,  0.,  0.,  0.],\n",
       "       [ 0.,  2.,  1.,  0.,  0.,  0.,  0.,  0.,  0.,  0.,  0.],\n",
       "       [ 2.,  1.,  0.,  0.,  0.,  0.,  0.,  0.,  0.,  0.,  0.],\n",
       "       [ 0.,  0.,  0.,  0.,  0.,  0.,  0.,  0.,  0.,  3.,  1.],\n",
       "       [ 0.,  0.,  0.,  0.,  0.,  0.,  0.,  0.,  3.,  1.,  0.],\n",
       "       [ 0.,  0.,  0.,  0.,  0.,  0.,  0.,  3.,  1.,  0.,  0.],\n",
       "       [ 0.,  0.,  0.,  0.,  0.,  0.,  3.,  1.,  0.,  0.,  0.],\n",
       "       [ 0.,  0.,  0.,  0.,  0.,  3.,  1.,  0.,  0.,  0.,  0.],\n",
       "       [ 0.,  0.,  0.,  0.,  3.,  1.,  0.,  0.,  0.,  0.,  0.],\n",
       "       [ 0.,  0.,  0.,  3.,  1.,  0.,  0.,  0.,  0.,  0.,  0.],\n",
       "       [ 0.,  0.,  3.,  1.,  0.,  0.,  0.,  0.,  0.,  0.,  0.],\n",
       "       [ 0.,  3.,  1.,  0.,  0.,  0.,  0.,  0.,  0.,  0.,  0.]])"
      ]
     },
     "execution_count": 22,
     "metadata": {},
     "output_type": "execute_result"
    }
   ],
   "source": [
    "wholeSequence[:-1]"
   ]
  },
  {
   "cell_type": "code",
   "execution_count": 24,
   "metadata": {
    "collapsed": false
   },
   "outputs": [
    {
     "name": "stdout",
     "output_type": "stream",
     "text": [
      "[ 0.  0.  0.  0.  0.  0.  0.  0.  0.  2.  1.]\n",
      "TARGER\n",
      "[ 0.  0.  0.  0.  0.  0.  0.  0.  2.  1.  0.]\n",
      "[ 0.  0.  0.  0.  0.  0.  0.  0.  2.  1.  0.]\n",
      "TARGER\n",
      "[ 0.  0.  0.  0.  0.  0.  0.  2.  1.  0.  0.]\n",
      "[ 0.  0.  0.  0.  0.  0.  0.  2.  1.  0.  0.]\n",
      "TARGER\n",
      "[ 0.  0.  0.  0.  0.  0.  2.  1.  0.  0.  0.]\n",
      "[ 0.  0.  0.  0.  0.  0.  2.  1.  0.  0.  0.]\n",
      "TARGER\n",
      "[ 0.  0.  0.  0.  0.  2.  1.  0.  0.  0.  0.]\n",
      "[ 0.  0.  0.  0.  0.  2.  1.  0.  0.  0.  0.]\n",
      "TARGER\n",
      "[ 0.  0.  0.  0.  2.  1.  0.  0.  0.  0.  0.]\n",
      "[ 0.  0.  0.  0.  2.  1.  0.  0.  0.  0.  0.]\n",
      "TARGER\n",
      "[ 0.  0.  0.  2.  1.  0.  0.  0.  0.  0.  0.]\n",
      "[ 0.  0.  0.  2.  1.  0.  0.  0.  0.  0.  0.]\n",
      "TARGER\n",
      "[ 0.  0.  2.  1.  0.  0.  0.  0.  0.  0.  0.]\n",
      "[ 0.  0.  2.  1.  0.  0.  0.  0.  0.  0.  0.]\n",
      "TARGER\n",
      "[ 0.  2.  1.  0.  0.  0.  0.  0.  0.  0.  0.]\n",
      "[ 0.  2.  1.  0.  0.  0.  0.  0.  0.  0.  0.]\n",
      "TARGER\n",
      "[ 2.  1.  0.  0.  0.  0.  0.  0.  0.  0.  0.]\n",
      "[ 2.  1.  0.  0.  0.  0.  0.  0.  0.  0.  0.]\n",
      "TARGER\n",
      "[ 0.  0.  0.  0.  0.  0.  0.  0.  0.  3.  1.]\n",
      "[ 0.  0.  0.  0.  0.  0.  0.  0.  0.  3.  1.]\n",
      "TARGER\n",
      "[ 0.  0.  0.  0.  0.  0.  0.  0.  3.  1.  0.]\n",
      "[ 0.  0.  0.  0.  0.  0.  0.  0.  3.  1.  0.]\n",
      "TARGER\n",
      "[ 0.  0.  0.  0.  0.  0.  0.  3.  1.  0.  0.]\n",
      "[ 0.  0.  0.  0.  0.  0.  0.  3.  1.  0.  0.]\n",
      "TARGER\n",
      "[ 0.  0.  0.  0.  0.  0.  3.  1.  0.  0.  0.]\n",
      "[ 0.  0.  0.  0.  0.  0.  3.  1.  0.  0.  0.]\n",
      "TARGER\n",
      "[ 0.  0.  0.  0.  0.  3.  1.  0.  0.  0.  0.]\n",
      "[ 0.  0.  0.  0.  0.  3.  1.  0.  0.  0.  0.]\n",
      "TARGER\n",
      "[ 0.  0.  0.  0.  3.  1.  0.  0.  0.  0.  0.]\n",
      "[ 0.  0.  0.  0.  3.  1.  0.  0.  0.  0.  0.]\n",
      "TARGER\n",
      "[ 0.  0.  0.  3.  1.  0.  0.  0.  0.  0.  0.]\n",
      "[ 0.  0.  0.  3.  1.  0.  0.  0.  0.  0.  0.]\n",
      "TARGER\n",
      "[ 0.  0.  3.  1.  0.  0.  0.  0.  0.  0.  0.]\n",
      "[ 0.  0.  3.  1.  0.  0.  0.  0.  0.  0.  0.]\n",
      "TARGER\n",
      "[ 0.  3.  1.  0.  0.  0.  0.  0.  0.  0.  0.]\n",
      "[ 0.  3.  1.  0.  0.  0.  0.  0.  0.  0.  0.]\n",
      "TARGER\n",
      "[ 3.  1.  0.  0.  0.  0.  0.  0.  0.  0.  0.]\n"
     ]
    },
    {
     "ename": "ValueError",
     "evalue": "total size of new array must be unchanged",
     "output_type": "error",
     "traceback": [
      "\u001b[0;31m---------------------------------------------------------------------------\u001b[0m",
      "\u001b[0;31mValueError\u001b[0m                                Traceback (most recent call last)",
      "\u001b[0;32m<ipython-input-24-8894f7a35d51>\u001b[0m in \u001b[0;36m<module>\u001b[0;34m()\u001b[0m\n\u001b[1;32m      6\u001b[0m \u001b[0;31m# The training data needs to be (batchIndex, timeStepIndex, dimentionIndex)\u001b[0m\u001b[0;34m\u001b[0m\u001b[0;34m\u001b[0m\u001b[0m\n\u001b[1;32m      7\u001b[0m \u001b[0;31m# Single batch, 9 time steps, 11 dimentions\u001b[0m\u001b[0;34m\u001b[0m\u001b[0;34m\u001b[0m\u001b[0m\n\u001b[0;32m----> 8\u001b[0;31m \u001b[0mdata\u001b[0m \u001b[0;34m=\u001b[0m \u001b[0mdata\u001b[0m\u001b[0;34m.\u001b[0m\u001b[0mreshape\u001b[0m\u001b[0;34m(\u001b[0m\u001b[0;34m(\u001b[0m\u001b[0;36m2\u001b[0m\u001b[0;34m,\u001b[0m \u001b[0;36m9\u001b[0m\u001b[0;34m,\u001b[0m \u001b[0;36m11\u001b[0m\u001b[0;34m)\u001b[0m\u001b[0;34m)\u001b[0m\u001b[0;34m\u001b[0m\u001b[0m\n\u001b[0m\u001b[1;32m      9\u001b[0m \u001b[0mtarget\u001b[0m \u001b[0;34m=\u001b[0m \u001b[0mtarget\u001b[0m\u001b[0;34m.\u001b[0m\u001b[0mreshape\u001b[0m\u001b[0;34m(\u001b[0m\u001b[0;34m(\u001b[0m\u001b[0;36m1\u001b[0m\u001b[0;34m,\u001b[0m \u001b[0;36m9\u001b[0m\u001b[0;34m,\u001b[0m \u001b[0;36m11\u001b[0m\u001b[0;34m)\u001b[0m\u001b[0;34m)\u001b[0m\u001b[0;34m\u001b[0m\u001b[0m\n\u001b[1;32m     10\u001b[0m \u001b[0;34m\u001b[0m\u001b[0m\n",
      "\u001b[0;31mValueError\u001b[0m: total size of new array must be unchanged"
     ]
    }
   ],
   "source": [
    "for i,val in enumerate(data):\n",
    "    print(val)\n",
    "    print(\"TARGER\")\n",
    "    print(target[i])\n",
    "# Reshape training data for Keras LSTM model\n",
    "# The training data needs to be (batchIndex, timeStepIndex, dimentionIndex)\n",
    "# Single batch, 9 time steps, 11 dimentions\n",
    "data = data.reshape((2, 9, 11))\n",
    "target = target.reshape((1, 9, 11))\n",
    "\n",
    "# Build Model\n",
    "model = Sequential()  \n",
    "model.add(LSTM(11, input_shape=(9, 11), unroll=True, return_sequences=True))\n",
    "model.add(Dense(11))\n",
    "model.compile(loss='mean_absolute_error', optimizer='adam')\n",
    "model.fit(data, target, nb_epoch=2000, batch_size=1, verbose=10)\n"
   ]
  },
  {
   "cell_type": "code",
   "execution_count": 10,
   "metadata": {
    "collapsed": false
   },
   "outputs": [
    {
     "data": {
      "text/plain": [
       "array([[[ 0.,  0.,  0.,  0.,  0.,  0.,  0.,  0.,  0.,  2.,  1.],\n",
       "        [ 0.,  0.,  0.,  0.,  0.,  0.,  0.,  0.,  2.,  1.,  0.],\n",
       "        [ 0.,  0.,  0.,  0.,  0.,  0.,  0.,  2.,  1.,  0.,  0.],\n",
       "        [ 0.,  0.,  0.,  0.,  0.,  0.,  2.,  1.,  0.,  0.,  0.],\n",
       "        [ 0.,  0.,  0.,  0.,  0.,  2.,  1.,  0.,  0.,  0.,  0.],\n",
       "        [ 0.,  0.,  0.,  0.,  2.,  1.,  0.,  0.,  0.,  0.,  0.],\n",
       "        [ 0.,  0.,  0.,  2.,  1.,  0.,  0.,  0.,  0.,  0.,  0.],\n",
       "        [ 0.,  0.,  2.,  1.,  0.,  0.,  0.,  0.,  0.,  0.,  0.],\n",
       "        [ 0.,  2.,  1.,  0.,  0.,  0.,  0.,  0.,  0.,  0.,  0.]]])"
      ]
     },
     "execution_count": 10,
     "metadata": {},
     "output_type": "execute_result"
    }
   ],
   "source": [
    "data"
   ]
  },
  {
   "cell_type": "code",
   "execution_count": 11,
   "metadata": {
    "collapsed": false
   },
   "outputs": [
    {
     "data": {
      "text/plain": [
       "array([[[ 0.,  0.,  0.,  0.,  0.,  0.,  0.,  0.,  2.,  1.,  0.],\n",
       "        [ 0.,  0.,  0.,  0.,  0.,  0.,  0.,  2.,  1.,  0.,  0.],\n",
       "        [ 0.,  0.,  0.,  0.,  0.,  0.,  2.,  1.,  0.,  0.,  0.],\n",
       "        [ 0.,  0.,  0.,  0.,  0.,  2.,  1.,  0.,  0.,  0.,  0.],\n",
       "        [ 0.,  0.,  0.,  0.,  2.,  1.,  0.,  0.,  0.,  0.,  0.],\n",
       "        [ 0.,  0.,  0.,  2.,  1.,  0.,  0.,  0.,  0.,  0.,  0.],\n",
       "        [ 0.,  0.,  2.,  1.,  0.,  0.,  0.,  0.,  0.,  0.,  0.],\n",
       "        [ 0.,  2.,  1.,  0.,  0.,  0.,  0.,  0.,  0.,  0.,  0.],\n",
       "        [ 2.,  1.,  0.,  0.,  0.,  0.,  0.,  0.,  0.,  0.,  0.]]])"
      ]
     },
     "execution_count": 11,
     "metadata": {},
     "output_type": "execute_result"
    }
   ],
   "source": [
    "target"
   ]
  },
  {
   "cell_type": "code",
   "execution_count": 20,
   "metadata": {
    "collapsed": false
   },
   "outputs": [
    {
     "data": {
      "text/plain": [
       "array([[[  2.62141228e-04,   7.00205564e-04,  -3.26804817e-04,\n",
       "          -2.05848366e-04,   4.65136021e-04,   1.25348568e-04,\n",
       "          -7.05599785e-04,  -9.10550356e-04,   1.99991369e+00,\n",
       "           1.00014377e+00,  -4.70910221e-04],\n",
       "        [  3.49998474e-04,   2.01821327e-03,  -1.48685277e-03,\n",
       "          -8.78487714e-04,   1.37912855e-03,  -1.25610083e-03,\n",
       "           6.37508929e-05,   1.99937773e+00,   1.00118637e+00,\n",
       "           9.44331288e-04,  -8.30728561e-04],\n",
       "        [ -2.19970942e-04,   6.21765852e-04,   6.02751970e-06,\n",
       "          -1.26070809e-03,   1.05056167e-03,  -9.62037593e-04,\n",
       "           2.00056291e+00,   9.99927938e-01,   1.04707479e-03,\n",
       "           1.02618337e-03,  -2.32324004e-04],\n",
       "        [  6.31302595e-04,   1.08912587e-03,  -1.24078244e-04,\n",
       "           1.87197700e-04,   1.36017054e-03,   1.99862194e+00,\n",
       "           9.99378800e-01,  -5.56468964e-04,   1.68025494e-04,\n",
       "          -8.30471516e-04,  -3.69451940e-04],\n",
       "        [  1.33126974e-04,  -6.72191381e-04,   2.61317939e-04,\n",
       "          -2.18852796e-03,   2.00131273e+00,   1.00033545e+00,\n",
       "          -2.46037915e-03,  -5.52371144e-04,   6.47187233e-04,\n",
       "          -4.39941883e-04,  -1.32404268e-04],\n",
       "        [  3.15666199e-04,   2.54839659e-04,  -1.92222372e-03,\n",
       "           1.99927020e+00,   1.00101209e+00,   9.04925168e-04,\n",
       "          -2.15753168e-03,  -8.46616924e-04,   9.29117203e-04,\n",
       "           2.88859010e-04,  -4.74054366e-04],\n",
       "        [  7.38322735e-04,  -6.51329756e-04,   1.99786973e+00,\n",
       "           9.98987615e-01,   4.35926020e-04,   5.18742949e-04,\n",
       "          -1.85146928e-04,  -6.53252006e-04,   6.74486160e-04,\n",
       "           5.78179955e-04,   6.11551106e-04],\n",
       "        [ -1.84437633e-03,   2.00037527e+00,   9.98712599e-01,\n",
       "          -9.25133936e-04,   5.89098781e-04,  -2.09805369e-03,\n",
       "           3.85154039e-04,  -1.87113136e-03,   5.71459532e-04,\n",
       "           1.80944800e-04,   2.06902623e-05],\n",
       "        [  1.99842286e+00,   9.99917507e-01,  -6.43435866e-04,\n",
       "           3.80133279e-04,   1.47973746e-03,   8.14598054e-04,\n",
       "          -3.06048617e-03,  -8.85441899e-04,   1.32882595e-03,\n",
       "          -1.07561052e-03,   5.83790243e-05]]], dtype=float32)"
      ]
     },
     "execution_count": 20,
     "metadata": {},
     "output_type": "execute_result"
    }
   ],
   "source": [
    "#test = np.array([0.,  0.,  0.,  0.,  0.,  0.,  2.,  1.,  0.,  0.,  0.]).reshape(1,1,11)\n",
    "#print (test)\n",
    "model.predict(data)"
   ]
  },
  {
   "cell_type": "code",
   "execution_count": null,
   "metadata": {
    "collapsed": true
   },
   "outputs": [],
   "source": []
  }
 ],
 "metadata": {
  "anaconda-cloud": {},
  "kernelspec": {
   "display_name": "Python [conda root]",
   "language": "python",
   "name": "conda-root-py"
  },
  "language_info": {
   "codemirror_mode": {
    "name": "ipython",
    "version": 3
   },
   "file_extension": ".py",
   "mimetype": "text/x-python",
   "name": "python",
   "nbconvert_exporter": "python",
   "pygments_lexer": "ipython3",
   "version": "3.5.2"
  }
 },
 "nbformat": 4,
 "nbformat_minor": 1
}
